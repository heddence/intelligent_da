{
 "cells": [
  {
   "cell_type": "markdown",
   "metadata": {},
   "source": [
    "# Dataset 88"
   ]
  },
  {
   "cell_type": "markdown",
   "metadata": {},
   "source": [
    "# Phase 1. Exploratory analysis"
   ]
  },
  {
   "cell_type": "markdown",
   "metadata": {},
   "source": [
    "## 1. Basic description of the data together with their characteristics"
   ]
  },
  {
   "cell_type": "markdown",
   "metadata": {},
   "source": [
    "### 1. Analysis of data structures"
   ]
  },
  {
   "cell_type": "code",
   "execution_count": 1,
   "metadata": {},
   "outputs": [],
   "source": [
    "import pandas as pd\n",
    "import numpy as np\n",
    "import seaborn as sns\n",
    "import matplotlib.pyplot as plt\n",
    "import scipy.stats as stats"
   ]
  },
  {
   "cell_type": "code",
   "execution_count": 2,
   "metadata": {},
   "outputs": [
    {
     "data": {
      "text/html": [
       "<div>\n",
       "<style scoped>\n",
       "    .dataframe tbody tr th:only-of-type {\n",
       "        vertical-align: middle;\n",
       "    }\n",
       "\n",
       "    .dataframe tbody tr th {\n",
       "        vertical-align: top;\n",
       "    }\n",
       "\n",
       "    .dataframe thead th {\n",
       "        text-align: right;\n",
       "    }\n",
       "</style>\n",
       "<table border=\"1\" class=\"dataframe\">\n",
       "  <thead>\n",
       "    <tr style=\"text-align: right;\">\n",
       "      <th></th>\n",
       "      <th>pct_scroll_move_duration</th>\n",
       "      <th>pct_mouse_move</th>\n",
       "      <th>mouse_move_total_rel_distance</th>\n",
       "      <th>page_activity_duration</th>\n",
       "      <th>pct_scrandom</th>\n",
       "      <th>screen_width</th>\n",
       "      <th>ack</th>\n",
       "      <th>pct_mouse_click</th>\n",
       "      <th>pct_input</th>\n",
       "      <th>pct_click</th>\n",
       "      <th>...</th>\n",
       "      <th>user_id</th>\n",
       "      <th>scroll_move_total_rel_distance</th>\n",
       "      <th>pct_click_product_info</th>\n",
       "      <th>session_duration</th>\n",
       "      <th>pct_wild_mouse</th>\n",
       "      <th>screen_height</th>\n",
       "      <th>session_start</th>\n",
       "      <th>pct_rage_click</th>\n",
       "      <th>wild_mouse_duration</th>\n",
       "      <th>pct_doubleclick</th>\n",
       "    </tr>\n",
       "  </thead>\n",
       "  <tbody>\n",
       "    <tr>\n",
       "      <th>0</th>\n",
       "      <td>9.59904</td>\n",
       "      <td>7.68939</td>\n",
       "      <td>5.37487</td>\n",
       "      <td>8.36462</td>\n",
       "      <td>31.30541</td>\n",
       "      <td>800</td>\n",
       "      <td>0.0</td>\n",
       "      <td>9.13505</td>\n",
       "      <td>0.04125</td>\n",
       "      <td>9.68902</td>\n",
       "      <td>...</td>\n",
       "      <td>2181</td>\n",
       "      <td>11.36007</td>\n",
       "      <td>46.97437</td>\n",
       "      <td>66.07483</td>\n",
       "      <td>56.99436</td>\n",
       "      <td>800</td>\n",
       "      <td>2021-07-25 06:48:47</td>\n",
       "      <td>50.79621</td>\n",
       "      <td>13.68951</td>\n",
       "      <td>12.36846</td>\n",
       "    </tr>\n",
       "    <tr>\n",
       "      <th>1</th>\n",
       "      <td>7.53387</td>\n",
       "      <td>8.62357</td>\n",
       "      <td>9.09357</td>\n",
       "      <td>10.26733</td>\n",
       "      <td>53.09397</td>\n",
       "      <td>lower</td>\n",
       "      <td>1.0</td>\n",
       "      <td>8.63617</td>\n",
       "      <td>0.00756</td>\n",
       "      <td>12.24018</td>\n",
       "      <td>...</td>\n",
       "      <td>447</td>\n",
       "      <td>7.83061</td>\n",
       "      <td>47.09336</td>\n",
       "      <td>133.26423</td>\n",
       "      <td>19.65326</td>\n",
       "      <td>higher</td>\n",
       "      <td>2019-01-11 02:58:46</td>\n",
       "      <td>49.31536</td>\n",
       "      <td>11.98616</td>\n",
       "      <td>7.30068</td>\n",
       "    </tr>\n",
       "    <tr>\n",
       "      <th>2</th>\n",
       "      <td>8.27570</td>\n",
       "      <td>9.14421</td>\n",
       "      <td>7.75349</td>\n",
       "      <td>11.57870</td>\n",
       "      <td>37.21614</td>\n",
       "      <td>lower</td>\n",
       "      <td>1.0</td>\n",
       "      <td>8.69043</td>\n",
       "      <td>0.01219</td>\n",
       "      <td>10.83064</td>\n",
       "      <td>...</td>\n",
       "      <td>1958</td>\n",
       "      <td>8.30039</td>\n",
       "      <td>25.37883</td>\n",
       "      <td>97.32817</td>\n",
       "      <td>18.45055</td>\n",
       "      <td>768</td>\n",
       "      <td>2020-11-29 07:57:48</td>\n",
       "      <td>36.50380</td>\n",
       "      <td>12.46916</td>\n",
       "      <td>7.71466</td>\n",
       "    </tr>\n",
       "    <tr>\n",
       "      <th>3</th>\n",
       "      <td>9.38995</td>\n",
       "      <td>9.19876</td>\n",
       "      <td>7.21016</td>\n",
       "      <td>6.81575</td>\n",
       "      <td>56.69968</td>\n",
       "      <td>higher</td>\n",
       "      <td>0.0</td>\n",
       "      <td>9.37578</td>\n",
       "      <td>0.00616</td>\n",
       "      <td>11.86437</td>\n",
       "      <td>...</td>\n",
       "      <td>1195</td>\n",
       "      <td>9.38410</td>\n",
       "      <td>47.34555</td>\n",
       "      <td>120.87960</td>\n",
       "      <td>35.62900</td>\n",
       "      <td>600</td>\n",
       "      <td>2019-08-25 20:50:57</td>\n",
       "      <td>55.56358</td>\n",
       "      <td>11.78585</td>\n",
       "      <td>12.05817</td>\n",
       "    </tr>\n",
       "    <tr>\n",
       "      <th>4</th>\n",
       "      <td>8.50961</td>\n",
       "      <td>9.03280</td>\n",
       "      <td>8.92165</td>\n",
       "      <td>7.77596</td>\n",
       "      <td>58.27990</td>\n",
       "      <td>1366</td>\n",
       "      <td>0.0</td>\n",
       "      <td>9.91178</td>\n",
       "      <td>0.00026</td>\n",
       "      <td>11.65294</td>\n",
       "      <td>...</td>\n",
       "      <td>1241</td>\n",
       "      <td>7.14706</td>\n",
       "      <td>35.27738</td>\n",
       "      <td>128.79379</td>\n",
       "      <td>61.64424</td>\n",
       "      <td>800</td>\n",
       "      <td>2019-02-14 23:18:06</td>\n",
       "      <td>63.49090</td>\n",
       "      <td>8.42849</td>\n",
       "      <td>12.72820</td>\n",
       "    </tr>\n",
       "  </tbody>\n",
       "</table>\n",
       "<p>5 rows × 25 columns</p>\n",
       "</div>"
      ],
      "text/plain": [
       "   pct_scroll_move_duration  pct_mouse_move  mouse_move_total_rel_distance  \\\n",
       "0                   9.59904         7.68939                        5.37487   \n",
       "1                   7.53387         8.62357                        9.09357   \n",
       "2                   8.27570         9.14421                        7.75349   \n",
       "3                   9.38995         9.19876                        7.21016   \n",
       "4                   8.50961         9.03280                        8.92165   \n",
       "\n",
       "   page_activity_duration  pct_scrandom screen_width  ack  pct_mouse_click  \\\n",
       "0                 8.36462      31.30541          800  0.0          9.13505   \n",
       "1                10.26733      53.09397        lower  1.0          8.63617   \n",
       "2                11.57870      37.21614        lower  1.0          8.69043   \n",
       "3                 6.81575      56.69968       higher  0.0          9.37578   \n",
       "4                 7.77596      58.27990         1366  0.0          9.91178   \n",
       "\n",
       "   pct_input  pct_click  ...  user_id  scroll_move_total_rel_distance  \\\n",
       "0    0.04125    9.68902  ...     2181                        11.36007   \n",
       "1    0.00756   12.24018  ...      447                         7.83061   \n",
       "2    0.01219   10.83064  ...     1958                         8.30039   \n",
       "3    0.00616   11.86437  ...     1195                         9.38410   \n",
       "4    0.00026   11.65294  ...     1241                         7.14706   \n",
       "\n",
       "  pct_click_product_info  session_duration  pct_wild_mouse  screen_height  \\\n",
       "0               46.97437          66.07483        56.99436            800   \n",
       "1               47.09336         133.26423        19.65326         higher   \n",
       "2               25.37883          97.32817        18.45055            768   \n",
       "3               47.34555         120.87960        35.62900            600   \n",
       "4               35.27738         128.79379        61.64424            800   \n",
       "\n",
       "         session_start  pct_rage_click  wild_mouse_duration  pct_doubleclick  \n",
       "0  2021-07-25 06:48:47        50.79621             13.68951         12.36846  \n",
       "1  2019-01-11 02:58:46        49.31536             11.98616          7.30068  \n",
       "2  2020-11-29 07:57:48        36.50380             12.46916          7.71466  \n",
       "3  2019-08-25 20:50:57        55.56358             11.78585         12.05817  \n",
       "4  2019-02-14 23:18:06        63.49090              8.42849         12.72820  \n",
       "\n",
       "[5 rows x 25 columns]"
      ]
     },
     "execution_count": 2,
     "metadata": {},
     "output_type": "execute_result"
    }
   ],
   "source": [
    "session = pd.read_csv('data/session.csv', delimiter='\\t')\n",
    "session.head()"
   ]
  },
  {
   "cell_type": "code",
   "execution_count": 3,
   "metadata": {},
   "outputs": [
    {
     "name": "stdout",
     "output_type": "stream",
     "text": [
      "<class 'pandas.core.frame.DataFrame'>\n",
      "RangeIndex: 11100 entries, 0 to 11099\n",
      "Data columns (total 25 columns):\n",
      " #   Column                          Non-Null Count  Dtype  \n",
      "---  ------                          --------------  -----  \n",
      " 0   pct_scroll_move_duration        11089 non-null  float64\n",
      " 1   pct_mouse_move                  11089 non-null  float64\n",
      " 2   mouse_move_total_rel_distance   11089 non-null  float64\n",
      " 3   page_activity_duration          11089 non-null  float64\n",
      " 4   pct_scrandom                    11089 non-null  float64\n",
      " 5   screen_width                    11100 non-null  object \n",
      " 6   ack                             11100 non-null  float64\n",
      " 7   pct_mouse_click                 11089 non-null  float64\n",
      " 8   pct_input                       11089 non-null  float64\n",
      " 9   pct_click                       11088 non-null  float64\n",
      " 10  session_id                      11100 non-null  int64  \n",
      " 11  product_ean                     11100 non-null  int64  \n",
      " 12  browser_name                    11100 non-null  object \n",
      " 13  total_load_time                 11100 non-null  float64\n",
      " 14  pct_scroll_move                 11089 non-null  float64\n",
      " 15  user_id                         11100 non-null  int64  \n",
      " 16  scroll_move_total_rel_distance  11089 non-null  float64\n",
      " 17  pct_click_product_info          11089 non-null  float64\n",
      " 18  session_duration                11100 non-null  float64\n",
      " 19  pct_wild_mouse                  11089 non-null  float64\n",
      " 20  screen_height                   11100 non-null  object \n",
      " 21  session_start                   11100 non-null  object \n",
      " 22  pct_rage_click                  11089 non-null  float64\n",
      " 23  wild_mouse_duration             11088 non-null  float64\n",
      " 24  pct_doubleclick                 11089 non-null  float64\n",
      "dtypes: float64(18), int64(3), object(4)\n",
      "memory usage: 2.1+ MB\n"
     ]
    }
   ],
   "source": [
    "session.info()"
   ]
  },
  {
   "cell_type": "code",
   "execution_count": 4,
   "metadata": {},
   "outputs": [
    {
     "name": "stdout",
     "output_type": "stream",
     "text": [
      "session.shape: (11100, 25)\n"
     ]
    }
   ],
   "source": [
    "print('session.shape:', session.shape)"
   ]
  },
  {
   "cell_type": "code",
   "execution_count": 5,
   "metadata": {},
   "outputs": [
    {
     "data": {
      "text/html": [
       "<div>\n",
       "<style scoped>\n",
       "    .dataframe tbody tr th:only-of-type {\n",
       "        vertical-align: middle;\n",
       "    }\n",
       "\n",
       "    .dataframe tbody tr th {\n",
       "        vertical-align: top;\n",
       "    }\n",
       "\n",
       "    .dataframe thead th {\n",
       "        text-align: right;\n",
       "    }\n",
       "</style>\n",
       "<table border=\"1\" class=\"dataframe\">\n",
       "  <thead>\n",
       "    <tr style=\"text-align: right;\">\n",
       "      <th></th>\n",
       "      <th>code</th>\n",
       "      <th>store_name</th>\n",
       "      <th>location</th>\n",
       "      <th>product_ean</th>\n",
       "    </tr>\n",
       "  </thead>\n",
       "  <tbody>\n",
       "    <tr>\n",
       "      <th>0</th>\n",
       "      <td>CN</td>\n",
       "      <td>Tianfu</td>\n",
       "      <td>Asia/Shanghai</td>\n",
       "      <td>3219884099674</td>\n",
       "    </tr>\n",
       "    <tr>\n",
       "      <th>1</th>\n",
       "      <td>MA</td>\n",
       "      <td>Azrou</td>\n",
       "      <td>Africa/Casablanca</td>\n",
       "      <td>4361569838852</td>\n",
       "    </tr>\n",
       "    <tr>\n",
       "      <th>2</th>\n",
       "      <td>PK</td>\n",
       "      <td>Jhol</td>\n",
       "      <td>Asia/Karachi</td>\n",
       "      <td>943609752911</td>\n",
       "    </tr>\n",
       "    <tr>\n",
       "      <th>3</th>\n",
       "      <td>US</td>\n",
       "      <td>New City</td>\n",
       "      <td>America/Chicago</td>\n",
       "      <td>1160422163567</td>\n",
       "    </tr>\n",
       "    <tr>\n",
       "      <th>4</th>\n",
       "      <td>TN</td>\n",
       "      <td>Msaken</td>\n",
       "      <td>Africa/Tunis</td>\n",
       "      <td>8865331741532</td>\n",
       "    </tr>\n",
       "  </tbody>\n",
       "</table>\n",
       "</div>"
      ],
      "text/plain": [
       "  code store_name           location    product_ean\n",
       "0   CN     Tianfu      Asia/Shanghai  3219884099674\n",
       "1   MA      Azrou  Africa/Casablanca  4361569838852\n",
       "2   PK       Jhol       Asia/Karachi   943609752911\n",
       "3   US   New City    America/Chicago  1160422163567\n",
       "4   TN     Msaken       Africa/Tunis  8865331741532"
      ]
     },
     "execution_count": 5,
     "metadata": {},
     "output_type": "execute_result"
    }
   ],
   "source": [
    "product = pd.read_csv('data/product.csv', delimiter='\\t')\n",
    "product.head()"
   ]
  },
  {
   "cell_type": "code",
   "execution_count": 6,
   "metadata": {},
   "outputs": [
    {
     "name": "stdout",
     "output_type": "stream",
     "text": [
      "<class 'pandas.core.frame.DataFrame'>\n",
      "RangeIndex: 14968 entries, 0 to 14967\n",
      "Data columns (total 4 columns):\n",
      " #   Column       Non-Null Count  Dtype \n",
      "---  ------       --------------  ----- \n",
      " 0   code         14959 non-null  object\n",
      " 1   store_name   14968 non-null  object\n",
      " 2   location     14968 non-null  object\n",
      " 3   product_ean  14968 non-null  int64 \n",
      "dtypes: int64(1), object(3)\n",
      "memory usage: 467.9+ KB\n"
     ]
    }
   ],
   "source": [
    "product.info()"
   ]
  },
  {
   "cell_type": "code",
   "execution_count": 7,
   "metadata": {},
   "outputs": [
    {
     "name": "stdout",
     "output_type": "stream",
     "text": [
      "product.shape: (14968, 4)\n"
     ]
    }
   ],
   "source": [
    "print('product.shape:', product.shape)"
   ]
  },
  {
   "cell_type": "code",
   "execution_count": 8,
   "metadata": {},
   "outputs": [
    {
     "data": {
      "text/html": [
       "<div>\n",
       "<style scoped>\n",
       "    .dataframe tbody tr th:only-of-type {\n",
       "        vertical-align: middle;\n",
       "    }\n",
       "\n",
       "    .dataframe tbody tr th {\n",
       "        vertical-align: top;\n",
       "    }\n",
       "\n",
       "    .dataframe thead th {\n",
       "        text-align: right;\n",
       "    }\n",
       "</style>\n",
       "<table border=\"1\" class=\"dataframe\">\n",
       "  <thead>\n",
       "    <tr style=\"text-align: right;\">\n",
       "      <th></th>\n",
       "      <th>race</th>\n",
       "      <th>user_id</th>\n",
       "      <th>registration</th>\n",
       "      <th>sex</th>\n",
       "      <th>name</th>\n",
       "      <th>job</th>\n",
       "      <th>username</th>\n",
       "      <th>birthdate</th>\n",
       "      <th>mail</th>\n",
       "      <th>residence</th>\n",
       "      <th>address</th>\n",
       "    </tr>\n",
       "  </thead>\n",
       "  <tbody>\n",
       "    <tr>\n",
       "      <th>0</th>\n",
       "      <td>unspecified</td>\n",
       "      <td>2043</td>\n",
       "      <td>2021/06/09</td>\n",
       "      <td>NaN</td>\n",
       "      <td>Guilherme Vieira</td>\n",
       "      <td>NaN</td>\n",
       "      <td>benjamincardoso</td>\n",
       "      <td>NaN</td>\n",
       "      <td>bernardoda-costa@gmail.com</td>\n",
       "      <td>Colônia Cunha\\nSão Bernardo\\n82378944 Ribeiro ...</td>\n",
       "      <td>Estação Alana Azevedo, 1\\nVila Nova Paraíso\\n4...</td>\n",
       "    </tr>\n",
       "    <tr>\n",
       "      <th>1</th>\n",
       "      <td>NaN</td>\n",
       "      <td>765</td>\n",
       "      <td>28 Jun 2018</td>\n",
       "      <td>NaN</td>\n",
       "      <td>Bradley Allen</td>\n",
       "      <td>Mental health nurse</td>\n",
       "      <td>richard34</td>\n",
       "      <td>NaN</td>\n",
       "      <td>marcusgonzalez@hotmail.com</td>\n",
       "      <td>508 Brian Passage Suite 633\\nDianafurt, RI 48847</td>\n",
       "      <td>623 Baker Shores\\nNorth Andreatown, NM 02736</td>\n",
       "    </tr>\n",
       "    <tr>\n",
       "      <th>2</th>\n",
       "      <td>NaN</td>\n",
       "      <td>1813</td>\n",
       "      <td>13 Jul 2018</td>\n",
       "      <td>NaN</td>\n",
       "      <td>Kamila Holubová</td>\n",
       "      <td>Event organiser</td>\n",
       "      <td>krizovanikol</td>\n",
       "      <td>NaN</td>\n",
       "      <td>marcel49@volny.cz</td>\n",
       "      <td>Boční I 39\\n575 30 Veltrusy</td>\n",
       "      <td>Kováříkova 363\\n366 16 Libčice nad Vltavou</td>\n",
       "    </tr>\n",
       "    <tr>\n",
       "      <th>3</th>\n",
       "      <td>black</td>\n",
       "      <td>2243</td>\n",
       "      <td>2022-06-13</td>\n",
       "      <td>NaN</td>\n",
       "      <td>Marissa Poerio-Lattuada</td>\n",
       "      <td>NaN</td>\n",
       "      <td>morriconesylvia</td>\n",
       "      <td>1911-10-05</td>\n",
       "      <td>vittoria42@poste.it</td>\n",
       "      <td>NaN</td>\n",
       "      <td>Via Cipriano, 1 Appartamento 8\\n98137, Santo S...</td>\n",
       "    </tr>\n",
       "    <tr>\n",
       "      <th>4</th>\n",
       "      <td>NaN</td>\n",
       "      <td>1328</td>\n",
       "      <td>21 Jan 2019</td>\n",
       "      <td>NaN</td>\n",
       "      <td>Lubomír Doležal</td>\n",
       "      <td>Marketing executive</td>\n",
       "      <td>cermakovabarbora</td>\n",
       "      <td>1962-05-17</td>\n",
       "      <td>ivanakrizova@post.cz</td>\n",
       "      <td>Bermanova 27\\n762 59 Štětí</td>\n",
       "      <td>NaN</td>\n",
       "    </tr>\n",
       "  </tbody>\n",
       "</table>\n",
       "</div>"
      ],
      "text/plain": [
       "          race  user_id registration  sex                     name  \\\n",
       "0  unspecified     2043   2021/06/09  NaN         Guilherme Vieira   \n",
       "1          NaN      765  28 Jun 2018  NaN            Bradley Allen   \n",
       "2          NaN     1813  13 Jul 2018  NaN          Kamila Holubová   \n",
       "3        black     2243   2022-06-13  NaN  Marissa Poerio-Lattuada   \n",
       "4          NaN     1328  21 Jan 2019  NaN          Lubomír Doležal   \n",
       "\n",
       "                   job          username   birthdate  \\\n",
       "0                  NaN   benjamincardoso         NaN   \n",
       "1  Mental health nurse         richard34         NaN   \n",
       "2      Event organiser      krizovanikol         NaN   \n",
       "3                  NaN   morriconesylvia  1911-10-05   \n",
       "4  Marketing executive  cermakovabarbora  1962-05-17   \n",
       "\n",
       "                         mail  \\\n",
       "0  bernardoda-costa@gmail.com   \n",
       "1  marcusgonzalez@hotmail.com   \n",
       "2           marcel49@volny.cz   \n",
       "3         vittoria42@poste.it   \n",
       "4        ivanakrizova@post.cz   \n",
       "\n",
       "                                           residence  \\\n",
       "0  Colônia Cunha\\nSão Bernardo\\n82378944 Ribeiro ...   \n",
       "1   508 Brian Passage Suite 633\\nDianafurt, RI 48847   \n",
       "2                        Boční I 39\\n575 30 Veltrusy   \n",
       "3                                                NaN   \n",
       "4                         Bermanova 27\\n762 59 Štětí   \n",
       "\n",
       "                                             address  \n",
       "0  Estação Alana Azevedo, 1\\nVila Nova Paraíso\\n4...  \n",
       "1       623 Baker Shores\\nNorth Andreatown, NM 02736  \n",
       "2         Kováříkova 363\\n366 16 Libčice nad Vltavou  \n",
       "3  Via Cipriano, 1 Appartamento 8\\n98137, Santo S...  \n",
       "4                                                NaN  "
      ]
     },
     "execution_count": 8,
     "metadata": {},
     "output_type": "execute_result"
    }
   ],
   "source": [
    "user = pd.read_csv('data/user.csv', delimiter='\\t')\n",
    "user.head()"
   ]
  },
  {
   "cell_type": "code",
   "execution_count": 9,
   "metadata": {},
   "outputs": [
    {
     "name": "stdout",
     "output_type": "stream",
     "text": [
      "<class 'pandas.core.frame.DataFrame'>\n",
      "RangeIndex: 2532 entries, 0 to 2531\n",
      "Data columns (total 11 columns):\n",
      " #   Column        Non-Null Count  Dtype \n",
      "---  ------        --------------  ----- \n",
      " 0   race          760 non-null    object\n",
      " 1   user_id       2532 non-null   int64 \n",
      " 2   registration  2532 non-null   object\n",
      " 3   sex           1266 non-null   object\n",
      " 4   name          2532 non-null   object\n",
      " 5   job           1013 non-null   object\n",
      " 6   username      2532 non-null   object\n",
      " 7   birthdate     1393 non-null   object\n",
      " 8   mail          2532 non-null   object\n",
      " 9   residence     886 non-null    object\n",
      " 10  address       2152 non-null   object\n",
      "dtypes: int64(1), object(10)\n",
      "memory usage: 217.7+ KB\n"
     ]
    }
   ],
   "source": [
    "user.info()"
   ]
  },
  {
   "cell_type": "code",
   "execution_count": 10,
   "metadata": {},
   "outputs": [
    {
     "name": "stdout",
     "output_type": "stream",
     "text": [
      "user.shape: (2532, 11)\n"
     ]
    }
   ],
   "source": [
    "print('user.shape:', user.shape)"
   ]
  },
  {
   "cell_type": "markdown",
   "metadata": {},
   "source": [
    "### 2. Analysis of individual attributes"
   ]
  },
  {
   "cell_type": "code",
   "execution_count": 11,
   "metadata": {},
   "outputs": [
    {
     "data": {
      "image/png": "[encoded data removed]",
      "text/plain": [
       "<Figure size 1000x1500 with 10 Axes>"
      ]
     },
     "metadata": {},
     "output_type": "display_data"
    }
   ],
   "source": [
    "selected_attributes = ['pct_scroll_move_duration', 'pct_mouse_move', 'pct_scrandom',\n",
    "                       'pct_mouse_click', 'pct_click',\n",
    "                       'pct_scroll_move', 'pct_click_product_info', 'pct_wild_mouse',\n",
    "                       'pct_rage_click', 'pct_doubleclick']\n",
    "\n",
    "# Create subplots\n",
    "fig, axes = plt.subplots(nrows=len(selected_attributes) // 2, ncols=2, figsize=(10, 15))\n",
    "\n",
    "# Flatten the axes array for easy iteration\n",
    "axes = axes.flatten()\n",
    "\n",
    "# Loop through selected attributes\n",
    "for i, attribute in enumerate(selected_attributes):\n",
    "    if i < len(axes):  # Add this check to ensure you don't exceed the number of subplots\n",
    "        sns.histplot(session[attribute], kde=True, ax=axes[i])\n",
    "        axes[i].set_title(f'Distribution of {attribute}')\n",
    "\n",
    "# Adjust layout\n",
    "plt.suptitle('Distributions')\n",
    "plt.tight_layout()\n",
    "\n",
    "# Show the plot\n",
    "plt.show()"
   ]
  },
  {
   "cell_type": "code",
   "execution_count": 12,
   "metadata": {},
   "outputs": [
    {
     "data": {
      "image/png": "[encoded data removed]",
      "text/plain": [
       "<Figure size 1800x500 with 11 Axes>"
      ]
     },
     "metadata": {},
     "output_type": "display_data"
    }
   ],
   "source": [
    "fig, ax = plt.subplots(2, 6, figsize=(18, 5))\n",
    "ax = ax.flatten()\n",
    "\n",
    "for i, c in enumerate(selected_attributes):\n",
    "    sns.boxplot(data=session, x=c, ax=ax[i])\n",
    "\n",
    "fig.suptitle('Distributions of number of interactions (pct_)')\n",
    "fig.delaxes(ax[11])\n",
    "fig.tight_layout()\n",
    "plt.show()"
   ]
  },
  {
   "cell_type": "code",
   "execution_count": 13,
   "metadata": {},
   "outputs": [
    {
     "data": {
      "image/png": "[encoded data removed]",
      "text/plain": [
       "<Figure size 700x500 with 4 Axes>"
      ]
     },
     "metadata": {},
     "output_type": "display_data"
    }
   ],
   "source": [
    "fig, ax = plt.subplots(2, 2, figsize=(7, 5))\n",
    "ax = ax.flatten()\n",
    "\n",
    "for i, c in enumerate(['mouse_move_total_rel_distance', 'page_activity_duration',\n",
    "                       'scroll_move_total_rel_distance', 'wild_mouse_duration']):\n",
    "    sns.boxplot(data=session, x=c, ax=ax[i])\n",
    "\n",
    "fig.suptitle('Distributions of interactions during session')\n",
    "fig.tight_layout()\n",
    "plt.show()"
   ]
  },
  {
   "cell_type": "code",
   "execution_count": 14,
   "metadata": {},
   "outputs": [
    {
     "data": {
      "text/html": [
       "<div>\n",
       "<style scoped>\n",
       "    .dataframe tbody tr th:only-of-type {\n",
       "        vertical-align: middle;\n",
       "    }\n",
       "\n",
       "    .dataframe tbody tr th {\n",
       "        vertical-align: top;\n",
       "    }\n",
       "\n",
       "    .dataframe thead th {\n",
       "        text-align: right;\n",
       "    }\n",
       "</style>\n",
       "<table border=\"1\" class=\"dataframe\">\n",
       "  <thead>\n",
       "    <tr style=\"text-align: right;\">\n",
       "      <th></th>\n",
       "      <th>pct_scroll_move_duration</th>\n",
       "      <th>pct_mouse_move</th>\n",
       "      <th>pct_scrandom</th>\n",
       "      <th>pct_mouse_click</th>\n",
       "      <th>pct_click</th>\n",
       "      <th>pct_scroll_move</th>\n",
       "      <th>pct_click_product_info</th>\n",
       "      <th>pct_wild_mouse</th>\n",
       "      <th>pct_rage_click</th>\n",
       "      <th>pct_doubleclick</th>\n",
       "    </tr>\n",
       "  </thead>\n",
       "  <tbody>\n",
       "    <tr>\n",
       "      <th>count</th>\n",
       "      <td>11089.000000</td>\n",
       "      <td>11089.000000</td>\n",
       "      <td>11089.000000</td>\n",
       "      <td>11089.000000</td>\n",
       "      <td>11088.000000</td>\n",
       "      <td>11089.000000</td>\n",
       "      <td>11089.000000</td>\n",
       "      <td>11089.000000</td>\n",
       "      <td>11089.000000</td>\n",
       "      <td>11089.000000</td>\n",
       "    </tr>\n",
       "    <tr>\n",
       "      <th>mean</th>\n",
       "      <td>8.863328</td>\n",
       "      <td>8.869746</td>\n",
       "      <td>51.834695</td>\n",
       "      <td>8.892028</td>\n",
       "      <td>10.576188</td>\n",
       "      <td>55.484989</td>\n",
       "      <td>45.745217</td>\n",
       "      <td>47.581786</td>\n",
       "      <td>55.114312</td>\n",
       "      <td>7.934614</td>\n",
       "    </tr>\n",
       "    <tr>\n",
       "      <th>std</th>\n",
       "      <td>2.070682</td>\n",
       "      <td>1.000283</td>\n",
       "      <td>13.445601</td>\n",
       "      <td>1.005343</td>\n",
       "      <td>1.503111</td>\n",
       "      <td>11.504702</td>\n",
       "      <td>12.210080</td>\n",
       "      <td>13.578402</td>\n",
       "      <td>11.581450</td>\n",
       "      <td>1.991348</td>\n",
       "    </tr>\n",
       "    <tr>\n",
       "      <th>min</th>\n",
       "      <td>3.072970</td>\n",
       "      <td>4.200530</td>\n",
       "      <td>0.000000</td>\n",
       "      <td>4.982420</td>\n",
       "      <td>3.544250</td>\n",
       "      <td>0.000000</td>\n",
       "      <td>0.000000</td>\n",
       "      <td>0.000000</td>\n",
       "      <td>0.000000</td>\n",
       "      <td>0.577710</td>\n",
       "    </tr>\n",
       "    <tr>\n",
       "      <th>25%</th>\n",
       "      <td>7.149960</td>\n",
       "      <td>8.210180</td>\n",
       "      <td>42.763390</td>\n",
       "      <td>8.210940</td>\n",
       "      <td>9.681677</td>\n",
       "      <td>47.743630</td>\n",
       "      <td>37.551950</td>\n",
       "      <td>38.384280</td>\n",
       "      <td>47.375600</td>\n",
       "      <td>6.538070</td>\n",
       "    </tr>\n",
       "    <tr>\n",
       "      <th>50%</th>\n",
       "      <td>8.799820</td>\n",
       "      <td>8.872130</td>\n",
       "      <td>51.712620</td>\n",
       "      <td>8.888520</td>\n",
       "      <td>10.579185</td>\n",
       "      <td>55.534770</td>\n",
       "      <td>45.863560</td>\n",
       "      <td>47.378430</td>\n",
       "      <td>55.231740</td>\n",
       "      <td>7.658610</td>\n",
       "    </tr>\n",
       "    <tr>\n",
       "      <th>75%</th>\n",
       "      <td>10.590910</td>\n",
       "      <td>9.546220</td>\n",
       "      <td>60.811730</td>\n",
       "      <td>9.573020</td>\n",
       "      <td>11.467913</td>\n",
       "      <td>63.148590</td>\n",
       "      <td>53.769410</td>\n",
       "      <td>56.653100</td>\n",
       "      <td>62.858730</td>\n",
       "      <td>9.159700</td>\n",
       "    </tr>\n",
       "    <tr>\n",
       "      <th>max</th>\n",
       "      <td>15.273650</td>\n",
       "      <td>12.794460</td>\n",
       "      <td>100.000000</td>\n",
       "      <td>12.814200</td>\n",
       "      <td>17.211580</td>\n",
       "      <td>100.000000</td>\n",
       "      <td>100.000000</td>\n",
       "      <td>100.000000</td>\n",
       "      <td>100.000000</td>\n",
       "      <td>14.746930</td>\n",
       "    </tr>\n",
       "  </tbody>\n",
       "</table>\n",
       "</div>"
      ],
      "text/plain": [
       "       pct_scroll_move_duration  pct_mouse_move  pct_scrandom  \\\n",
       "count              11089.000000    11089.000000  11089.000000   \n",
       "mean                   8.863328        8.869746     51.834695   \n",
       "std                    2.070682        1.000283     13.445601   \n",
       "min                    3.072970        4.200530      0.000000   \n",
       "25%                    7.149960        8.210180     42.763390   \n",
       "50%                    8.799820        8.872130     51.712620   \n",
       "75%                   10.590910        9.546220     60.811730   \n",
       "max                   15.273650       12.794460    100.000000   \n",
       "\n",
       "       pct_mouse_click     pct_click  pct_scroll_move  pct_click_product_info  \\\n",
       "count     11089.000000  11088.000000     11089.000000            11089.000000   \n",
       "mean          8.892028     10.576188        55.484989               45.745217   \n",
       "std           1.005343      1.503111        11.504702               12.210080   \n",
       "min           4.982420      3.544250         0.000000                0.000000   \n",
       "25%           8.210940      9.681677        47.743630               37.551950   \n",
       "50%           8.888520     10.579185        55.534770               45.863560   \n",
       "75%           9.573020     11.467913        63.148590               53.769410   \n",
       "max          12.814200     17.211580       100.000000              100.000000   \n",
       "\n",
       "       pct_wild_mouse  pct_rage_click  pct_doubleclick  \n",
       "count    11089.000000    11089.000000     11089.000000  \n",
       "mean        47.581786       55.114312         7.934614  \n",
       "std         13.578402       11.581450         1.991348  \n",
       "min          0.000000        0.000000         0.577710  \n",
       "25%         38.384280       47.375600         6.538070  \n",
       "50%         47.378430       55.231740         7.658610  \n",
       "75%         56.653100       62.858730         9.159700  \n",
       "max        100.000000      100.000000        14.746930  "
      ]
     },
     "execution_count": 14,
     "metadata": {},
     "output_type": "execute_result"
    }
   ],
   "source": [
    "# Get basic descriptive statistics\n",
    "selected_data = session[selected_attributes]\n",
    "statistic = selected_data.describe()\n",
    "statistic"
   ]
  },
  {
   "cell_type": "markdown",
   "metadata": {},
   "source": [
    "### 3. Paired data analysis"
   ]
  },
  {
   "cell_type": "code",
   "execution_count": 15,
   "metadata": {},
   "outputs": [
    {
     "data": {
      "text/html": [
       "<div>\n",
       "<style scoped>\n",
       "    .dataframe tbody tr th:only-of-type {\n",
       "        vertical-align: middle;\n",
       "    }\n",
       "\n",
       "    .dataframe tbody tr th {\n",
       "        vertical-align: top;\n",
       "    }\n",
       "\n",
       "    .dataframe thead th {\n",
       "        text-align: right;\n",
       "    }\n",
       "</style>\n",
       "<table border=\"1\" class=\"dataframe\">\n",
       "  <thead>\n",
       "    <tr style=\"text-align: right;\">\n",
       "      <th></th>\n",
       "      <th>pct_scroll_move_duration</th>\n",
       "      <th>pct_mouse_move</th>\n",
       "      <th>pct_scrandom</th>\n",
       "      <th>pct_mouse_click</th>\n",
       "      <th>pct_click</th>\n",
       "      <th>pct_scroll_move</th>\n",
       "      <th>pct_click_product_info</th>\n",
       "      <th>pct_wild_mouse</th>\n",
       "      <th>pct_rage_click</th>\n",
       "      <th>pct_doubleclick</th>\n",
       "    </tr>\n",
       "  </thead>\n",
       "  <tbody>\n",
       "    <tr>\n",
       "      <th>pct_scroll_move_duration</th>\n",
       "      <td>1.000000</td>\n",
       "      <td>0.020422</td>\n",
       "      <td>-0.005323</td>\n",
       "      <td>-0.011882</td>\n",
       "      <td>-0.161384</td>\n",
       "      <td>0.003352</td>\n",
       "      <td>-0.003045</td>\n",
       "      <td>0.005432</td>\n",
       "      <td>0.002284</td>\n",
       "      <td>0.337631</td>\n",
       "    </tr>\n",
       "    <tr>\n",
       "      <th>pct_mouse_move</th>\n",
       "      <td>0.020422</td>\n",
       "      <td>1.000000</td>\n",
       "      <td>-0.005942</td>\n",
       "      <td>0.005868</td>\n",
       "      <td>0.001649</td>\n",
       "      <td>-0.012905</td>\n",
       "      <td>0.000119</td>\n",
       "      <td>0.001410</td>\n",
       "      <td>-0.018629</td>\n",
       "      <td>0.004313</td>\n",
       "    </tr>\n",
       "    <tr>\n",
       "      <th>pct_scrandom</th>\n",
       "      <td>-0.005323</td>\n",
       "      <td>-0.005942</td>\n",
       "      <td>1.000000</td>\n",
       "      <td>-0.002728</td>\n",
       "      <td>-0.006444</td>\n",
       "      <td>0.008549</td>\n",
       "      <td>0.007164</td>\n",
       "      <td>0.001370</td>\n",
       "      <td>0.000734</td>\n",
       "      <td>-0.013985</td>\n",
       "    </tr>\n",
       "    <tr>\n",
       "      <th>pct_mouse_click</th>\n",
       "      <td>-0.011882</td>\n",
       "      <td>0.005868</td>\n",
       "      <td>-0.002728</td>\n",
       "      <td>1.000000</td>\n",
       "      <td>0.008440</td>\n",
       "      <td>0.011533</td>\n",
       "      <td>-0.001500</td>\n",
       "      <td>-0.012699</td>\n",
       "      <td>0.010973</td>\n",
       "      <td>0.000274</td>\n",
       "    </tr>\n",
       "    <tr>\n",
       "      <th>pct_click</th>\n",
       "      <td>-0.161384</td>\n",
       "      <td>0.001649</td>\n",
       "      <td>-0.006444</td>\n",
       "      <td>0.008440</td>\n",
       "      <td>1.000000</td>\n",
       "      <td>-0.000030</td>\n",
       "      <td>0.006995</td>\n",
       "      <td>0.007304</td>\n",
       "      <td>0.007486</td>\n",
       "      <td>0.202018</td>\n",
       "    </tr>\n",
       "    <tr>\n",
       "      <th>pct_scroll_move</th>\n",
       "      <td>0.003352</td>\n",
       "      <td>-0.012905</td>\n",
       "      <td>0.008549</td>\n",
       "      <td>0.011533</td>\n",
       "      <td>-0.000030</td>\n",
       "      <td>1.000000</td>\n",
       "      <td>0.006732</td>\n",
       "      <td>0.004598</td>\n",
       "      <td>-0.001369</td>\n",
       "      <td>-0.007142</td>\n",
       "    </tr>\n",
       "    <tr>\n",
       "      <th>pct_click_product_info</th>\n",
       "      <td>-0.003045</td>\n",
       "      <td>0.000119</td>\n",
       "      <td>0.007164</td>\n",
       "      <td>-0.001500</td>\n",
       "      <td>0.006995</td>\n",
       "      <td>0.006732</td>\n",
       "      <td>1.000000</td>\n",
       "      <td>-0.008260</td>\n",
       "      <td>0.001814</td>\n",
       "      <td>-0.001463</td>\n",
       "    </tr>\n",
       "    <tr>\n",
       "      <th>pct_wild_mouse</th>\n",
       "      <td>0.005432</td>\n",
       "      <td>0.001410</td>\n",
       "      <td>0.001370</td>\n",
       "      <td>-0.012699</td>\n",
       "      <td>0.007304</td>\n",
       "      <td>0.004598</td>\n",
       "      <td>-0.008260</td>\n",
       "      <td>1.000000</td>\n",
       "      <td>0.004192</td>\n",
       "      <td>0.006083</td>\n",
       "    </tr>\n",
       "    <tr>\n",
       "      <th>pct_rage_click</th>\n",
       "      <td>0.002284</td>\n",
       "      <td>-0.018629</td>\n",
       "      <td>0.000734</td>\n",
       "      <td>0.010973</td>\n",
       "      <td>0.007486</td>\n",
       "      <td>-0.001369</td>\n",
       "      <td>0.001814</td>\n",
       "      <td>0.004192</td>\n",
       "      <td>1.000000</td>\n",
       "      <td>0.003848</td>\n",
       "    </tr>\n",
       "    <tr>\n",
       "      <th>pct_doubleclick</th>\n",
       "      <td>0.337631</td>\n",
       "      <td>0.004313</td>\n",
       "      <td>-0.013985</td>\n",
       "      <td>0.000274</td>\n",
       "      <td>0.202018</td>\n",
       "      <td>-0.007142</td>\n",
       "      <td>-0.001463</td>\n",
       "      <td>0.006083</td>\n",
       "      <td>0.003848</td>\n",
       "      <td>1.000000</td>\n",
       "    </tr>\n",
       "  </tbody>\n",
       "</table>\n",
       "</div>"
      ],
      "text/plain": [
       "                          pct_scroll_move_duration  pct_mouse_move  \\\n",
       "pct_scroll_move_duration                  1.000000        0.020422   \n",
       "pct_mouse_move                            0.020422        1.000000   \n",
       "pct_scrandom                             -0.005323       -0.005942   \n",
       "pct_mouse_click                          -0.011882        0.005868   \n",
       "pct_click                                -0.161384        0.001649   \n",
       "pct_scroll_move                           0.003352       -0.012905   \n",
       "pct_click_product_info                   -0.003045        0.000119   \n",
       "pct_wild_mouse                            0.005432        0.001410   \n",
       "pct_rage_click                            0.002284       -0.018629   \n",
       "pct_doubleclick                           0.337631        0.004313   \n",
       "\n",
       "                          pct_scrandom  pct_mouse_click  pct_click  \\\n",
       "pct_scroll_move_duration     -0.005323        -0.011882  -0.161384   \n",
       "pct_mouse_move               -0.005942         0.005868   0.001649   \n",
       "pct_scrandom                  1.000000        -0.002728  -0.006444   \n",
       "pct_mouse_click              -0.002728         1.000000   0.008440   \n",
       "pct_click                    -0.006444         0.008440   1.000000   \n",
       "pct_scroll_move               0.008549         0.011533  -0.000030   \n",
       "pct_click_product_info        0.007164        -0.001500   0.006995   \n",
       "pct_wild_mouse                0.001370        -0.012699   0.007304   \n",
       "pct_rage_click                0.000734         0.010973   0.007486   \n",
       "pct_doubleclick              -0.013985         0.000274   0.202018   \n",
       "\n",
       "                          pct_scroll_move  pct_click_product_info  \\\n",
       "pct_scroll_move_duration         0.003352               -0.003045   \n",
       "pct_mouse_move                  -0.012905                0.000119   \n",
       "pct_scrandom                     0.008549                0.007164   \n",
       "pct_mouse_click                  0.011533               -0.001500   \n",
       "pct_click                       -0.000030                0.006995   \n",
       "pct_scroll_move                  1.000000                0.006732   \n",
       "pct_click_product_info           0.006732                1.000000   \n",
       "pct_wild_mouse                   0.004598               -0.008260   \n",
       "pct_rage_click                  -0.001369                0.001814   \n",
       "pct_doubleclick                 -0.007142               -0.001463   \n",
       "\n",
       "                          pct_wild_mouse  pct_rage_click  pct_doubleclick  \n",
       "pct_scroll_move_duration        0.005432        0.002284         0.337631  \n",
       "pct_mouse_move                  0.001410       -0.018629         0.004313  \n",
       "pct_scrandom                    0.001370        0.000734        -0.013985  \n",
       "pct_mouse_click                -0.012699        0.010973         0.000274  \n",
       "pct_click                       0.007304        0.007486         0.202018  \n",
       "pct_scroll_move                 0.004598       -0.001369        -0.007142  \n",
       "pct_click_product_info         -0.008260        0.001814        -0.001463  \n",
       "pct_wild_mouse                  1.000000        0.004192         0.006083  \n",
       "pct_rage_click                  0.004192        1.000000         0.003848  \n",
       "pct_doubleclick                 0.006083        0.003848         1.000000  "
      ]
     },
     "execution_count": 15,
     "metadata": {},
     "output_type": "execute_result"
    }
   ],
   "source": [
    "selected_data = session[selected_attributes]\n",
    "\n",
    "# Calculate correlations\n",
    "correlations = selected_data.corr()\n",
    "\n",
    "# Display correlation matrix\n",
    "correlations"
   ]
  },
  {
   "cell_type": "code",
   "execution_count": 16,
   "metadata": {},
   "outputs": [
    {
     "data": {
      "text/plain": [
       "Index(['pct_scroll_move_duration', 'pct_mouse_move',\n",
       "       'mouse_move_total_rel_distance', 'page_activity_duration',\n",
       "       'pct_scrandom', 'screen_width', 'ack', 'pct_mouse_click', 'pct_input',\n",
       "       'pct_click', 'session_id', 'product_ean', 'total_load_time',\n",
       "       'pct_scroll_move', 'user_id', 'scroll_move_total_rel_distance',\n",
       "       'pct_click_product_info', 'session_duration', 'pct_wild_mouse',\n",
       "       'screen_height', 'pct_rage_click', 'wild_mouse_duration',\n",
       "       'pct_doubleclick'],\n",
       "      dtype='object')"
      ]
     },
     "execution_count": 16,
     "metadata": {},
     "output_type": "execute_result"
    }
   ],
   "source": [
    "session_num = session.drop(['browser_name', 'session_start'], axis=1)\n",
    "session_num.columns"
   ]
  },
  {
   "cell_type": "markdown",
   "metadata": {},
   "source": [
    "There are no much correlated variables in this dataset. Columns which are correlated with column `ack` are: `wild_mouse_duration`, `pct_doubleclick`, `scroll_move_total_rel_distance`, `page_activity_duration`."
   ]
  },
  {
   "cell_type": "code",
   "execution_count": 17,
   "metadata": {},
   "outputs": [
    {
     "name": "stdout",
     "output_type": "stream",
     "text": [
      "ack                               1.000000\n",
      "page_activity_duration            0.710296\n",
      "total_load_time                   0.012219\n",
      "pct_scroll_move                   0.009639\n",
      "pct_mouse_move                    0.005855\n",
      "mouse_move_total_rel_distance     0.004392\n",
      "pct_scroll_move_duration          0.004375\n",
      "pct_scrandom                      0.001609\n",
      "pct_click                        -0.001817\n",
      "pct_mouse_click                  -0.002547\n",
      "pct_click_product_info           -0.005612\n",
      "session_duration                 -0.011340\n",
      "wild_mouse_duration              -0.357072\n",
      "pct_doubleclick                  -0.395048\n",
      "scroll_move_total_rel_distance   -0.710558\n",
      "Name: ack, dtype: float64\n"
     ]
    }
   ],
   "source": [
    "selected_attributes = [\n",
    "    'pct_scroll_move_duration', 'pct_mouse_move', 'mouse_move_total_rel_distance',\n",
    "    'page_activity_duration', 'pct_scrandom', 'pct_mouse_click',\n",
    "    'pct_click', 'total_load_time', 'pct_scroll_move', 'scroll_move_total_rel_distance',\n",
    "    'pct_click_product_info', 'session_duration', 'wild_mouse_duration',\n",
    "    'pct_doubleclick', 'ack'\n",
    "]\n",
    "\n",
    "selected_data = session[selected_attributes]\n",
    "\n",
    "correlations = selected_data.corr()['ack'].sort_values(ascending=False)\n",
    "\n",
    "print(correlations)"
   ]
  },
  {
   "cell_type": "markdown",
   "metadata": {},
   "source": [
    "## 2. Identifying problems in data with an initial solution"
   ]
  },
  {
   "cell_type": "markdown",
   "metadata": {},
   "source": [
    "### 1. Data Cleaning: `session`"
   ]
  },
  {
   "cell_type": "code",
   "execution_count": 18,
   "metadata": {},
   "outputs": [
    {
     "name": "stdout",
     "output_type": "stream",
     "text": [
      "Ratio of missing values in columns:\n",
      "\n"
     ]
    },
    {
     "data": {
      "text/plain": [
       "pct_scroll_move_duration          0.000991\n",
       "pct_mouse_move                    0.000991\n",
       "mouse_move_total_rel_distance     0.000991\n",
       "page_activity_duration            0.000991\n",
       "pct_scrandom                      0.000991\n",
       "screen_width                      0.000000\n",
       "ack                               0.000000\n",
       "pct_mouse_click                   0.000991\n",
       "pct_input                         0.000991\n",
       "pct_click                         0.001081\n",
       "session_id                        0.000000\n",
       "product_ean                       0.000000\n",
       "browser_name                      0.000000\n",
       "total_load_time                   0.000000\n",
       "pct_scroll_move                   0.000991\n",
       "user_id                           0.000000\n",
       "scroll_move_total_rel_distance    0.000991\n",
       "pct_click_product_info            0.000991\n",
       "session_duration                  0.000000\n",
       "pct_wild_mouse                    0.000991\n",
       "screen_height                     0.000000\n",
       "session_start                     0.000000\n",
       "pct_rage_click                    0.000991\n",
       "wild_mouse_duration               0.001081\n",
       "pct_doubleclick                   0.000991\n",
       "dtype: float64"
      ]
     },
     "execution_count": 18,
     "metadata": {},
     "output_type": "execute_result"
    }
   ],
   "source": [
    "print(f'Ratio of missing values in columns:\\n')\n",
    "session.isnull().sum() / len(session)"
   ]
  },
  {
   "cell_type": "code",
   "execution_count": 19,
   "metadata": {},
   "outputs": [
    {
     "data": {
      "text/plain": [
       "(11100, 25)"
      ]
     },
     "execution_count": 19,
     "metadata": {},
     "output_type": "execute_result"
    }
   ],
   "source": [
    "session.shape"
   ]
  },
  {
   "cell_type": "code",
   "execution_count": 20,
   "metadata": {},
   "outputs": [
    {
     "data": {
      "text/html": [
       "<div>\n",
       "<style scoped>\n",
       "    .dataframe tbody tr th:only-of-type {\n",
       "        vertical-align: middle;\n",
       "    }\n",
       "\n",
       "    .dataframe tbody tr th {\n",
       "        vertical-align: top;\n",
       "    }\n",
       "\n",
       "    .dataframe thead th {\n",
       "        text-align: right;\n",
       "    }\n",
       "</style>\n",
       "<table border=\"1\" class=\"dataframe\">\n",
       "  <thead>\n",
       "    <tr style=\"text-align: right;\">\n",
       "      <th></th>\n",
       "      <th>pct_scroll_move_duration</th>\n",
       "      <th>pct_mouse_move</th>\n",
       "      <th>mouse_move_total_rel_distance</th>\n",
       "      <th>page_activity_duration</th>\n",
       "      <th>pct_scrandom</th>\n",
       "      <th>ack</th>\n",
       "      <th>pct_mouse_click</th>\n",
       "      <th>pct_input</th>\n",
       "      <th>pct_click</th>\n",
       "      <th>session_id</th>\n",
       "      <th>...</th>\n",
       "      <th>total_load_time</th>\n",
       "      <th>pct_scroll_move</th>\n",
       "      <th>user_id</th>\n",
       "      <th>scroll_move_total_rel_distance</th>\n",
       "      <th>pct_click_product_info</th>\n",
       "      <th>session_duration</th>\n",
       "      <th>pct_wild_mouse</th>\n",
       "      <th>pct_rage_click</th>\n",
       "      <th>wild_mouse_duration</th>\n",
       "      <th>pct_doubleclick</th>\n",
       "    </tr>\n",
       "  </thead>\n",
       "  <tbody>\n",
       "    <tr>\n",
       "      <th>count</th>\n",
       "      <td>11089.000000</td>\n",
       "      <td>11089.000000</td>\n",
       "      <td>11089.000000</td>\n",
       "      <td>11089.000000</td>\n",
       "      <td>11089.000000</td>\n",
       "      <td>11100.000000</td>\n",
       "      <td>11089.000000</td>\n",
       "      <td>11089.000000</td>\n",
       "      <td>11088.000000</td>\n",
       "      <td>1.110000e+04</td>\n",
       "      <td>...</td>\n",
       "      <td>11100.000000</td>\n",
       "      <td>11089.000000</td>\n",
       "      <td>11100.000000</td>\n",
       "      <td>11089.000000</td>\n",
       "      <td>11089.000000</td>\n",
       "      <td>11100.000000</td>\n",
       "      <td>11089.000000</td>\n",
       "      <td>11089.000000</td>\n",
       "      <td>11088.000000</td>\n",
       "      <td>11089.000000</td>\n",
       "    </tr>\n",
       "    <tr>\n",
       "      <th>mean</th>\n",
       "      <td>8.863328</td>\n",
       "      <td>8.869746</td>\n",
       "      <td>7.182824</td>\n",
       "      <td>9.057408</td>\n",
       "      <td>51.834695</td>\n",
       "      <td>0.544685</td>\n",
       "      <td>8.892028</td>\n",
       "      <td>0.086754</td>\n",
       "      <td>10.576188</td>\n",
       "      <td>7.432213e+05</td>\n",
       "      <td>...</td>\n",
       "      <td>3.956264</td>\n",
       "      <td>55.484989</td>\n",
       "      <td>1242.806847</td>\n",
       "      <td>8.709711</td>\n",
       "      <td>45.745217</td>\n",
       "      <td>150.374473</td>\n",
       "      <td>47.581786</td>\n",
       "      <td>55.114312</td>\n",
       "      <td>11.984365</td>\n",
       "      <td>7.934614</td>\n",
       "    </tr>\n",
       "    <tr>\n",
       "      <th>std</th>\n",
       "      <td>2.070682</td>\n",
       "      <td>1.000283</td>\n",
       "      <td>1.444208</td>\n",
       "      <td>2.221683</td>\n",
       "      <td>13.445601</td>\n",
       "      <td>0.498022</td>\n",
       "      <td>1.005343</td>\n",
       "      <td>1.107476</td>\n",
       "      <td>1.503111</td>\n",
       "      <td>4.303225e+05</td>\n",
       "      <td>...</td>\n",
       "      <td>2.828242</td>\n",
       "      <td>11.504702</td>\n",
       "      <td>719.104294</td>\n",
       "      <td>2.200628</td>\n",
       "      <td>12.210080</td>\n",
       "      <td>59.128350</td>\n",
       "      <td>13.578402</td>\n",
       "      <td>11.581450</td>\n",
       "      <td>2.063099</td>\n",
       "      <td>1.991348</td>\n",
       "    </tr>\n",
       "    <tr>\n",
       "      <th>min</th>\n",
       "      <td>3.072970</td>\n",
       "      <td>4.200530</td>\n",
       "      <td>0.000000</td>\n",
       "      <td>0.696780</td>\n",
       "      <td>0.000000</td>\n",
       "      <td>0.000000</td>\n",
       "      <td>4.982420</td>\n",
       "      <td>0.000000</td>\n",
       "      <td>3.544250</td>\n",
       "      <td>1.016000e+03</td>\n",
       "      <td>...</td>\n",
       "      <td>0.016040</td>\n",
       "      <td>0.000000</td>\n",
       "      <td>0.000000</td>\n",
       "      <td>1.134530</td>\n",
       "      <td>0.000000</td>\n",
       "      <td>-109.714210</td>\n",
       "      <td>0.000000</td>\n",
       "      <td>0.000000</td>\n",
       "      <td>1.668660</td>\n",
       "      <td>0.577710</td>\n",
       "    </tr>\n",
       "    <tr>\n",
       "      <th>25%</th>\n",
       "      <td>7.149960</td>\n",
       "      <td>8.210180</td>\n",
       "      <td>6.199090</td>\n",
       "      <td>7.330220</td>\n",
       "      <td>42.763390</td>\n",
       "      <td>0.000000</td>\n",
       "      <td>8.210940</td>\n",
       "      <td>0.002000</td>\n",
       "      <td>9.681677</td>\n",
       "      <td>3.669202e+05</td>\n",
       "      <td>...</td>\n",
       "      <td>1.869945</td>\n",
       "      <td>47.743630</td>\n",
       "      <td>619.000000</td>\n",
       "      <td>7.000820</td>\n",
       "      <td>37.551950</td>\n",
       "      <td>110.561643</td>\n",
       "      <td>38.384280</td>\n",
       "      <td>47.375600</td>\n",
       "      <td>10.642758</td>\n",
       "      <td>6.538070</td>\n",
       "    </tr>\n",
       "    <tr>\n",
       "      <th>50%</th>\n",
       "      <td>8.799820</td>\n",
       "      <td>8.872130</td>\n",
       "      <td>7.194930</td>\n",
       "      <td>9.201730</td>\n",
       "      <td>51.712620</td>\n",
       "      <td>1.000000</td>\n",
       "      <td>8.888520</td>\n",
       "      <td>0.007110</td>\n",
       "      <td>10.579185</td>\n",
       "      <td>7.423380e+05</td>\n",
       "      <td>...</td>\n",
       "      <td>3.303360</td>\n",
       "      <td>55.534770</td>\n",
       "      <td>1245.000000</td>\n",
       "      <td>8.613320</td>\n",
       "      <td>45.863560</td>\n",
       "      <td>150.239795</td>\n",
       "      <td>47.378430</td>\n",
       "      <td>55.231740</td>\n",
       "      <td>11.927080</td>\n",
       "      <td>7.658610</td>\n",
       "    </tr>\n",
       "    <tr>\n",
       "      <th>75%</th>\n",
       "      <td>10.590910</td>\n",
       "      <td>9.546220</td>\n",
       "      <td>8.137260</td>\n",
       "      <td>10.771540</td>\n",
       "      <td>60.811730</td>\n",
       "      <td>1.000000</td>\n",
       "      <td>9.573020</td>\n",
       "      <td>0.027830</td>\n",
       "      <td>11.467913</td>\n",
       "      <td>1.116794e+06</td>\n",
       "      <td>...</td>\n",
       "      <td>5.340663</td>\n",
       "      <td>63.148590</td>\n",
       "      <td>1861.000000</td>\n",
       "      <td>10.431300</td>\n",
       "      <td>53.769410</td>\n",
       "      <td>190.747430</td>\n",
       "      <td>56.653100</td>\n",
       "      <td>62.858730</td>\n",
       "      <td>13.297320</td>\n",
       "      <td>9.159700</td>\n",
       "    </tr>\n",
       "    <tr>\n",
       "      <th>max</th>\n",
       "      <td>15.273650</td>\n",
       "      <td>12.794460</td>\n",
       "      <td>12.452580</td>\n",
       "      <td>16.089860</td>\n",
       "      <td>100.000000</td>\n",
       "      <td>1.000000</td>\n",
       "      <td>12.814200</td>\n",
       "      <td>100.000000</td>\n",
       "      <td>17.211580</td>\n",
       "      <td>1.499929e+06</td>\n",
       "      <td>...</td>\n",
       "      <td>23.733920</td>\n",
       "      <td>100.000000</td>\n",
       "      <td>2499.000000</td>\n",
       "      <td>15.576910</td>\n",
       "      <td>100.000000</td>\n",
       "      <td>387.116680</td>\n",
       "      <td>100.000000</td>\n",
       "      <td>100.000000</td>\n",
       "      <td>21.484190</td>\n",
       "      <td>14.746930</td>\n",
       "    </tr>\n",
       "  </tbody>\n",
       "</table>\n",
       "<p>8 rows × 21 columns</p>\n",
       "</div>"
      ],
      "text/plain": [
       "       pct_scroll_move_duration  pct_mouse_move  \\\n",
       "count              11089.000000    11089.000000   \n",
       "mean                   8.863328        8.869746   \n",
       "std                    2.070682        1.000283   \n",
       "min                    3.072970        4.200530   \n",
       "25%                    7.149960        8.210180   \n",
       "50%                    8.799820        8.872130   \n",
       "75%                   10.590910        9.546220   \n",
       "max                   15.273650       12.794460   \n",
       "\n",
       "       mouse_move_total_rel_distance  page_activity_duration  pct_scrandom  \\\n",
       "count                   11089.000000            11089.000000  11089.000000   \n",
       "mean                        7.182824                9.057408     51.834695   \n",
       "std                         1.444208                2.221683     13.445601   \n",
       "min                         0.000000                0.696780      0.000000   \n",
       "25%                         6.199090                7.330220     42.763390   \n",
       "50%                         7.194930                9.201730     51.712620   \n",
       "75%                         8.137260               10.771540     60.811730   \n",
       "max                        12.452580               16.089860    100.000000   \n",
       "\n",
       "                ack  pct_mouse_click     pct_input     pct_click  \\\n",
       "count  11100.000000     11089.000000  11089.000000  11088.000000   \n",
       "mean       0.544685         8.892028      0.086754     10.576188   \n",
       "std        0.498022         1.005343      1.107476      1.503111   \n",
       "min        0.000000         4.982420      0.000000      3.544250   \n",
       "25%        0.000000         8.210940      0.002000      9.681677   \n",
       "50%        1.000000         8.888520      0.007110     10.579185   \n",
       "75%        1.000000         9.573020      0.027830     11.467913   \n",
       "max        1.000000        12.814200    100.000000     17.211580   \n",
       "\n",
       "         session_id  ...  total_load_time  pct_scroll_move       user_id  \\\n",
       "count  1.110000e+04  ...     11100.000000     11089.000000  11100.000000   \n",
       "mean   7.432213e+05  ...         3.956264        55.484989   1242.806847   \n",
       "std    4.303225e+05  ...         2.828242        11.504702    719.104294   \n",
       "min    1.016000e+03  ...         0.016040         0.000000      0.000000   \n",
       "25%    3.669202e+05  ...         1.869945        47.743630    619.000000   \n",
       "50%    7.423380e+05  ...         3.303360        55.534770   1245.000000   \n",
       "75%    1.116794e+06  ...         5.340663        63.148590   1861.000000   \n",
       "max    1.499929e+06  ...        23.733920       100.000000   2499.000000   \n",
       "\n",
       "       scroll_move_total_rel_distance  pct_click_product_info  \\\n",
       "count                    11089.000000            11089.000000   \n",
       "mean                         8.709711               45.745217   \n",
       "std                          2.200628               12.210080   \n",
       "min                          1.134530                0.000000   \n",
       "25%                          7.000820               37.551950   \n",
       "50%                          8.613320               45.863560   \n",
       "75%                         10.431300               53.769410   \n",
       "max                         15.576910              100.000000   \n",
       "\n",
       "       session_duration  pct_wild_mouse  pct_rage_click  wild_mouse_duration  \\\n",
       "count      11100.000000    11089.000000    11089.000000         11088.000000   \n",
       "mean         150.374473       47.581786       55.114312            11.984365   \n",
       "std           59.128350       13.578402       11.581450             2.063099   \n",
       "min         -109.714210        0.000000        0.000000             1.668660   \n",
       "25%          110.561643       38.384280       47.375600            10.642758   \n",
       "50%          150.239795       47.378430       55.231740            11.927080   \n",
       "75%          190.747430       56.653100       62.858730            13.297320   \n",
       "max          387.116680      100.000000      100.000000            21.484190   \n",
       "\n",
       "       pct_doubleclick  \n",
       "count     11089.000000  \n",
       "mean          7.934614  \n",
       "std           1.991348  \n",
       "min           0.577710  \n",
       "25%           6.538070  \n",
       "50%           7.658610  \n",
       "75%           9.159700  \n",
       "max          14.746930  \n",
       "\n",
       "[8 rows x 21 columns]"
      ]
     },
     "execution_count": 20,
     "metadata": {},
     "output_type": "execute_result"
    }
   ],
   "source": [
    "session.describe()"
   ]
  },
  {
   "cell_type": "markdown",
   "metadata": {},
   "source": [
    "Replace values `lower` and `higher` in `screen_width` column by 0 and 1 respectively, so we can transform full column to int datatype:"
   ]
  },
  {
   "cell_type": "code",
   "execution_count": 21,
   "metadata": {},
   "outputs": [
    {
     "data": {
      "text/plain": [
       "array([ 800,    0,    1, 1366, 1280, 1024, 1920])"
      ]
     },
     "execution_count": 21,
     "metadata": {},
     "output_type": "execute_result"
    }
   ],
   "source": [
    "map_screen = {'lower': 0, 'higher': 1}\n",
    "\n",
    "session['screen_width'] = session['screen_width'].replace(map_screen)\n",
    "session['screen_width'] = session['screen_width'].astype(int)\n",
    "session['screen_width'].unique()"
   ]
  },
  {
   "cell_type": "markdown",
   "metadata": {},
   "source": [
    "Make the same procedure for the `screen_height` column:"
   ]
  },
  {
   "cell_type": "code",
   "execution_count": 22,
   "metadata": {},
   "outputs": [
    {
     "data": {
      "text/plain": [
       "array([ 800,    1,  768,  600, 1024, 1080,    0])"
      ]
     },
     "execution_count": 22,
     "metadata": {},
     "output_type": "execute_result"
    }
   ],
   "source": [
    "session['screen_height'] = session['screen_height'].replace(map_screen)\n",
    "session['screen_height'] = session['screen_height'].astype(int)\n",
    "session['screen_height'].unique()"
   ]
  },
  {
   "cell_type": "markdown",
   "metadata": {},
   "source": [
    "Transform column `session_start` to datetime object:"
   ]
  },
  {
   "cell_type": "code",
   "execution_count": 23,
   "metadata": {},
   "outputs": [],
   "source": [
    "session['session_start'] = pd.to_datetime(session['session_start'])"
   ]
  },
  {
   "cell_type": "markdown",
   "metadata": {},
   "source": [
    "Identify and drop `outliers`:"
   ]
  },
  {
   "cell_type": "code",
   "execution_count": 24,
   "metadata": {},
   "outputs": [],
   "source": [
    "def identify_outliers(a):\n",
    "    lower = a.quantile(0.25) - 1.5 * stats.iqr(a)\n",
    "    upper = a.quantile(0.75) + 1.5 * stats.iqr(a)\n",
    "    \n",
    "    return a[(a > upper) | (a < lower)]"
   ]
  },
  {
   "cell_type": "code",
   "execution_count": 25,
   "metadata": {},
   "outputs": [],
   "source": [
    "numeric_attributes = session.select_dtypes(include=['float64', 'int64']).columns.tolist()\n",
    "\n",
    "for attribute in numeric_attributes:\n",
    "    outliers = identify_outliers(session['total_load_time'])"
   ]
  },
  {
   "cell_type": "code",
   "execution_count": 26,
   "metadata": {},
   "outputs": [
    {
     "data": {
      "image/png": "[encoded data removed]",
      "text/plain": [
       "<Figure size 640x480 with 2 Axes>"
      ]
     },
     "metadata": {},
     "output_type": "display_data"
    }
   ],
   "source": [
    "session_num = session.drop(['browser_name', 'session_start'], axis=1)\n",
    "corr = session_num.corr()\n",
    "sns.heatmap(corr)\n",
    "plt.show()"
   ]
  },
  {
   "cell_type": "markdown",
   "metadata": {},
   "source": [
    "### 2. Data Cleaning: `product`"
   ]
  },
  {
   "cell_type": "code",
   "execution_count": 27,
   "metadata": {},
   "outputs": [
    {
     "name": "stdout",
     "output_type": "stream",
     "text": [
      "Ratio of missing values in columns:\n",
      "\n"
     ]
    },
    {
     "data": {
      "text/plain": [
       "code           0.000601\n",
       "store_name     0.000000\n",
       "location       0.000000\n",
       "product_ean    0.000000\n",
       "dtype: float64"
      ]
     },
     "execution_count": 27,
     "metadata": {},
     "output_type": "execute_result"
    }
   ],
   "source": [
    "print(f'Ratio of missing values in columns:\\n')\n",
    "product.isnull().sum() / len(product)"
   ]
  },
  {
   "cell_type": "code",
   "execution_count": 28,
   "metadata": {},
   "outputs": [],
   "source": [
    "product = product.dropna()"
   ]
  },
  {
   "cell_type": "markdown",
   "metadata": {},
   "source": [
    "Split column `location` by `region` and `city` columns, then drop the `location` column:"
   ]
  },
  {
   "cell_type": "code",
   "execution_count": 29,
   "metadata": {},
   "outputs": [],
   "source": [
    "region_city = product['location'].str.split('/', n=1, expand=True)\n",
    "product.loc[:, 'region'] = region_city[0]\n",
    "product.loc[:, 'city'] = region_city[1]\n",
    "product = product.drop('location', axis=1)"
   ]
  },
  {
   "cell_type": "markdown",
   "metadata": {},
   "source": [
    "Replace values in the new columns that have uncorrect results:"
   ]
  },
  {
   "cell_type": "code",
   "execution_count": 30,
   "metadata": {},
   "outputs": [],
   "source": [
    "map_city = {'Argentina/Cordoba': 'Cordoba', 'Argentina/Tucuman': 'Tucuman',\n",
    "            'Indiana/Indianapolis': 'Indianapolis', 'Argentina/Ushuaia': 'Ushuaia',\n",
    "            'Argentina/Buenos Aires': 'Buenos Aires'}\n",
    "product['city'] = product['city'].replace(map_city)\n",
    "product['city'] = product['city'].str.replace('_', ' ')"
   ]
  },
  {
   "cell_type": "markdown",
   "metadata": {},
   "source": [
    "## 3. Formulation and statistical verification of data hypotheses"
   ]
  },
  {
   "cell_type": "markdown",
   "metadata": {},
   "source": [
    "**$H_0$: Mean `scroll_move_total_rel_distance` during session have lower value when buying.**"
   ]
  },
  {
   "cell_type": "code",
   "execution_count": 31,
   "metadata": {},
   "outputs": [
    {
     "data": {
      "image/png": "[encoded data removed]",
      "text/plain": [
       "<Figure size 640x480 with 1 Axes>"
      ]
     },
     "metadata": {},
     "output_type": "display_data"
    }
   ],
   "source": [
    "sns.boxplot(data=session, x='scroll_move_total_rel_distance', hue='ack')\n",
    "plt.show()"
   ]
  },
  {
   "cell_type": "code",
   "execution_count": 32,
   "metadata": {},
   "outputs": [
    {
     "data": {
      "image/png": "[encoded data removed]",
      "text/plain": [
       "<Figure size 640x480 with 1 Axes>"
      ]
     },
     "metadata": {},
     "output_type": "display_data"
    }
   ],
   "source": [
    "sns.histplot(data=session, x='scroll_move_total_rel_distance', hue='ack')\n",
    "plt.show()"
   ]
  },
  {
   "cell_type": "code",
   "execution_count": 33,
   "metadata": {},
   "outputs": [],
   "source": [
    "session_ack0 = session[session['ack'] == 0]['scroll_move_total_rel_distance']\n",
    "session_ack1 = session[session['ack'] == 1]['scroll_move_total_rel_distance']"
   ]
  },
  {
   "cell_type": "code",
   "execution_count": 34,
   "metadata": {},
   "outputs": [
    {
     "name": "stdout",
     "output_type": "stream",
     "text": [
      "Statistics=nan, p=nan\n",
      "Probably different distributions\n"
     ]
    }
   ],
   "source": [
    "from scipy.stats import ttest_ind\n",
    "\n",
    "stat, p = ttest_ind(session_ack0, session_ack1)\n",
    "print(f'Statistics={stat:}, p={p}')\n",
    "\n",
    "if p > 0.05:\n",
    "\tprint('Probably the same distribution')\n",
    "else:\n",
    "\tprint('Probably different distributions')"
   ]
  },
  {
   "cell_type": "markdown",
   "metadata": {},
   "source": [
    "**We can accept $H_0$ hypothesis. The distributions are unequal and have different means.**"
   ]
  },
  {
   "cell_type": "markdown",
   "metadata": {},
   "source": [
    "**$H_0$: Mean `page_activity_duration` during session have lower value when not buying.**"
   ]
  },
  {
   "cell_type": "code",
   "execution_count": 35,
   "metadata": {},
   "outputs": [
    {
     "data": {
      "image/png": "[encoded data removed]",
      "text/plain": [
       "<Figure size 640x480 with 1 Axes>"
      ]
     },
     "metadata": {},
     "output_type": "display_data"
    }
   ],
   "source": [
    "sns.boxplot(data=session, x='page_activity_duration', hue='ack')\n",
    "plt.show()"
   ]
  },
  {
   "cell_type": "code",
   "execution_count": 36,
   "metadata": {},
   "outputs": [
    {
     "data": {
      "image/png": "[encoded data removed]",
      "text/plain": [
       "<Figure size 640x480 with 1 Axes>"
      ]
     },
     "metadata": {},
     "output_type": "display_data"
    }
   ],
   "source": [
    "sns.histplot(data=session, x='page_activity_duration', hue='ack')\n",
    "plt.show()"
   ]
  },
  {
   "cell_type": "code",
   "execution_count": 37,
   "metadata": {},
   "outputs": [],
   "source": [
    "session_ack0 = session[session['ack'] == 0]['page_activity_duration']\n",
    "session_ack1 = session[session['ack'] == 1]['page_activity_duration']"
   ]
  },
  {
   "cell_type": "code",
   "execution_count": 38,
   "metadata": {},
   "outputs": [
    {
     "name": "stdout",
     "output_type": "stream",
     "text": [
      "Statistics=nan, p=nan\n",
      "Probably different distributions\n"
     ]
    }
   ],
   "source": [
    "stat, p = ttest_ind(session_ack0, session_ack1)\n",
    "print(f'Statistics={stat:}, p={p}')\n",
    "\n",
    "if p > 0.05:\n",
    "\tprint('Probably the same distribution')\n",
    "else:\n",
    "\tprint('Probably different distributions')"
   ]
  },
  {
   "cell_type": "markdown",
   "metadata": {},
   "source": [
    "**We can accept $H_0$ hypothesis. The distributions are unequal and have different means.**"
   ]
  },
  {
   "cell_type": "markdown",
   "metadata": {},
   "source": [
    "**$H_0$: `page_activity_duration` has a Gaussian distribution.**"
   ]
  },
  {
   "cell_type": "code",
   "execution_count": 39,
   "metadata": {},
   "outputs": [
    {
     "data": {
      "image/png": "[encoded data removed]",
      "text/plain": [
       "<Figure size 640x480 with 1 Axes>"
      ]
     },
     "metadata": {},
     "output_type": "display_data"
    }
   ],
   "source": [
    "sns.histplot(data=session, x='page_activity_duration')\n",
    "plt.show()"
   ]
  },
  {
   "cell_type": "code",
   "execution_count": 40,
   "metadata": {},
   "outputs": [
    {
     "name": "stdout",
     "output_type": "stream",
     "text": [
      "Statistics=nan, p=nan\n",
      "Probably not Gaussian\n"
     ]
    }
   ],
   "source": [
    "from scipy.stats import normaltest\n",
    "stat, p = normaltest(session['page_activity_duration'])\n",
    "print(f'Statistics={stat:}, p={p}')\n",
    "\n",
    "if p > 0.05:\n",
    "\tprint('Probably Gaussian')\n",
    "else:\n",
    "\tprint('Probably not Gaussian')"
   ]
  },
  {
   "cell_type": "markdown",
   "metadata": {},
   "source": [
    "**We must discard $H_0$ hypothesis. The distribution of `page_activity_duration` is not Gaussian.**\n",
    "\n",
    "\n",
    "\n",
    "\n",
    "\n",
    "\n",
    "\n",
    "\n",
    "\n",
    "\n"
   ]
  },
  {
   "cell_type": "markdown",
   "metadata": {},
   "source": [
    "# Phase 2. Data preprocessing"
   ]
  },
  {
   "cell_type": "markdown",
   "metadata": {},
   "source": [
    "## 1. Integration and data cleaning"
   ]
  },
  {
   "cell_type": "markdown",
   "metadata": {},
   "source": [
    "### 1. Data Cleaning: `user`"
   ]
  },
  {
   "cell_type": "code",
   "execution_count": 41,
   "metadata": {},
   "outputs": [
    {
     "name": "stdout",
     "output_type": "stream",
     "text": [
      "Ratio of missing values in columns:\n",
      "\n"
     ]
    },
    {
     "data": {
      "text/plain": [
       "race            0.699842\n",
       "user_id         0.000000\n",
       "registration    0.000000\n",
       "sex             0.500000\n",
       "name            0.000000\n",
       "job             0.599921\n",
       "username        0.000000\n",
       "birthdate       0.449842\n",
       "mail            0.000000\n",
       "residence       0.650079\n",
       "address         0.150079\n",
       "dtype: float64"
      ]
     },
     "execution_count": 41,
     "metadata": {},
     "output_type": "execute_result"
    }
   ],
   "source": [
    "print(f'Ratio of missing values in columns:\\n')\n",
    "user.isnull().sum() / len(user)"
   ]
  },
  {
   "cell_type": "markdown",
   "metadata": {},
   "source": [
    "`race` column has 69% `NaN`s plus ~10% of unspecified values, which gives 79% missing values in column. This column can be dropped."
   ]
  },
  {
   "cell_type": "code",
   "execution_count": 42,
   "metadata": {},
   "outputs": [],
   "source": [
    "user = user.drop('race', axis=1)"
   ]
  },
  {
   "cell_type": "code",
   "execution_count": 43,
   "metadata": {},
   "outputs": [
    {
     "data": {
      "text/plain": [
       "sex\n",
       "NaN    1266\n",
       "M       646\n",
       "F       620\n",
       "Name: count, dtype: int64"
      ]
     },
     "execution_count": 43,
     "metadata": {},
     "output_type": "execute_result"
    }
   ],
   "source": [
    "user['sex'].value_counts(dropna=False)"
   ]
  },
  {
   "cell_type": "code",
   "execution_count": 44,
   "metadata": {},
   "outputs": [
    {
     "data": {
      "text/plain": [
       "sex\n",
       "Unknown    1266\n",
       "M           646\n",
       "F           620\n",
       "Name: count, dtype: int64"
      ]
     },
     "execution_count": 44,
     "metadata": {},
     "output_type": "execute_result"
    }
   ],
   "source": [
    "user.loc[user['sex'].isna(), 'sex'] = 'Unknown'\n",
    "user['sex'].value_counts(dropna=False)"
   ]
  },
  {
   "cell_type": "markdown",
   "metadata": {},
   "source": [
    "All unique jobs that present in `user` dataset:"
   ]
  },
  {
   "cell_type": "code",
   "execution_count": 45,
   "metadata": {},
   "outputs": [
    {
     "data": {
      "text/plain": [
       "array(['Academic librarian', 'Accommodation manager',\n",
       "       'Accountant, chartered', 'Accountant, chartered certified',\n",
       "       'Accountant, chartered public finance', 'Accounting technician',\n",
       "       'Acupuncturist', 'Administrador público', 'Administrator',\n",
       "       'Administrator, arts', 'Administrator, education',\n",
       "       'Administrator, local government', 'Adult guidance worker',\n",
       "       'Advertising art director', 'Advertising copywriter',\n",
       "       'Aeronautical engineer', 'Agente de combate à endemias',\n",
       "       'Agente de viagens', 'Agente penitenciário',\n",
       "       'Agricultural consultant', 'Agricultural engineer', 'Aid worker',\n",
       "       'Air broker', 'Air cabin crew', 'Airline pilot', 'Alergologista',\n",
       "       'Altenpfleger', 'Amenity horticulturist',\n",
       "       'Amolador de ferramentas', 'Angiologista', 'Animal nutritionist',\n",
       "       'Apontador de mão-de-obra', 'Arboriculturist', 'Archaeologist',\n",
       "       'Architect', 'Architectural technologist',\n",
       "       'Armed forces operational officer',\n",
       "       'Armed forces technical officer',\n",
       "       'Armed forces training and education officer',\n",
       "       'Arranjador musical', 'Artesão', 'Artist', 'Artista plástico',\n",
       "       'Arts administrator', 'Arts development officer', 'Arzt',\n",
       "       'Asphaltbauer', 'Assistente administrativo',\n",
       "       'Assistente de câmera', 'Associate Professor', 'Astronauta',\n",
       "       'Astronomer', 'Atendente', 'Atleta de canoagem',\n",
       "       'Atleta de tiro com arco', 'Audiological scientist',\n",
       "       'Augenoptiker', 'Ausbaufacharbeiter', 'Automotive engineer',\n",
       "       'Aviador', 'Babá', 'Bankkaufmann', 'Barista', 'Barrister',\n",
       "       'Bartender', 'Beamter', 'Binnenschiffer', 'Biomedical scientist',\n",
       "       'Biotecnólogo', 'Brewing technologist', 'Brigadeiro',\n",
       "       'Broadcast engineer', 'Broadcast presenter',\n",
       "       'Building services engineer', 'Building surveyor',\n",
       "       'Buyer, industrial', 'Bäcker', 'Cadista', 'Caldeireiro',\n",
       "       'Call centre manager', 'Careers adviser',\n",
       "       'Careers information officer', 'Carpinteiro', 'Cenógrafo',\n",
       "       'Ceramics designer', 'Chartered certified accountant',\n",
       "       'Chartered legal executive (England and Wales)',\n",
       "       'Chartered loss adjuster', 'Chemical engineer', 'Chemikant',\n",
       "       'Chief Executive Officer', 'Chief Financial Officer',\n",
       "       'Chief Marketing Officer', 'Chief Operating Officer',\n",
       "       'Child psychotherapist', 'Chiropodist', 'Chiropractor',\n",
       "       'Chirurgiemechaniker', 'Cientista social', 'Cineasta',\n",
       "       'Cinegrafista', 'Civil Service administrator',\n",
       "       'Civil Service fast streamer', 'Civil engineer, consulting',\n",
       "       'Civil engineer, contracting', 'Claims inspector/assessor',\n",
       "       'Clinical biochemist', 'Clinical cytogeneticist',\n",
       "       'Clinical embryologist', 'Clinical research associate',\n",
       "       'Cobrador de pedágio', 'Coloproctologista', 'Colour technologist',\n",
       "       'Comandante', 'Commercial horticulturist', 'Commissioning editor',\n",
       "       'Community arts worker', 'Community development worker',\n",
       "       'Community education officer', 'Community pharmacist',\n",
       "       'Comptroller', 'Computer games developer',\n",
       "       'Conference centre manager',\n",
       "       'Conservation officer, historic buildings',\n",
       "       'Conservator, museum/gallery', 'Consulting civil engineer',\n",
       "       'Contracting civil engineer',\n",
       "       'Control and instrumentation engineer', 'Controlador de vôo',\n",
       "       'Copy', 'Copywriter, advertising', 'Corporate investment banker',\n",
       "       'Corregedor de justiça', 'Corretor de imóveis',\n",
       "       'Corretor de seguros', 'Counselling psychologist', 'Counsellor',\n",
       "       'Coveiro/Sepultador', 'Cozinheira', 'Cumim', 'Curator',\n",
       "       'Dance movement psychotherapist', 'Database administrator',\n",
       "       'Dealer', 'Defensor Público', 'Designer', 'Designer de moda',\n",
       "       'Designer, exhibition/display', 'Designer, furniture',\n",
       "       'Designer, graphic', 'Designer, industrial/product',\n",
       "       'Designer, jewellery', 'Designer, multimedia',\n",
       "       'Designer, television/film set',\n",
       "       'Development worker, international aid', 'Dietitian',\n",
       "       'Dispensing optician', 'Doctor, general practice',\n",
       "       'Doctor, hospital', 'Drilling engineer', 'Drogist',\n",
       "       'Early years teacher', 'Ecologist', 'Economista', 'Ecólogo',\n",
       "       'Editor, film/video', 'Editor, magazine features',\n",
       "       'Education officer, community', 'Education officer, museum',\n",
       "       'Elektroniker', 'Embalsamador',\n",
       "       'Emergency planning/management officer', 'Encanador',\n",
       "       'Energy engineer', 'Energy manager', 'Engenheiro cartográfico',\n",
       "       'Engenheiro de controle e automação', 'Engenheiro de processos',\n",
       "       'Engenheiro de produto ou produção', 'Engenheiro naval',\n",
       "       'Engineer, agricultural', 'Engineer, automotive',\n",
       "       'Engineer, broadcasting (operations)',\n",
       "       'Engineer, civil (consulting)', 'Engineer, civil (contracting)',\n",
       "       'Engineer, electronics', 'Engineer, energy',\n",
       "       'Engineer, maintenance', 'Engineer, maintenance (IT)',\n",
       "       'Engineer, manufacturing', 'Engineer, manufacturing systems',\n",
       "       'Engineer, materials', 'Engineer, production',\n",
       "       'Engineer, structural', 'Engineer, technical sales',\n",
       "       'Engineering geologist', 'Environmental consultant',\n",
       "       'Environmental education officer',\n",
       "       'Equality and diversity officer', 'Equities trader', 'Ergonomist',\n",
       "       'Erzieher', 'Escriturário', 'Especialista em agronegócios',\n",
       "       'Estate agent', 'Event organiser', 'Exhibition designer',\n",
       "       'Exhibitions officer, museum/gallery', 'Fachinformatiker',\n",
       "       'Facilities manager', 'Farm manager', 'Fashion designer',\n",
       "       'Fast food restaurant manager', 'Faturista', 'Feirante',\n",
       "       'Field seismologist', 'Field trials officer', 'Figurante',\n",
       "       'Film/video editor', 'Financial manager', 'Financial risk analyst',\n",
       "       'Financial trader', 'Firefighter', 'Fleischer', 'Florist',\n",
       "       'Forensic scientist', 'Forneiro', 'Forstwirt', 'Frentista',\n",
       "       'Friseur', 'Funileiro', 'Furniture designer',\n",
       "       'Further education lecturer', 'Futures trader', 'Físico nuclear',\n",
       "       'Gandula', 'Garment/textile technologist',\n",
       "       'General practice doctor', 'Geneticist, molecular',\n",
       "       'Geographical information systems officer',\n",
       "       'Geophysical data processor', 'Geradorista', 'Gerente de banco',\n",
       "       'Gerente de inovações ou novos negócios',\n",
       "       'Gerente de riscos em seguros', 'Gestor público', 'Ginecologista',\n",
       "       'Glass blower/designer', 'Government social research officer',\n",
       "       'Grafologista', 'Haematologist', 'Headhunter', 'Health physicist',\n",
       "       'Heritage manager', 'Higher education careers adviser',\n",
       "       'Higher education lecturer',\n",
       "       'Historic buildings inspector/conservation officer',\n",
       "       'Holiday representative', 'Homeopath', 'Horticultural therapist',\n",
       "       'Horticulturist, commercial', 'Hospital pharmacist',\n",
       "       'Hydrogeologist', 'Hydrologist', 'IT consultant',\n",
       "       'IT sales professional', 'IT technical support officer',\n",
       "       'IT trainer', 'Immigration officer', 'Industrial buyer',\n",
       "       'Informatiker', 'Information officer',\n",
       "       'Information systems manager', 'Instrumentista musical',\n",
       "       'Insurance account manager', 'Insurance broker',\n",
       "       'Insurance claims handler', 'Insurance underwriter',\n",
       "       'Interior and spatial designer', 'Investigador de Polícia',\n",
       "       'Jewellery designer', 'Jogador de futebol', 'Jogador de golfe',\n",
       "       'Jogador de vôlei', 'Journalist, broadcasting',\n",
       "       'Journalist, magazine', 'Journalist, newspaper', 'Juiz de futebol',\n",
       "       'Juiz ou árbitro de futebol', 'Karateca', 'Kite-surfer',\n",
       "       'Koreanistiker', 'Krankenschwester', 'Laboratorista', 'Lamboteiro',\n",
       "       'Land/geomatics surveyor', 'Landscape architect', 'Lawyer',\n",
       "       'Lecturer, further education', 'Lecturer, higher education',\n",
       "       'Legal executive', 'Librarian, public', 'Licensed conveyancer',\n",
       "       'Lighting technician, broadcasting/film/video', 'Lobbyist',\n",
       "       'Local government officer', 'Lutador de jiu-jitsu',\n",
       "       'Lutador de kung fu', 'Lutador de luta livre',\n",
       "       'Magazine features editor', 'Magazine journalist',\n",
       "       'Maintenance engineer', 'Maitre', 'Make', 'Management consultant',\n",
       "       'Manufacturing engineer', 'Marine scientist', 'Market researcher',\n",
       "       'Marketing executive', 'Materials engineer', 'Mathematiker',\n",
       "       'Mechanical engineer', 'Mechaniker', 'Mecânico',\n",
       "       'Medical laboratory scientific officer',\n",
       "       'Medical sales representative', 'Medical secretary',\n",
       "       'Medizininformatiker', 'Meeiro', 'Mental health nurse',\n",
       "       'Merchant navy officer', 'Midwife', 'Moleiro', 'Mudlogger',\n",
       "       'Museum/gallery conservator', 'Museum/gallery curator',\n",
       "       'Musicoterapeuta', 'Nature conservation officer', 'Naturólogo',\n",
       "       'Necromaquiador', 'Nefrologista', 'Neonatologista',\n",
       "       'Network engineer', 'Newspaper journalist', 'Notário',\n",
       "       'Nurse, adult', 'Nurse, learning disability',\n",
       "       'Nurse, mental health', 'Nutritional therapist',\n",
       "       'Occupational psychologist', 'Oceanographer',\n",
       "       'Odontologista legal', 'Office manager', 'Oftalmologista',\n",
       "       'Ombudsman', 'Oncologist', 'Operational researcher',\n",
       "       'Operations geologist', 'Optician, dispensing', 'Orçamentista',\n",
       "       'Osteopath', 'Paginador', 'Paparazzo', 'Paramedic',\n",
       "       'Patent examiner', 'Patologista oral', 'Pension scheme manager',\n",
       "       'Pensions consultant', 'Personal trainer', 'Personnel officer',\n",
       "       'Pesquisador', 'Petroleum engineer', 'Pfleger',\n",
       "       'Pharmacist, hospital', 'Photographer', 'Physicist, medical',\n",
       "       'Physiological scientist', 'Physiotherapist', 'Phytotherapist',\n",
       "       'Pilot', 'Pilot, airline', 'Piloto de avião', 'Pintor',\n",
       "       'Pneumologista', 'Police officer', 'Policial civil',\n",
       "       \"Politician's assistant\", 'Polizist', 'Porteiro', 'Prefeito',\n",
       "       'Press sub', 'Print production planner', 'Probation officer',\n",
       "       'Product designer', 'Production assistant, radio',\n",
       "       'Production assistant, television', 'Production engineer',\n",
       "       'Production manager', 'Produtor de multimídia',\n",
       "       'Produtor editorial', 'Profissional de manutenção industrial',\n",
       "       'Profissional de marketing',\n",
       "       'Profissional de relacionamento com investidores RI',\n",
       "       'Profissional de relações internacionais',\n",
       "       'Profissional de rádio e tv', 'Programmer, applications',\n",
       "       'Programmer, systems', 'Programmierer', 'Proofreader',\n",
       "       'Psiquiatra', 'Psychiatric nurse', 'Psychologist, clinical',\n",
       "       'Psychologist, prison and probation services',\n",
       "       'Psychotherapist, child', 'Public affairs consultant',\n",
       "       'Public relations account executive', 'Publishing copy',\n",
       "       'Publishing rights manager', 'Quantity surveyor', 'Quarry manager',\n",
       "       'Radiation protection practitioner', 'Radio producer',\n",
       "       'Radiographer, therapeutic', 'Radiologista', 'Ranger/warden',\n",
       "       'Records manager', 'Recreador', 'Recruitment consultant',\n",
       "       'Representante comercial', 'Research officer, government',\n",
       "       'Research officer, political party',\n",
       "       'Research officer, trade union', 'Research scientist (maths)',\n",
       "       'Restaurador', 'Restaurant manager, fast food', 'Retail manager',\n",
       "       'Risk analyst', 'Runner, broadcasting/film/video',\n",
       "       'Rural practice surveyor', 'Sales promotion account executive',\n",
       "       'Saxofonista', 'Schornsteinfeger', 'Scientist, research (maths)',\n",
       "       'Scientist, water quality', 'Secretary, company',\n",
       "       'Secretary/administrator', 'Separador', 'Serralheiro',\n",
       "       'Serventuário', 'Ship broker', 'Skatista',\n",
       "       'Social research officer, government', 'Social researcher',\n",
       "       'Social worker', 'Soldado', 'Solicitor',\n",
       "       'Sound technician, broadcasting/film/video',\n",
       "       'Sport and exercise psychologist', 'Sports administrator',\n",
       "       'Sports therapist', 'Structural engineer', 'Surfista', 'Surgeon',\n",
       "       'Surveyor, building control', 'Surveyor, commercial/residential',\n",
       "       'Surveyor, hydrographic', 'Surveyor, land/geomatics',\n",
       "       'Surveyor, minerals', 'Systems analyst', 'Tabelião', 'Tapeceiro',\n",
       "       'Tax adviser', 'Tax inspector', 'Taxidermista/Embalsamador',\n",
       "       'Taxista', 'Tecelão', 'Technical brewer',\n",
       "       'Technical sales engineer', 'Techniker',\n",
       "       'Tecnólogo em Ciências das plantas medicinais',\n",
       "       'Tecnólogo em negócios imobiliários',\n",
       "       'Tecnólogo em produção Sucroalcooleira', 'Telegrafista',\n",
       "       'Television/film/video producer', 'Tesoureiro', 'Textile designer',\n",
       "       'Theatre manager', 'Theatre stage manager', 'Theme park manager',\n",
       "       'Therapist, art', 'Therapist, horticultural', 'Therapist, sports',\n",
       "       'Topógrafo', 'Tourism officer',\n",
       "       'Tourist information centre manager', 'Town planner',\n",
       "       'Training and development officer', 'Treinador', 'Técnico de som',\n",
       "       'Técnico em aviação', 'Técnico em desporto',\n",
       "       'Técnico em higiene dentária', 'Técnico em segurança do trabalho',\n",
       "       'Vigia parlamentar', 'Vigilante noturno/diurno',\n",
       "       'Visual merchandiser', 'Volunteer coordinator', 'Warden/ranger',\n",
       "       'Warehouse manager', 'Water engineer', 'Water quality scientist',\n",
       "       'Web designer', 'Winzer', 'Writer', 'YouTuber', 'お笑い芸人', 'アイドル',\n",
       "       'アナウンサー', 'アニメーター', 'アーティスト', 'アートディレクター', 'イラストレーター',\n",
       "       'ウェディングプランナー', 'ウェブデザイナー', 'エステティシャン', 'エンジニア演奏家', 'グラフィックデザイナー',\n",
       "       'ゲームクリエイター', 'コピーライター', 'バスガイド', '介護ヘルパー', '作曲家', '公務員', '公認会計士',\n",
       "       '医師', '医療事務員', '占い師', '和紙職人', '営業', '大学教授', '寿司職人', '小説家', '建築家',\n",
       "       '救急救命士', '映画監督', '栄養士', '検察官', '歯科医師', '気象予報士', '測量士', '演歌歌手',\n",
       "       '漫画家', '経営者', '絵本作家', '脚本家', '航海士', '花火師', '薬剤師', '行政書士', '裁判官',\n",
       "       '調理師', '農家', '運転士', '配管工', '電気工事士', '音楽家', '音響技術者', '高等学校教員', nan],\n",
       "      dtype=object)"
      ]
     },
     "execution_count": 45,
     "metadata": {},
     "output_type": "execute_result"
    }
   ],
   "source": [
    "user.sort_values(by='job')['job'].unique()"
   ]
  },
  {
   "cell_type": "markdown",
   "metadata": {},
   "source": [
    "Reduce number of unique jobs by making larger groups of jobs:"
   ]
  },
  {
   "cell_type": "code",
   "execution_count": 46,
   "metadata": {},
   "outputs": [],
   "source": [
    "jobs_dict = {'Academic librarian': 'Education', 'Accommodation manager': 'Manager', 'Accountant, chartered': 'Finance', 'Accountant, chartered certified': 'Finance',\n",
    "'Accountant, chartered public finance': 'Finance', 'Accounting technician': 'Finance', 'Acupuncturist': 'Medicine', 'Administrador público': 'Manager',\n",
    "'Administrator, arts': 'Manager', 'Administrator, education': 'Manager', 'Administrator, local government': 'Manager', 'Adult guidance worker': 'Adviser',\n",
    "'Advertising art director': 'Finance', 'Advertising copywriter': 'Finance','Aeronautical engineer': 'Engineer', 'Agente de combate à endemias': 'Worker',\n",
    "'Agente de viagens': 'Adviser', 'Agente penitenciário': 'Force', 'Agricultural consultant': 'Environment', 'Agricultural engineer': 'Environment', 'Aid worker': 'Medicine',\n",
    "'Air broker': 'Aviation', 'Air cabin crew': 'Aviation', 'Airline pilot': 'Aviation', 'Alergologista': 'Medicine', 'Altenpfleger': 'Medicine', 'Amenity horticulturist': 'Environment',\n",
    "'Amolador de ferramentas': 'Worker', 'Angiologista': 'Medicine', 'Animal nutritionist': 'Medicine', 'Apontador de mão-de-obra': 'Worker', 'Arboriculturist': 'Environment',\n",
    "'Archaeologist': 'Environment', 'Architect': 'Engineer', 'Architectural technologist': 'Engineer', 'Armed forces operational officer': 'Force', 'Armed forces technical officer': 'Force',\n",
    "'Armed forces training and education officer': 'Force', 'Arranjador musical': 'Arts', 'Artesão': 'Worker', 'Artist': 'Arts', 'Artista plástico': 'Arts', 'Arts administrator': 'Manager',\n",
    "'Arts development officer': 'Arts', 'Arzt': 'Arts', 'Asphaltbauer': 'Worker', 'Assistente administrativo': 'Manager', 'Assistente de câmera': 'Arts', 'Associate Professor': 'Education',\n",
    "'Astronauta': 'Aviation', 'Astronomer': 'Education', 'Atendente': 'Medicine', 'Atleta de canoagem': 'Sports', 'Atleta de tiro com arco': 'Sports', 'Audiological scientist': 'Education',\n",
    "'Augenoptiker': 'Education', 'Ausbaufacharbeiter': 'Worker', 'Automotive engineer': 'Engineer', 'Aviador': 'Aviation', 'Babá': np.nan, 'Bankkaufmann': 'Finance', 'Barista': 'Food',\n",
    "'Barrister': 'Food', 'Bartender': 'Food', 'Beamter': 'Worker', 'Binnenschiffer': 'Engineer', 'Biomedical scientist': 'Education', 'Biotecnólogo': 'Engineer', 'Brewing technologist': 'Food',\n",
    "'Brigadeiro': 'Worker', 'Broadcast engineer': 'Engineer', 'Broadcast presenter': 'Journalist', 'Building services engineer': 'Engineer', 'Building surveyor': 'Engineer', 'Buyer, industrial': 'Finance',\n",
    "'Bäcker': 'Food', 'Cadista': 'Worker', 'Caldeireiro': 'Worker', 'Call centre manager': 'Manager', 'Careers adviser': 'Adviser', 'Careers information officer': 'Adviser', 'Carpinteiro': 'Worker',\n",
    "'Cenógrafo': 'Finance', 'Ceramics designer': 'Arts', 'Chartered certified accountant': 'Finance', 'Chartered legal executive (England and Wales)': 'Law',\n",
    "'Chartered loss adjuster': 'Finance', 'Chemical engineer': 'Engineer', 'Chemikant': 'Engineer', 'Chief Executive Officer': 'CEO', 'Chief Financial Officer': 'CEO',\n",
    "'Chief Marketing Officer': 'CEO', 'Chief Operating Officer': 'CEO', 'Child psychotherapist': 'Medicine', 'Chiropodist': 'Medicine', 'Chiropractor': 'Medicine',\n",
    "'Chirurgiemechaniker': 'Medicine', 'Cientista social': 'Education', 'Cineasta': 'Education', 'Cinegrafista': 'Arts', 'Civil Service administrator': 'Manager',\n",
    "'Civil Service fast streamer': 'Adviser', 'Civil engineer, consulting': 'Engineer', 'Civil engineer, contracting': 'Engineer', 'Claims inspector/assessor': 'Finance',\n",
    "'Clinical biochemist': 'Medicine', 'Clinical cytogeneticist': 'Medicine', 'Clinical embryologist': 'Medicine', 'Clinical research associate': 'Education',\n",
    "'Cobrador de pedágio': 'Finance', 'Coloproctologista': 'Medicine', 'Colour technologist': 'Engineer', 'Comandante': 'Force', 'Commercial horticulturist': 'Environment',\n",
    "'Commissioning editor': 'Engineer', 'Community arts worker': 'Arts', 'Community development worker': 'Adviser', 'Community education officer': 'Manager', 'Community pharmacist': 'Medicine',\n",
    "'Comptroller': 'Finance', 'Computer games developer': 'Engineer', 'Conference centre manager': 'Manager', 'Conservation officer, historic buildings': 'Arts',\n",
    "'Conservator, museum/gallery': 'Arts', 'Consulting civil engineer': 'Engineer', 'Contracting civil engineer': 'Engineer', 'Control and instrumentation engineer': 'Engineer',\n",
    "'Controlador de vôo': 'Aviation', 'Copy': 'Finance', 'Copywriter, advertising': 'Finance', 'Corporate investment banker': 'Finance', 'Corregedor de justiça': 'Law',\n",
    "'Corretor de imóveis': 'Finance', 'Corretor de seguros': 'Finance', 'Counselling psychologist': 'Medicine', 'Counsellor': 'Adviser', 'Coveiro/Sepultador': 'Worker', 'Cozinheira': 'Food',\n",
    "'Cumim': 'Engineer', 'Curator': 'Adviser', 'Dance movement psychotherapist': 'Arts', 'Database administrator': 'Engineer', 'Dealer': 'Finance', 'Defensor Público': 'Law',\n",
    "'Designer': 'Arts', 'Designer de moda': 'Arts', 'Designer, exhibition/display': 'Arts', 'Designer, furniture': 'Arts', 'Designer, graphic': 'Arts',\n",
    "'Designer, industrial/product': 'Arts', 'Designer, jewellery': 'Arts', 'Designer, multimedia': 'Arts', 'Designer, television/film set': 'Arts',\n",
    "'Development worker, international aid': 'Adviser', 'Dietitian': 'Medicine', 'Dispensing optician': 'Medicine', 'Doctor, general practice': 'Medicine', 'Doctor, hospital': 'Medicine',\n",
    "'Drilling engineer': 'Engineer', 'Drogist': 'Medicine', 'Early years teacher': 'Education', 'Ecologist': 'Environment', 'Economista': 'Finance', 'Ecólogo': 'Environment',\n",
    "'Editor, film/video': 'Arts', 'Editor, magazine features': 'Arts', 'Education officer, community': 'Manager', 'Education officer, museum': 'Manager',\n",
    "'Elektroniker': 'Engineer', 'Embalsamador': 'Goverment', 'Emergency planning/management officer': 'Manager', 'Encanador': 'Worker', 'Energy engineer': 'Engineer',\n",
    "'Energy manager': 'Manager', 'Engenheiro cartográfico': 'Engineer', 'Engenheiro de controle e automação': 'Engineer', 'Engenheiro de processos': 'Engineer',\n",
    "'Engenheiro de produto ou produção': 'Engineer', 'Engenheiro naval': 'Engineer', 'Engineer, agricultural': 'Engineer', 'Engineer, automotive': 'Engineer',\n",
    "'Engineer, broadcasting (operations)': 'Engineer', 'Engineer, civil (consulting)': 'Engineer', 'Engineer, civil (contracting)': 'Engineer', 'Engineer, electronics': 'Engineer',\n",
    "'Engineer, energy': 'Engineer', 'Engineer, maintenance': 'Engineer', 'Engineer, maintenance (IT)': 'Engineer', 'Engineer, manufacturing': 'Engineer',\n",
    "'Engineer, manufacturing systems': 'Engineer', 'Engineer, materials': 'Engineer', 'Engineer, production': 'Engineer', 'Engineer, structural': 'Engineer',\n",
    "'Engineer, technical sales': 'Engineer', 'Engineering geologist': 'Engineer', 'Environmental consultant': 'Environment', 'Environmental education officer': 'Environment',\n",
    "'Equality and diversity officer': 'Manager', 'Equities trader': 'Finance', 'Ergonomist': 'Medicine', 'Erzieher': 'Adviser', 'Escriturário': 'Law',\n",
    "'Especialista em agronegócios': 'Environment', 'Estate agent': 'Finance', 'Event organiser': 'Arts', 'Exhibition designer': 'Arts', 'Exhibitions officer, museum/gallery': 'Arts',\n",
    "'Fachinformatiker': 'Engineer', 'Facilities manager': 'Manager', 'Farm manager': 'Manager', 'Fashion designer': 'Arts', 'Fast food restaurant manager': 'Manager',\n",
    "'Faturista': 'Finance', 'Feirante': 'Food', 'Field seismologist': 'Education', 'Field trials officer': 'Education', 'Figurante': 'Arts', 'Film/video editor': 'Arts',\n",
    "'Financial manager': 'Finance', 'Financial risk analyst': 'Finance', 'Financial trader': 'Finance', 'Firefighter': 'Worker', 'Fleischer': 'Food', 'Florist': 'Environment',\n",
    "'Forensic scientist': 'Education', 'Forneiro': 'Food', 'Forstwirt': 'Environment', 'Frentista': 'Worker', 'Friseur': 'Worker', 'Funileiro': 'Worker', 'Furniture designer': 'Arts',\n",
    "'Further education lecturer': 'Education', 'Futures trader': 'Finance', 'Físico nuclear': 'Education', 'Gandula': 'Worker', 'Garment/textile technologist': 'Engineer',\n",
    "'General practice doctor': 'Medicine', 'Geneticist, molecular': 'Education', 'Geographical information systems officer': 'Manager', 'Geophysical data processor': 'Engineer',\n",
    "'Geradorista': 'Worker', 'Gerente de banco': 'Manager', 'Gerente de inovações ou novos negócios': 'Manager', 'Gerente de riscos em seguros': 'Manager', 'Gestor público': 'Manager',\n",
    "'Ginecologista': 'Medicine', 'Glass blower/designer': 'Arts', 'Government social research officer': 'Education', 'Grafologista': 'Arts', 'Haematologist': 'Medicine',\n",
    "'Headhunter': 'Manager', 'Health physicist': 'Medicine', 'Heritage manager': 'Manager', 'Higher education careers adviser': 'Adviser', 'Higher education lecturer': 'Education',\n",
    "'Historic buildings inspector/conservation officer': 'Arts', 'Holiday representative': 'Arts', 'Homeopath': 'Medicine', 'Horticultural therapist': 'Environment',\n",
    "'Horticulturist, commercial': 'Environment', 'Hospital pharmacist': 'Medicine', 'Hydrogeologist': 'Environment', 'Hydrologist': 'Environment', 'IT consultant': 'Engineer',\n",
    "'IT sales professional': 'Finance', 'IT technical support officer': 'Engineer', 'IT trainer': 'Engineer', 'Immigration officer': 'Force', 'Industrial buyer': 'Finance',\n",
    "'Informatiker': 'Engineer', 'Information officer': 'Engineer', 'Information systems manager': 'Engineer', 'Instrumentista musical': 'Arts', 'Insurance account manager': 'Manager',\n",
    "'Insurance broker': 'Finance', 'Insurance claims handler': 'Finance', 'Insurance underwriter': 'Finance', 'Interior and spatial designer': 'Arts', 'Investigador de Polícia': 'Force',\n",
    "'Jewellery designer': 'Arts', 'Jogador de futebol': 'Sports', 'Jogador de golfe': 'Sports', 'Jogador de vôlei': 'Sports', 'Journalist, broadcasting': 'Journalist',\n",
    "'Journalist, magazine': 'Journalist', 'Journalist, newspaper': 'Journalist', 'Juiz de futebol': 'Sports', 'Juiz ou árbitro de futebol': 'Sports', 'Karateca': 'Sports',\n",
    "'Kite-surfer': 'Sports', 'Koreanistiker': 'Medicine', 'Krankenschwester': 'Medicine', 'Laboratorista': 'Education', 'Lamboteiro': 'Worker', 'Land/geomatics surveyor': 'Environment',\n",
    "'Landscape architect': 'Arts', 'Lawyer': 'Law', 'Lecturer, further education': 'Education', 'Lecturer, higher education': 'Education', 'Legal executive': 'Law',\n",
    "'Librarian, public': 'Education', 'Licensed conveyancer': 'Law', 'Lighting technician, broadcasting/film/video': 'Engineer', 'Lobbyist': 'Law', 'Local government officer': 'Goverment',\n",
    "'Lutador de jiu-jitsu': 'Sports', 'Lutador de kung fu': 'Sports', 'Lutador de luta livre': 'Sports', 'Magazine features editor': 'Arts', 'Magazine journalist': 'Journalist',\n",
    "'Maintenance engineer': 'Engineer', 'Maitre': 'Finance', 'Make': 'Worker', 'Management consultant': 'Manager', 'Manufacturing engineer': 'Engineer', 'Marine scientist': 'Education',\n",
    "'Market researcher': 'Finance', 'Marketing executive': 'Finance', 'Materials engineer': 'Engineer', 'Mathematiker': 'Education', 'Mechanical engineer': 'Engineer',\n",
    "'Mechaniker': 'Engineer', 'Mecânico': 'Engineer', 'Medical laboratory scientific officer': 'Education', 'Medical sales representative': 'Finance', 'Medical secretary': 'Medicine',\n",
    "'Medizininformatiker': 'Engineer', 'Meeiro': np.nan, 'Mental health nurse': 'Medicine', 'Merchant navy officer': 'Force', 'Midwife': 'Medicine', 'Moleiro': 'Food', 'Mudlogger': 'Engineer',\n",
    "'Museum/gallery conservator': 'Arts', 'Museum/gallery curator': 'Arts', 'Musicoterapeuta': 'Medicine', 'Nature conservation officer': 'Environment', 'Naturólogo': 'Environment',\n",
    "'Necromaquiador': 'Medicine', 'Nefrologista': 'Medicine', 'Neonatologista': 'Medicine', 'Network engineer': 'Engineer', 'Newspaper journalist': 'Journalist', 'Notário': 'Law',\n",
    "'Nurse, adult': 'Medicine', 'Nurse, learning disability': 'Medicine', 'Nurse, mental health': 'Medicine', 'Nutritional therapist': 'Medicine', 'Occupational psychologist': 'Medicine',\n",
    "'Oceanographer': 'Education', 'Odontologista legal': 'Medicine', 'Office manager': 'Manager', 'Oftalmologista': 'Medicine', 'Ombudsman': 'Law', 'Oncologist': 'Medicine',\n",
    "'Operational researcher': 'Education', 'Operations geologist': 'Environment', 'Optician, dispensing': 'Medicine', 'Orçamentista': 'Finance', 'Osteopath': 'Medicine',\n",
    "'Paginador': 'Worker', 'Paparazzo': 'Journalist', 'Paramedic': 'Medicine', 'Patent examiner': 'Law', 'Patologista oral': 'Medicine', 'Pension scheme manager': 'Law',\n",
    "'Pensions consultant': 'Law', 'Personal trainer': 'Sports', 'Personnel officer': 'Adviser', 'Pesquisador': 'Education', 'Petroleum engineer': 'Engineer', 'Pfleger': 'Medicine',\n",
    "'Pharmacist, hospital': 'Medicine', 'Photographer': 'Arts', 'Physicist, medical': 'Medicine', 'Physiological scientist': 'Medicine', 'Physiotherapist': 'Medicine',\n",
    "'Phytotherapist': 'Medicine', 'Pilot': 'Aviation', 'Pilot, airline': 'Aviation', 'Piloto de avião': 'Aviation', 'Pintor': 'Arts', 'Pneumologista': 'Medicine',\n",
    "'Police officer': 'Force', 'Policial civil': 'Force', \"Politician's assistant\": 'Adviser', 'Polizist': 'Force', 'Porteiro': 'Worker', 'Prefeito': 'Goverment', 'Press sub': 'Journalist',\n",
    "'Print production planner': 'Manager', 'Probation officer': 'Force', 'Product designer': 'Arts', 'Production assistant, radio': 'Journalist', 'Production assistant, television': 'Journalist',\n",
    "'Production engineer': 'Engineer', 'Production manager': 'Manager', 'Produtor de multimídia': 'Arts', 'Produtor editorial': 'Journalist', 'Profissional de manutenção industrial': 'Engineer',\n",
    "'Profissional de marketing': 'Finance', 'Profissional de relacionamento com investidores RI': 'Finance', 'Profissional de relações internacionais': 'Adviser',\n",
    "'Profissional de rádio e tv': 'Journalist', 'Programmer, applications': 'Engineer', 'Programmer, systems': 'Engineer', 'Programmierer': 'Engineer', 'Proofreader': 'Adviser',\n",
    "'Psiquiatra': 'Medicine', 'Psychiatric nurse': 'Medicine', 'Psychologist, clinical': 'Medicine', 'Psychologist, prison and probation services': 'Medicine',\n",
    "'Psychotherapist, child': 'Medicine', 'Public affairs consultant': 'Adviser', 'Public relations account executive': 'Adviser', 'Publishing copy': 'Law',\n",
    "'Publishing rights manager': 'Law', 'Quantity surveyor': 'Finance', 'Quarry manager': 'Manager', 'Radiation protection practitioner': 'Medicine', 'Radio producer': 'Journalist',\n",
    "'Radiographer, therapeutic': 'Medicine', 'Radiologista': 'Medicine', 'Ranger/warden': 'Force', 'Records manager': 'Manager', 'Recreador': 'Environment',\n",
    "'Recruitment consultant': 'Adviser', 'Representante comercial': 'Finance', 'Research officer, government': 'Education', 'Research officer, political party': 'Education',\n",
    "'Research officer, trade union': 'Education', 'Research scientist (maths)': 'Education', 'Restaurador': 'Food', 'Restaurant manager, fast food': 'Food', 'Retail manager': 'Finance',\n",
    "'Risk analyst': 'Finance', 'Runner, broadcasting/film/video': 'Journalist', 'Rural practice surveyor': 'Environment', 'Sales promotion account executive': 'Finance',\n",
    "'Saxofonista': 'Arts', 'Schornsteinfeger': 'Worker', 'Scientist, research (maths)': 'Education', 'Scientist, water quality': 'Environment', 'Secretary, company': 'Adviser',\n",
    "'Secretary/administrator': 'Manager', 'Separador': 'Manager', 'Serralheiro': 'Worker', 'Serventuário': 'Law', 'Ship broker': 'Finance', 'Skatista': 'Sports',\n",
    "'Social research officer, government': 'Education', 'Social researcher': 'Education', 'Social worker': 'Medicine', 'Soldado': 'Force', 'Solicitor': 'Law',\n",
    "'Sound technician, broadcasting/film/video': 'Engineer', 'Sport and exercise psychologist': 'Medicine', 'Sports administrator': 'Manager', 'Sports therapist': 'Medicine',\n",
    "'Structural engineer': 'Engineer', 'Surfista': 'Sports', 'Surgeon': 'Medicine', 'Surveyor, building control': 'Engineer', 'Surveyor, commercial/residential': 'Engineer',\n",
    "'Surveyor, hydrographic': 'Engineer', 'Surveyor, land/geomatics': 'Engineer', 'Surveyor, minerals': 'Engineer', 'Systems analyst': 'Engineer', 'Tabelião': 'Law',\n",
    "'Tapeceiro': 'Worker', 'Tax adviser': 'Finance', 'Tax inspector': 'Finance', 'Taxidermista/Embalsamador': 'Finance', 'Taxista': 'Worker', 'Tecelão': 'Worker', 'Technical brewer': 'Food',\n",
    "'Technical sales engineer': 'Finance', 'Techniker': 'Engineer', 'Tecnólogo em Ciências das plantas medicinais': 'Environment', 'Tecnólogo em negócios imobiliários': 'Finance',\n",
    "'Tecnólogo em produção Sucroalcooleira': 'Food', 'Telegrafista': 'Engineer', 'Television/film/video producer': 'Arts', 'Tesoureiro': 'Finance', 'Textile designer': 'Arts',\n",
    "'Theatre manager': 'Manager', 'Theatre stage manager': 'Manager', 'Theme park manager': 'Manager', 'Therapist, art': 'Medicine', 'Therapist, horticultural': 'Medicine',\n",
    "'Therapist, sports': 'Medicine', 'Topógrafo': 'Engineer', 'Tourism officer': 'Adviser', 'Tourist information centre manager': 'Manager', 'Town planner': 'Arts',\n",
    "'Training and development officer': 'Adviser', 'Treinador': 'Sports', 'Técnico de som': 'Arts', 'Técnico em aviação': 'Aviation', 'Técnico em desporto': 'Sports',\n",
    "'Técnico em higiene dentária': 'Medicine', 'Técnico em segurança do trabalho': 'Adviser', 'Vigia parlamentar': 'Goverment', 'Vigilante noturno/diurno': 'Force',\n",
    "'Visual merchandiser': 'Arts', 'Volunteer coordinator': 'Adviser', 'Warden/ranger': 'Force', 'Warehouse manager': 'Manager', 'Water engineer': 'Engineer',\n",
    "'Water quality scientist': 'Education', 'Web designer': 'Engineer', 'Winzer': 'Food', 'Writer': 'Arts', 'YouTuber': 'Journalist', 'お笑い芸人': 'Arts', 'アイドル': 'Arts',\n",
    "'アナウンサー': 'Journalist', 'アニメーター': 'Arts', 'アーティスト': 'Arts', 'アートディレクター': 'Arts', 'イラストレーター': 'Arts', 'ウェディングプランナー': 'Adviser',\n",
    "'ウェブデザイナー': 'Engineer', 'エステティシャン': 'Medicine', 'エンジニア演奏家': 'Engineer', 'グラフィックデザイナー': 'Arts', 'ゲームクリエイター': 'Engineer', 'コピーライター': 'Finance',\n",
    "'バスガイド': 'Adviser', '介護ヘルパー': 'Medicine', '作曲家': 'Arts', '公務員': 'Goverment', '公認会計士': 'Finance', '医師': 'Medicine', '医療事務員': 'Medicine', '占い師': 'Adviser',\n",
    "'和紙職人': 'Worker', '営業': 'Finance', '大学教授': 'Education', '寿司職人': 'Food', '小説家': 'Arts', '建築家': 'Arts', '救急救命士': 'Medicine', '映画監督': 'Arts', '栄養士': 'Medicine',\n",
    "'検察官': 'Law', '歯科医師': 'Medicine', '気象予報士': 'Education', '測量士': 'Environment', '演歌歌手': 'Arts', '漫画家': 'Arts', '経営者': 'Manager', '絵本作家': 'Arts',\n",
    "'脚本家': 'Arts', '航海士': 'Adviser', '花火師': 'Engineer', '薬剤師': 'Medicine', '行政書士': 'Manager', '裁判官': 'Law', '調理師': 'Food', '農家': 'Food', '運転士': 'Worker',\n",
    "'配管工': 'Worker', '電気工事士': 'Engineer', '音楽家': 'Arts', '音響技術者': 'Arts', '高等学校教員': 'Education'}"
   ]
  },
  {
   "cell_type": "code",
   "execution_count": 47,
   "metadata": {},
   "outputs": [],
   "source": [
    "user['job'] = user['job'].map(jobs_dict)"
   ]
  },
  {
   "cell_type": "code",
   "execution_count": 48,
   "metadata": {},
   "outputs": [],
   "source": [
    "user['job'] = user['job'].fillna('Unknown')"
   ]
  },
  {
   "cell_type": "code",
   "execution_count": 49,
   "metadata": {},
   "outputs": [
    {
     "data": {
      "text/plain": [
       "array(['Adviser', 'Arts', 'Aviation', 'CEO', 'Education', 'Engineer',\n",
       "       'Environment', 'Finance', 'Food', 'Force', 'Goverment',\n",
       "       'Journalist', 'Law', 'Manager', 'Medicine', 'Sports', 'Unknown',\n",
       "       'Worker'], dtype=object)"
      ]
     },
     "execution_count": 49,
     "metadata": {},
     "output_type": "execute_result"
    }
   ],
   "source": [
    "user.sort_values(by='job')['job'].unique()"
   ]
  },
  {
   "cell_type": "code",
   "execution_count": 50,
   "metadata": {},
   "outputs": [
    {
     "data": {
      "image/png": "[encoded data removed]",
      "text/plain": [
       "<Figure size 640x480 with 1 Axes>"
      ]
     },
     "metadata": {},
     "output_type": "display_data"
    }
   ],
   "source": [
    "job_cat = user['job'].value_counts()\n",
    "fig, ax = plt.subplots()\n",
    "sns.barplot(job_cat, ax=ax)\n",
    "for label in ax.get_xticklabels():\n",
    "    label.set_horizontalalignment('right')\n",
    "    label.set_rotation(45)\n",
    "plt.show()"
   ]
  },
  {
   "cell_type": "markdown",
   "metadata": {},
   "source": [
    "We have reduced the number of unique jobs and imputed `NaNs` values with `Unknown`, which is now the most frequent value."
   ]
  },
  {
   "cell_type": "markdown",
   "metadata": {},
   "source": [
    "Convert `birthdate` columns to datetime objects:"
   ]
  },
  {
   "cell_type": "code",
   "execution_count": 51,
   "metadata": {},
   "outputs": [],
   "source": [
    "user['birthdate'] = pd.to_datetime(user['birthdate'], format='%Y-%m-%d')"
   ]
  },
  {
   "cell_type": "markdown",
   "metadata": {},
   "source": [
    "Calculate `age` of each user. Then we impute `NaN`s values with mean age."
   ]
  },
  {
   "cell_type": "code",
   "execution_count": 52,
   "metadata": {},
   "outputs": [],
   "source": [
    "user['age'] = pd.to_datetime('today').year - user['birthdate'].dt.year"
   ]
  },
  {
   "cell_type": "code",
   "execution_count": 53,
   "metadata": {},
   "outputs": [
    {
     "data": {
      "image/png": "[encoded data removed]",
      "text/plain": [
       "<Figure size 640x480 with 1 Axes>"
      ]
     },
     "metadata": {},
     "output_type": "display_data"
    }
   ],
   "source": [
    "sns.boxplot(user['age'])\n",
    "plt.show()"
   ]
  },
  {
   "cell_type": "markdown",
   "metadata": {},
   "source": [
    "We can see from boxplot above that average age of user is about 60 years old. `birthdate` column has \"strange\" data, it says that average user has 60 years, so probably this data isn't correct."
   ]
  },
  {
   "cell_type": "code",
   "execution_count": 54,
   "metadata": {},
   "outputs": [],
   "source": [
    "user['age'] = user['age'].fillna(user['age'].mean())"
   ]
  },
  {
   "cell_type": "markdown",
   "metadata": {},
   "source": [
    "We can drop column `birthdate` now."
   ]
  },
  {
   "cell_type": "code",
   "execution_count": 55,
   "metadata": {},
   "outputs": [],
   "source": [
    "user.drop('birthdate', axis=1, inplace=True)"
   ]
  },
  {
   "cell_type": "markdown",
   "metadata": {},
   "source": [
    "We have two columns with address in dataset: `residence` and `address`. `residence` has about 65% missing values, `address` have 15%. We can try to combine these columns to get column with less missing values than we have."
   ]
  },
  {
   "cell_type": "code",
   "execution_count": 56,
   "metadata": {},
   "outputs": [
    {
     "data": {
      "text/plain": [
       "0       Colônia Cunha\\nSão Bernardo\\n82378944 Ribeiro ...\n",
       "1        508 Brian Passage Suite 633\\nDianafurt, RI 48847\n",
       "2                             Boční I 39\\n575 30 Veltrusy\n",
       "3       Via Cipriano, 1 Appartamento 8\\n98137, Santo S...\n",
       "4                              Bermanova 27\\n762 59 Štětí\n",
       "                              ...                        \n",
       "2527             2757 Jeremy Island\\nThomasview, VI 77944\n",
       "2528    7658 Reed Motorway Apt. 388\\nMorsehaven, NY 53913\n",
       "2529                                                  NaN\n",
       "2530                        U Hřiště 88\\n655 39 Hostivice\n",
       "2531                     PSC 6053, Box 5468\\nAPO AA 44644\n",
       "Name: residence, Length: 2532, dtype: object"
      ]
     },
     "execution_count": 56,
     "metadata": {},
     "output_type": "execute_result"
    }
   ],
   "source": [
    "residence = user[['residence', 'address']].bfill(axis=1).iloc[:, 0]\n",
    "residence"
   ]
  },
  {
   "cell_type": "code",
   "execution_count": 57,
   "metadata": {},
   "outputs": [
    {
     "name": "stdout",
     "output_type": "stream",
     "text": [
      "Missing values: 0.11\n"
     ]
    }
   ],
   "source": [
    "print(f'Missing values: {residence.isnull().sum() / len(residence):.2f}')"
   ]
  },
  {
   "cell_type": "markdown",
   "metadata": {},
   "source": [
    "So now we have only 11% missing values in out address column, we can now drop them"
   ]
  },
  {
   "cell_type": "code",
   "execution_count": 58,
   "metadata": {},
   "outputs": [
    {
     "data": {
      "text/plain": [
       "266"
      ]
     },
     "execution_count": 58,
     "metadata": {},
     "output_type": "execute_result"
    }
   ],
   "source": [
    "user.drop(['residence', 'address'], axis=1, inplace=True)\n",
    "user['residence'] = residence\n",
    "user['residence'].isnull().sum()"
   ]
  },
  {
   "cell_type": "code",
   "execution_count": 59,
   "metadata": {},
   "outputs": [],
   "source": [
    "user.dropna(subset=['residence'], inplace=True)"
   ]
  },
  {
   "cell_type": "markdown",
   "metadata": {},
   "source": [
    "### 2. Data Cleaning: `session`"
   ]
  },
  {
   "cell_type": "code",
   "execution_count": 60,
   "metadata": {},
   "outputs": [
    {
     "name": "stdout",
     "output_type": "stream",
     "text": [
      "Ratio of missing values in columns:\n",
      "\n"
     ]
    },
    {
     "data": {
      "text/plain": [
       "pct_scroll_move_duration          0.000991\n",
       "pct_mouse_move                    0.000991\n",
       "mouse_move_total_rel_distance     0.000991\n",
       "page_activity_duration            0.000991\n",
       "pct_scrandom                      0.000991\n",
       "screen_width                      0.000000\n",
       "ack                               0.000000\n",
       "pct_mouse_click                   0.000991\n",
       "pct_input                         0.000991\n",
       "pct_click                         0.001081\n",
       "session_id                        0.000000\n",
       "product_ean                       0.000000\n",
       "browser_name                      0.000000\n",
       "total_load_time                   0.000000\n",
       "pct_scroll_move                   0.000991\n",
       "user_id                           0.000000\n",
       "scroll_move_total_rel_distance    0.000991\n",
       "pct_click_product_info            0.000991\n",
       "session_duration                  0.000000\n",
       "pct_wild_mouse                    0.000991\n",
       "screen_height                     0.000000\n",
       "session_start                     0.000000\n",
       "pct_rage_click                    0.000991\n",
       "wild_mouse_duration               0.001081\n",
       "pct_doubleclick                   0.000991\n",
       "dtype: float64"
      ]
     },
     "execution_count": 60,
     "metadata": {},
     "output_type": "execute_result"
    }
   ],
   "source": [
    "print(f'Ratio of missing values in columns:\\n')\n",
    "session.isnull().sum() / len(session)"
   ]
  },
  {
   "cell_type": "markdown",
   "metadata": {},
   "source": [
    "`pct_scroll_move_duration, pct_mouse_move, mouse_move_total_rel_distance, page_activity_duration, pct_scrandom, pct_mouse_click, pct_input, pct_scroll_move, scroll_move_total_rel_distance, pct_click_product_info, pct_wild_mouse, pct_rage_click, pct_doubleclick` - all have the same number of naNs, we can perform k-Nearest Neighbors (kNN) Imputation:"
   ]
  },
  {
   "cell_type": "code",
   "execution_count": 61,
   "metadata": {},
   "outputs": [],
   "source": [
    "from sklearn.impute import KNNImputer\n",
    "\n",
    "columns_to_impute = ['pct_scroll_move_duration', 'pct_mouse_move', 'mouse_move_total_rel_distance',\n",
    "                     'page_activity_duration', 'pct_scrandom', 'pct_mouse_click', 'pct_input',\n",
    "                     'pct_scroll_move', 'scroll_move_total_rel_distance', 'pct_click_product_info',\n",
    "                     'pct_wild_mouse', 'pct_rage_click', 'pct_doubleclick']\n",
    "data_to_impute = session[columns_to_impute]\n",
    "\n",
    "imputer = KNNImputer(n_neighbors=5)\n",
    "imputed_data = imputer.fit_transform(data_to_impute)\n",
    "session[columns_to_impute] = imputed_data"
   ]
  },
  {
   "cell_type": "code",
   "execution_count": 62,
   "metadata": {},
   "outputs": [],
   "source": [
    "columns_to_impute = ['wild_mouse_duration', 'pct_click']\n",
    "session[columns_to_impute] = session[columns_to_impute].fillna(session[columns_to_impute].median())\n"
   ]
  },
  {
   "cell_type": "markdown",
   "metadata": {},
   "source": [
    "Identify `outliers` and replace them with the cutoff values of the distribution:"
   ]
  },
  {
   "cell_type": "code",
   "execution_count": 63,
   "metadata": {},
   "outputs": [],
   "source": [
    "def identify_outliers(a):\n",
    "    lower = a.quantile(0.25) - 1.5 * stats.iqr(a)\n",
    "    upper = a.quantile(0.75) + 1.5 * stats.iqr(a)\n",
    "    \n",
    "    return a[(a > upper) | (a < lower)]"
   ]
  },
  {
   "cell_type": "code",
   "execution_count": 64,
   "metadata": {},
   "outputs": [
    {
     "name": "stdout",
     "output_type": "stream",
     "text": [
      "Column 'pct_mouse_move' has 100 outliers:\n",
      "Column 'mouse_move_total_rel_distance' has 82 outliers:\n",
      "Column 'page_activity_duration' has 2 outliers:\n",
      "Column 'pct_scrandom' has 85 outliers:\n",
      "Column 'pct_mouse_click' has 84 outliers:\n",
      "Column 'pct_input' has 1580 outliers:\n",
      "Column 'pct_click' has 302 outliers:\n",
      "Column 'total_load_time' has 354 outliers:\n",
      "Column 'pct_scroll_move' has 82 outliers:\n",
      "Column 'scroll_move_total_rel_distance' has 3 outliers:\n",
      "Column 'pct_click_product_info' has 90 outliers:\n",
      "Column 'session_duration' has 68 outliers:\n",
      "Column 'pct_wild_mouse' has 74 outliers:\n",
      "Column 'pct_rage_click' has 91 outliers:\n",
      "Column 'wild_mouse_duration' has 170 outliers:\n",
      "Column 'pct_doubleclick' has 114 outliers:\n"
     ]
    }
   ],
   "source": [
    "columns_with_outliers = {}\n",
    "numeric_attributes = session.select_dtypes(include=['float64', 'int64']).columns.tolist()\n",
    "\n",
    "# Identify columns with outliers and count the number of outliers\n",
    "for column in numeric_attributes:\n",
    "    outliers = identify_outliers(session[column])\n",
    "    if not outliers.empty:\n",
    "        columns_with_outliers[column] = outliers\n",
    "        num_outliers = outliers.shape[0]  # Count the number of outliers\n",
    "        print(f\"Column '{column}' has {num_outliers} outliers:\")\n",
    "\n"
   ]
  },
  {
   "cell_type": "markdown",
   "metadata": {},
   "source": [
    "`page_activity_duration` and `scroll_move_total_rel_distance` dont have big amount of outliers we can just delete them"
   ]
  },
  {
   "cell_type": "code",
   "execution_count": 65,
   "metadata": {},
   "outputs": [
    {
     "data": {
      "image/png": "[encoded data removed]",
      "text/plain": [
       "<Figure size 800x600 with 1 Axes>"
      ]
     },
     "metadata": {},
     "output_type": "display_data"
    }
   ],
   "source": [
    "plt.figure(figsize=(8, 6))\n",
    "plt.boxplot(session['scroll_move_total_rel_distance']) \n",
    "plt.title('Boxplot of scroll_move_total_rel_distance')\n",
    "plt.xlabel('scroll_move_total_rel_distance')\n",
    "plt.show()"
   ]
  },
  {
   "cell_type": "code",
   "execution_count": 66,
   "metadata": {},
   "outputs": [],
   "source": [
    "outliers_page_duration = identify_outliers(session['page_activity_duration'])\n",
    "outliers_scroll_distance = identify_outliers(session['scroll_move_total_rel_distance'])\n",
    "\n",
    "# Remove rows containing outliers in the specified columns\n",
    "session_no_outliers = session[~session.index.isin(outliers_page_duration.index) & ~session.index.isin(outliers_scroll_distance.index)]"
   ]
  },
  {
   "cell_type": "markdown",
   "metadata": {},
   "source": [
    "replace the rest outliers with the cutoff values of the distribution:"
   ]
  },
  {
   "cell_type": "code",
   "execution_count": 67,
   "metadata": {},
   "outputs": [],
   "source": [
    "for attribute in columns_with_outliers:\n",
    "    # Example: Removing outliers by keeping values within 1.5*IQR range\n",
    "    lower = session[attribute].quantile(0.25) - 1.5 * stats.iqr(session[attribute])\n",
    "    upper = session[attribute].quantile(0.75) + 1.5 * stats.iqr(session[attribute])\n",
    "    \n",
    "    session[attribute] = session[attribute].clip(lower=lower, upper=upper)"
   ]
  },
  {
   "cell_type": "markdown",
   "metadata": {},
   "source": [
    "\n",
    "## 2. Implementation of data preprocessing\n"
   ]
  },
  {
   "cell_type": "markdown",
   "metadata": {},
   "source": [
    "`session` dataset and `product` dataset have common column `product_ean`."
   ]
  },
  {
   "cell_type": "code",
   "execution_count": 68,
   "metadata": {},
   "outputs": [
    {
     "data": {
      "text/plain": [
       "0"
      ]
     },
     "execution_count": 68,
     "metadata": {},
     "output_type": "execute_result"
    }
   ],
   "source": [
    "len(list(set(session['product_ean']) & set(product['product_ean'])))"
   ]
  },
  {
   "cell_type": "markdown",
   "metadata": {},
   "source": [
    "`session['product_ean']` and `product['product_ean']` have no common columns, so we probably won't be able to combine two datasets."
   ]
  },
  {
   "cell_type": "markdown",
   "metadata": {},
   "source": [
    "`session` dataset and `user` dataset have commmon column `user_id`."
   ]
  },
  {
   "cell_type": "code",
   "execution_count": 69,
   "metadata": {},
   "outputs": [
    {
     "data": {
      "text/plain": [
       "1465"
      ]
     },
     "execution_count": 69,
     "metadata": {},
     "output_type": "execute_result"
    }
   ],
   "source": [
    "len(list(set(session['user_id']) & set(user['user_id'])))"
   ]
  },
  {
   "cell_type": "markdown",
   "metadata": {},
   "source": [
    "`session['user_id']` and `product['user_id']` have 1567 common columns, so maybe we can combine these two datasets."
   ]
  },
  {
   "cell_type": "markdown",
   "metadata": {},
   "source": [
    "Because `session` dataset and `product` dataset has no common columns, we won't combine two datasets with each other and that's why we don'n need `product` dataset at all."
   ]
  },
  {
   "cell_type": "markdown",
   "metadata": {},
   "source": [
    "`registration` column have multiple formats of dates of registration:\n",
    "* `%Y/%m/%d` (2021/06/09)\n",
    "* `%d %b %Y` (28 Jun 2018)\n",
    "* `%Y-%m-%d` (2022-06-13)\n",
    "* `%m/%d/%Y, %h:%m:%s` (02/16/2022, 00:00:00)\n",
    "\n",
    "So we need to standardize them to one format."
   ]
  },
  {
   "cell_type": "code",
   "execution_count": 70,
   "metadata": {},
   "outputs": [],
   "source": [
    "def transform_registration():\n",
    "    col1 = pd.to_datetime(user['registration'], format='%Y/%m/%d', errors='coerce')\n",
    "    col2 = pd.to_datetime(user['registration'], format='%d %b %Y', errors='coerce')\n",
    "    col3 = pd.to_datetime(user['registration'], format='%Y-%m-%d', errors='coerce')\n",
    "    col4 = pd.to_datetime(user['registration'], format='%m/%d/%Y, %H:%M:%S', errors='coerce')\n",
    "\n",
    "    registration = pd.concat([col1, col2, col3, col4], axis=1)\n",
    "    registration = registration.bfill(axis=1).iloc[:, 0]\n",
    "    return registration"
   ]
  },
  {
   "cell_type": "code",
   "execution_count": 71,
   "metadata": {},
   "outputs": [],
   "source": [
    "user['registration'] = transform_registration()"
   ]
  },
  {
   "cell_type": "code",
   "execution_count": 72,
   "metadata": {},
   "outputs": [],
   "source": [
    "user = user.drop(['name', 'residence'], axis=1)"
   ]
  },
  {
   "cell_type": "markdown",
   "metadata": {},
   "source": [
    "### 1. Combine datasets"
   ]
  },
  {
   "cell_type": "code",
   "execution_count": 73,
   "metadata": {},
   "outputs": [
    {
     "data": {
      "text/html": [
       "<div>\n",
       "<style scoped>\n",
       "    .dataframe tbody tr th:only-of-type {\n",
       "        vertical-align: middle;\n",
       "    }\n",
       "\n",
       "    .dataframe tbody tr th {\n",
       "        vertical-align: top;\n",
       "    }\n",
       "\n",
       "    .dataframe thead th {\n",
       "        text-align: right;\n",
       "    }\n",
       "</style>\n",
       "<table border=\"1\" class=\"dataframe\">\n",
       "  <thead>\n",
       "    <tr style=\"text-align: right;\">\n",
       "      <th></th>\n",
       "      <th>user_id</th>\n",
       "      <th>registration</th>\n",
       "      <th>sex</th>\n",
       "      <th>job</th>\n",
       "      <th>username</th>\n",
       "      <th>mail</th>\n",
       "      <th>age</th>\n",
       "    </tr>\n",
       "  </thead>\n",
       "  <tbody>\n",
       "    <tr>\n",
       "      <th>1167</th>\n",
       "      <td>0</td>\n",
       "      <td>2017-04-11</td>\n",
       "      <td>Unknown</td>\n",
       "      <td>Unknown</td>\n",
       "      <td>oabe</td>\n",
       "      <td>ptakahashi@gmail.com</td>\n",
       "      <td>58.910983</td>\n",
       "    </tr>\n",
       "    <tr>\n",
       "      <th>1439</th>\n",
       "      <td>0</td>\n",
       "      <td>2015-10-08</td>\n",
       "      <td>Unknown</td>\n",
       "      <td>Worker</td>\n",
       "      <td>dreweselmar</td>\n",
       "      <td>orogner@hotmail.de</td>\n",
       "      <td>58.910983</td>\n",
       "    </tr>\n",
       "    <tr>\n",
       "      <th>1883</th>\n",
       "      <td>0</td>\n",
       "      <td>2016-12-15</td>\n",
       "      <td>F</td>\n",
       "      <td>Unknown</td>\n",
       "      <td>maaya51</td>\n",
       "      <td>atsushiyamamoto@yahoo.com</td>\n",
       "      <td>58.910983</td>\n",
       "    </tr>\n",
       "  </tbody>\n",
       "</table>\n",
       "</div>"
      ],
      "text/plain": [
       "      user_id registration      sex      job     username  \\\n",
       "1167        0   2017-04-11  Unknown  Unknown         oabe   \n",
       "1439        0   2015-10-08  Unknown   Worker  dreweselmar   \n",
       "1883        0   2016-12-15        F  Unknown      maaya51   \n",
       "\n",
       "                           mail        age  \n",
       "1167       ptakahashi@gmail.com  58.910983  \n",
       "1439         orogner@hotmail.de  58.910983  \n",
       "1883  atsushiyamamoto@yahoo.com  58.910983  "
      ]
     },
     "execution_count": 73,
     "metadata": {},
     "output_type": "execute_result"
    }
   ],
   "source": [
    "user[user['user_id'] == 0]"
   ]
  },
  {
   "cell_type": "markdown",
   "metadata": {},
   "source": [
    "We can see that multiple users in the `user` dataset have same `user_id`s."
   ]
  },
  {
   "cell_type": "markdown",
   "metadata": {},
   "source": [
    "Let's try to combine two datasets to one. The main dataset for prediction is `session`, so the `user` dataset will be an addition to the first one. That's why we can inner join two datasets."
   ]
  },
  {
   "cell_type": "code",
   "execution_count": 74,
   "metadata": {},
   "outputs": [
    {
     "data": {
      "text/html": [
       "<div>\n",
       "<style scoped>\n",
       "    .dataframe tbody tr th:only-of-type {\n",
       "        vertical-align: middle;\n",
       "    }\n",
       "\n",
       "    .dataframe tbody tr th {\n",
       "        vertical-align: top;\n",
       "    }\n",
       "\n",
       "    .dataframe thead th {\n",
       "        text-align: right;\n",
       "    }\n",
       "</style>\n",
       "<table border=\"1\" class=\"dataframe\">\n",
       "  <thead>\n",
       "    <tr style=\"text-align: right;\">\n",
       "      <th></th>\n",
       "      <th>pct_scroll_move_duration</th>\n",
       "      <th>pct_mouse_move</th>\n",
       "      <th>mouse_move_total_rel_distance</th>\n",
       "      <th>page_activity_duration</th>\n",
       "      <th>pct_scrandom</th>\n",
       "      <th>screen_width</th>\n",
       "      <th>ack</th>\n",
       "      <th>pct_mouse_click</th>\n",
       "      <th>pct_input</th>\n",
       "      <th>pct_click</th>\n",
       "      <th>...</th>\n",
       "      <th>session_start</th>\n",
       "      <th>pct_rage_click</th>\n",
       "      <th>wild_mouse_duration</th>\n",
       "      <th>pct_doubleclick</th>\n",
       "      <th>registration</th>\n",
       "      <th>sex</th>\n",
       "      <th>job</th>\n",
       "      <th>username</th>\n",
       "      <th>mail</th>\n",
       "      <th>age</th>\n",
       "    </tr>\n",
       "  </thead>\n",
       "  <tbody>\n",
       "    <tr>\n",
       "      <th>0</th>\n",
       "      <td>9.59904</td>\n",
       "      <td>7.68939</td>\n",
       "      <td>5.37487</td>\n",
       "      <td>8.36462</td>\n",
       "      <td>31.30541</td>\n",
       "      <td>800</td>\n",
       "      <td>0.0</td>\n",
       "      <td>9.13505</td>\n",
       "      <td>0.041250</td>\n",
       "      <td>9.68902</td>\n",
       "      <td>...</td>\n",
       "      <td>2021-07-25 06:48:47</td>\n",
       "      <td>50.79621</td>\n",
       "      <td>13.68951</td>\n",
       "      <td>12.36846</td>\n",
       "      <td>2017-04-09</td>\n",
       "      <td>Unknown</td>\n",
       "      <td>Medicine</td>\n",
       "      <td>hmontecchi</td>\n",
       "      <td>tgozzi@virgilio.it</td>\n",
       "      <td>104.000000</td>\n",
       "    </tr>\n",
       "    <tr>\n",
       "      <th>1</th>\n",
       "      <td>7.53387</td>\n",
       "      <td>8.62357</td>\n",
       "      <td>9.09357</td>\n",
       "      <td>10.26733</td>\n",
       "      <td>53.09397</td>\n",
       "      <td>0</td>\n",
       "      <td>1.0</td>\n",
       "      <td>8.63617</td>\n",
       "      <td>0.007560</td>\n",
       "      <td>12.24018</td>\n",
       "      <td>...</td>\n",
       "      <td>2019-01-11 02:58:46</td>\n",
       "      <td>49.31536</td>\n",
       "      <td>11.98616</td>\n",
       "      <td>7.30068</td>\n",
       "      <td>NaT</td>\n",
       "      <td>NaN</td>\n",
       "      <td>NaN</td>\n",
       "      <td>NaN</td>\n",
       "      <td>NaN</td>\n",
       "      <td>NaN</td>\n",
       "    </tr>\n",
       "    <tr>\n",
       "      <th>2</th>\n",
       "      <td>8.27570</td>\n",
       "      <td>9.14421</td>\n",
       "      <td>7.75349</td>\n",
       "      <td>11.57870</td>\n",
       "      <td>37.21614</td>\n",
       "      <td>0</td>\n",
       "      <td>1.0</td>\n",
       "      <td>8.69043</td>\n",
       "      <td>0.012190</td>\n",
       "      <td>10.83064</td>\n",
       "      <td>...</td>\n",
       "      <td>2020-11-29 07:57:48</td>\n",
       "      <td>36.50380</td>\n",
       "      <td>12.46916</td>\n",
       "      <td>7.71466</td>\n",
       "      <td>NaT</td>\n",
       "      <td>NaN</td>\n",
       "      <td>NaN</td>\n",
       "      <td>NaN</td>\n",
       "      <td>NaN</td>\n",
       "      <td>NaN</td>\n",
       "    </tr>\n",
       "    <tr>\n",
       "      <th>3</th>\n",
       "      <td>9.38995</td>\n",
       "      <td>9.19876</td>\n",
       "      <td>7.21016</td>\n",
       "      <td>6.81575</td>\n",
       "      <td>56.69968</td>\n",
       "      <td>1</td>\n",
       "      <td>0.0</td>\n",
       "      <td>9.37578</td>\n",
       "      <td>0.006160</td>\n",
       "      <td>11.86437</td>\n",
       "      <td>...</td>\n",
       "      <td>2019-08-25 20:50:57</td>\n",
       "      <td>55.56358</td>\n",
       "      <td>11.78585</td>\n",
       "      <td>12.05817</td>\n",
       "      <td>NaT</td>\n",
       "      <td>NaN</td>\n",
       "      <td>NaN</td>\n",
       "      <td>NaN</td>\n",
       "      <td>NaN</td>\n",
       "      <td>NaN</td>\n",
       "    </tr>\n",
       "    <tr>\n",
       "      <th>4</th>\n",
       "      <td>8.50961</td>\n",
       "      <td>9.03280</td>\n",
       "      <td>8.92165</td>\n",
       "      <td>7.77596</td>\n",
       "      <td>58.27990</td>\n",
       "      <td>1366</td>\n",
       "      <td>0.0</td>\n",
       "      <td>9.91178</td>\n",
       "      <td>0.000260</td>\n",
       "      <td>11.65294</td>\n",
       "      <td>...</td>\n",
       "      <td>2019-02-14 23:18:06</td>\n",
       "      <td>63.49090</td>\n",
       "      <td>8.42849</td>\n",
       "      <td>12.72820</td>\n",
       "      <td>2019-09-06</td>\n",
       "      <td>Unknown</td>\n",
       "      <td>Unknown</td>\n",
       "      <td>pietroalves</td>\n",
       "      <td>clarice71@yahoo.com.br</td>\n",
       "      <td>46.000000</td>\n",
       "    </tr>\n",
       "    <tr>\n",
       "      <th>...</th>\n",
       "      <td>...</td>\n",
       "      <td>...</td>\n",
       "      <td>...</td>\n",
       "      <td>...</td>\n",
       "      <td>...</td>\n",
       "      <td>...</td>\n",
       "      <td>...</td>\n",
       "      <td>...</td>\n",
       "      <td>...</td>\n",
       "      <td>...</td>\n",
       "      <td>...</td>\n",
       "      <td>...</td>\n",
       "      <td>...</td>\n",
       "      <td>...</td>\n",
       "      <td>...</td>\n",
       "      <td>...</td>\n",
       "      <td>...</td>\n",
       "      <td>...</td>\n",
       "      <td>...</td>\n",
       "      <td>...</td>\n",
       "      <td>...</td>\n",
       "    </tr>\n",
       "    <tr>\n",
       "      <th>14524</th>\n",
       "      <td>6.65437</td>\n",
       "      <td>7.90783</td>\n",
       "      <td>7.16540</td>\n",
       "      <td>9.87087</td>\n",
       "      <td>66.21809</td>\n",
       "      <td>1280</td>\n",
       "      <td>1.0</td>\n",
       "      <td>9.22723</td>\n",
       "      <td>0.005530</td>\n",
       "      <td>11.18617</td>\n",
       "      <td>...</td>\n",
       "      <td>2023-09-08 00:16:20</td>\n",
       "      <td>63.69988</td>\n",
       "      <td>11.67047</td>\n",
       "      <td>7.39957</td>\n",
       "      <td>2019-08-02</td>\n",
       "      <td>M</td>\n",
       "      <td>Unknown</td>\n",
       "      <td>claudiusgorlitz</td>\n",
       "      <td>lucianokabus@gmx.de</td>\n",
       "      <td>109.000000</td>\n",
       "    </tr>\n",
       "    <tr>\n",
       "      <th>14525</th>\n",
       "      <td>6.65437</td>\n",
       "      <td>7.90783</td>\n",
       "      <td>7.16540</td>\n",
       "      <td>9.87087</td>\n",
       "      <td>66.21809</td>\n",
       "      <td>1280</td>\n",
       "      <td>1.0</td>\n",
       "      <td>9.22723</td>\n",
       "      <td>0.005530</td>\n",
       "      <td>11.18617</td>\n",
       "      <td>...</td>\n",
       "      <td>2023-09-08 00:16:20</td>\n",
       "      <td>63.69988</td>\n",
       "      <td>11.67047</td>\n",
       "      <td>7.39957</td>\n",
       "      <td>2021-10-16</td>\n",
       "      <td>Unknown</td>\n",
       "      <td>Unknown</td>\n",
       "      <td>novotnymiroslav</td>\n",
       "      <td>krizmiloslav@chello.cz</td>\n",
       "      <td>58.910983</td>\n",
       "    </tr>\n",
       "    <tr>\n",
       "      <th>14526</th>\n",
       "      <td>6.65437</td>\n",
       "      <td>7.90783</td>\n",
       "      <td>7.16540</td>\n",
       "      <td>9.87087</td>\n",
       "      <td>66.21809</td>\n",
       "      <td>1280</td>\n",
       "      <td>1.0</td>\n",
       "      <td>9.22723</td>\n",
       "      <td>0.005530</td>\n",
       "      <td>11.18617</td>\n",
       "      <td>...</td>\n",
       "      <td>2023-09-08 00:16:20</td>\n",
       "      <td>63.69988</td>\n",
       "      <td>11.67047</td>\n",
       "      <td>7.39957</td>\n",
       "      <td>2020-06-21</td>\n",
       "      <td>Unknown</td>\n",
       "      <td>Unknown</td>\n",
       "      <td>walterreese</td>\n",
       "      <td>martinezisaac@yahoo.com</td>\n",
       "      <td>58.910983</td>\n",
       "    </tr>\n",
       "    <tr>\n",
       "      <th>14527</th>\n",
       "      <td>6.65437</td>\n",
       "      <td>7.90783</td>\n",
       "      <td>7.16540</td>\n",
       "      <td>9.87087</td>\n",
       "      <td>66.21809</td>\n",
       "      <td>1280</td>\n",
       "      <td>1.0</td>\n",
       "      <td>9.22723</td>\n",
       "      <td>0.005530</td>\n",
       "      <td>11.18617</td>\n",
       "      <td>...</td>\n",
       "      <td>2023-09-08 00:16:20</td>\n",
       "      <td>63.69988</td>\n",
       "      <td>11.67047</td>\n",
       "      <td>7.39957</td>\n",
       "      <td>2020-05-28</td>\n",
       "      <td>Unknown</td>\n",
       "      <td>Unknown</td>\n",
       "      <td>cynthia72</td>\n",
       "      <td>karenmiranda@yahoo.com</td>\n",
       "      <td>58.910983</td>\n",
       "    </tr>\n",
       "    <tr>\n",
       "      <th>14528</th>\n",
       "      <td>9.10168</td>\n",
       "      <td>8.73175</td>\n",
       "      <td>6.19884</td>\n",
       "      <td>8.61816</td>\n",
       "      <td>61.29581</td>\n",
       "      <td>800</td>\n",
       "      <td>0.0</td>\n",
       "      <td>9.23020</td>\n",
       "      <td>0.066912</td>\n",
       "      <td>11.79771</td>\n",
       "      <td>...</td>\n",
       "      <td>2020-07-27 09:04:22</td>\n",
       "      <td>59.66824</td>\n",
       "      <td>17.25529</td>\n",
       "      <td>9.72262</td>\n",
       "      <td>2016-12-07</td>\n",
       "      <td>Unknown</td>\n",
       "      <td>Arts</td>\n",
       "      <td>piermaria05</td>\n",
       "      <td>emozart@alice.it</td>\n",
       "      <td>62.000000</td>\n",
       "    </tr>\n",
       "  </tbody>\n",
       "</table>\n",
       "<p>14529 rows × 31 columns</p>\n",
       "</div>"
      ],
      "text/plain": [
       "       pct_scroll_move_duration  pct_mouse_move  \\\n",
       "0                       9.59904         7.68939   \n",
       "1                       7.53387         8.62357   \n",
       "2                       8.27570         9.14421   \n",
       "3                       9.38995         9.19876   \n",
       "4                       8.50961         9.03280   \n",
       "...                         ...             ...   \n",
       "14524                   6.65437         7.90783   \n",
       "14525                   6.65437         7.90783   \n",
       "14526                   6.65437         7.90783   \n",
       "14527                   6.65437         7.90783   \n",
       "14528                   9.10168         8.73175   \n",
       "\n",
       "       mouse_move_total_rel_distance  page_activity_duration  pct_scrandom  \\\n",
       "0                            5.37487                 8.36462      31.30541   \n",
       "1                            9.09357                10.26733      53.09397   \n",
       "2                            7.75349                11.57870      37.21614   \n",
       "3                            7.21016                 6.81575      56.69968   \n",
       "4                            8.92165                 7.77596      58.27990   \n",
       "...                              ...                     ...           ...   \n",
       "14524                        7.16540                 9.87087      66.21809   \n",
       "14525                        7.16540                 9.87087      66.21809   \n",
       "14526                        7.16540                 9.87087      66.21809   \n",
       "14527                        7.16540                 9.87087      66.21809   \n",
       "14528                        6.19884                 8.61816      61.29581   \n",
       "\n",
       "       screen_width  ack  pct_mouse_click  pct_input  pct_click  ...  \\\n",
       "0               800  0.0          9.13505   0.041250    9.68902  ...   \n",
       "1                 0  1.0          8.63617   0.007560   12.24018  ...   \n",
       "2                 0  1.0          8.69043   0.012190   10.83064  ...   \n",
       "3                 1  0.0          9.37578   0.006160   11.86437  ...   \n",
       "4              1366  0.0          9.91178   0.000260   11.65294  ...   \n",
       "...             ...  ...              ...        ...        ...  ...   \n",
       "14524          1280  1.0          9.22723   0.005530   11.18617  ...   \n",
       "14525          1280  1.0          9.22723   0.005530   11.18617  ...   \n",
       "14526          1280  1.0          9.22723   0.005530   11.18617  ...   \n",
       "14527          1280  1.0          9.22723   0.005530   11.18617  ...   \n",
       "14528           800  0.0          9.23020   0.066912   11.79771  ...   \n",
       "\n",
       "            session_start  pct_rage_click wild_mouse_duration  \\\n",
       "0     2021-07-25 06:48:47        50.79621            13.68951   \n",
       "1     2019-01-11 02:58:46        49.31536            11.98616   \n",
       "2     2020-11-29 07:57:48        36.50380            12.46916   \n",
       "3     2019-08-25 20:50:57        55.56358            11.78585   \n",
       "4     2019-02-14 23:18:06        63.49090             8.42849   \n",
       "...                   ...             ...                 ...   \n",
       "14524 2023-09-08 00:16:20        63.69988            11.67047   \n",
       "14525 2023-09-08 00:16:20        63.69988            11.67047   \n",
       "14526 2023-09-08 00:16:20        63.69988            11.67047   \n",
       "14527 2023-09-08 00:16:20        63.69988            11.67047   \n",
       "14528 2020-07-27 09:04:22        59.66824            17.25529   \n",
       "\n",
       "       pct_doubleclick  registration      sex       job         username  \\\n",
       "0             12.36846    2017-04-09  Unknown  Medicine       hmontecchi   \n",
       "1              7.30068           NaT      NaN       NaN              NaN   \n",
       "2              7.71466           NaT      NaN       NaN              NaN   \n",
       "3             12.05817           NaT      NaN       NaN              NaN   \n",
       "4             12.72820    2019-09-06  Unknown   Unknown      pietroalves   \n",
       "...                ...           ...      ...       ...              ...   \n",
       "14524          7.39957    2019-08-02        M   Unknown  claudiusgorlitz   \n",
       "14525          7.39957    2021-10-16  Unknown   Unknown  novotnymiroslav   \n",
       "14526          7.39957    2020-06-21  Unknown   Unknown      walterreese   \n",
       "14527          7.39957    2020-05-28  Unknown   Unknown        cynthia72   \n",
       "14528          9.72262    2016-12-07  Unknown      Arts      piermaria05   \n",
       "\n",
       "                          mail         age  \n",
       "0           tgozzi@virgilio.it  104.000000  \n",
       "1                          NaN         NaN  \n",
       "2                          NaN         NaN  \n",
       "3                          NaN         NaN  \n",
       "4       clarice71@yahoo.com.br   46.000000  \n",
       "...                        ...         ...  \n",
       "14524      lucianokabus@gmx.de  109.000000  \n",
       "14525   krizmiloslav@chello.cz   58.910983  \n",
       "14526  martinezisaac@yahoo.com   58.910983  \n",
       "14527   karenmiranda@yahoo.com   58.910983  \n",
       "14528         emozart@alice.it   62.000000  \n",
       "\n",
       "[14529 rows x 31 columns]"
      ]
     },
     "execution_count": 74,
     "metadata": {},
     "output_type": "execute_result"
    }
   ],
   "source": [
    "combined = session.merge(user, how='left', on='user_id')\n",
    "combined"
   ]
  },
  {
   "cell_type": "code",
   "execution_count": 75,
   "metadata": {},
   "outputs": [
    {
     "name": "stdout",
     "output_type": "stream",
     "text": [
      "<class 'pandas.core.frame.DataFrame'>\n",
      "RangeIndex: 14529 entries, 0 to 14528\n",
      "Data columns (total 31 columns):\n",
      " #   Column                          Non-Null Count  Dtype         \n",
      "---  ------                          --------------  -----         \n",
      " 0   pct_scroll_move_duration        14529 non-null  float64       \n",
      " 1   pct_mouse_move                  14529 non-null  float64       \n",
      " 2   mouse_move_total_rel_distance   14529 non-null  float64       \n",
      " 3   page_activity_duration          14529 non-null  float64       \n",
      " 4   pct_scrandom                    14529 non-null  float64       \n",
      " 5   screen_width                    14529 non-null  int64         \n",
      " 6   ack                             14529 non-null  float64       \n",
      " 7   pct_mouse_click                 14529 non-null  float64       \n",
      " 8   pct_input                       14529 non-null  float64       \n",
      " 9   pct_click                       14529 non-null  float64       \n",
      " 10  session_id                      14529 non-null  int64         \n",
      " 11  product_ean                     14529 non-null  int64         \n",
      " 12  browser_name                    14529 non-null  object        \n",
      " 13  total_load_time                 14529 non-null  float64       \n",
      " 14  pct_scroll_move                 14529 non-null  float64       \n",
      " 15  user_id                         14529 non-null  int64         \n",
      " 16  scroll_move_total_rel_distance  14529 non-null  float64       \n",
      " 17  pct_click_product_info          14529 non-null  float64       \n",
      " 18  session_duration                14529 non-null  float64       \n",
      " 19  pct_wild_mouse                  14529 non-null  float64       \n",
      " 20  screen_height                   14529 non-null  int64         \n",
      " 21  session_start                   14529 non-null  datetime64[ns]\n",
      " 22  pct_rage_click                  14529 non-null  float64       \n",
      " 23  wild_mouse_duration             14529 non-null  float64       \n",
      " 24  pct_doubleclick                 14529 non-null  float64       \n",
      " 25  registration                    10066 non-null  datetime64[ns]\n",
      " 26  sex                             10066 non-null  object        \n",
      " 27  job                             10066 non-null  object        \n",
      " 28  username                        10066 non-null  object        \n",
      " 29  mail                            10066 non-null  object        \n",
      " 30  age                             10066 non-null  float64       \n",
      "dtypes: datetime64[ns](2), float64(19), int64(5), object(5)\n",
      "memory usage: 3.4+ MB\n"
     ]
    }
   ],
   "source": [
    "combined.info()"
   ]
  },
  {
   "cell_type": "markdown",
   "metadata": {},
   "source": [
    "We can see now how looks our final dataset. Because we combined two datasets, we can see that we have more rows than there were in initial `session` dataset (15037 entries). If we drop all rows that were created after merge method, we will get the initial number of rows. So let's drop them."
   ]
  },
  {
   "cell_type": "code",
   "execution_count": 76,
   "metadata": {},
   "outputs": [],
   "source": [
    "combined = combined.dropna()"
   ]
  },
  {
   "cell_type": "code",
   "execution_count": 77,
   "metadata": {},
   "outputs": [
    {
     "data": {
      "text/html": [
       "<div>\n",
       "<style scoped>\n",
       "    .dataframe tbody tr th:only-of-type {\n",
       "        vertical-align: middle;\n",
       "    }\n",
       "\n",
       "    .dataframe tbody tr th {\n",
       "        vertical-align: top;\n",
       "    }\n",
       "\n",
       "    .dataframe thead th {\n",
       "        text-align: right;\n",
       "    }\n",
       "</style>\n",
       "<table border=\"1\" class=\"dataframe\">\n",
       "  <thead>\n",
       "    <tr style=\"text-align: right;\">\n",
       "      <th></th>\n",
       "      <th>pct_scroll_move_duration</th>\n",
       "      <th>pct_mouse_move</th>\n",
       "      <th>mouse_move_total_rel_distance</th>\n",
       "      <th>page_activity_duration</th>\n",
       "      <th>pct_scrandom</th>\n",
       "      <th>screen_width</th>\n",
       "      <th>ack</th>\n",
       "      <th>pct_mouse_click</th>\n",
       "      <th>pct_input</th>\n",
       "      <th>pct_click</th>\n",
       "      <th>...</th>\n",
       "      <th>session_start</th>\n",
       "      <th>pct_rage_click</th>\n",
       "      <th>wild_mouse_duration</th>\n",
       "      <th>pct_doubleclick</th>\n",
       "      <th>registration</th>\n",
       "      <th>sex</th>\n",
       "      <th>job</th>\n",
       "      <th>username</th>\n",
       "      <th>mail</th>\n",
       "      <th>age</th>\n",
       "    </tr>\n",
       "  </thead>\n",
       "  <tbody>\n",
       "    <tr>\n",
       "      <th>0</th>\n",
       "      <td>9.59904</td>\n",
       "      <td>7.68939</td>\n",
       "      <td>5.37487</td>\n",
       "      <td>8.36462</td>\n",
       "      <td>31.30541</td>\n",
       "      <td>800</td>\n",
       "      <td>0.0</td>\n",
       "      <td>9.13505</td>\n",
       "      <td>0.041250</td>\n",
       "      <td>9.68902</td>\n",
       "      <td>...</td>\n",
       "      <td>2021-07-25 06:48:47</td>\n",
       "      <td>50.79621</td>\n",
       "      <td>13.68951</td>\n",
       "      <td>12.36846</td>\n",
       "      <td>2017-04-09</td>\n",
       "      <td>Unknown</td>\n",
       "      <td>Medicine</td>\n",
       "      <td>hmontecchi</td>\n",
       "      <td>tgozzi@virgilio.it</td>\n",
       "      <td>104.000000</td>\n",
       "    </tr>\n",
       "    <tr>\n",
       "      <th>4</th>\n",
       "      <td>8.50961</td>\n",
       "      <td>9.03280</td>\n",
       "      <td>8.92165</td>\n",
       "      <td>7.77596</td>\n",
       "      <td>58.27990</td>\n",
       "      <td>1366</td>\n",
       "      <td>0.0</td>\n",
       "      <td>9.91178</td>\n",
       "      <td>0.000260</td>\n",
       "      <td>11.65294</td>\n",
       "      <td>...</td>\n",
       "      <td>2019-02-14 23:18:06</td>\n",
       "      <td>63.49090</td>\n",
       "      <td>8.42849</td>\n",
       "      <td>12.72820</td>\n",
       "      <td>2019-09-06</td>\n",
       "      <td>Unknown</td>\n",
       "      <td>Unknown</td>\n",
       "      <td>pietroalves</td>\n",
       "      <td>clarice71@yahoo.com.br</td>\n",
       "      <td>46.000000</td>\n",
       "    </tr>\n",
       "    <tr>\n",
       "      <th>5</th>\n",
       "      <td>10.21832</td>\n",
       "      <td>9.43535</td>\n",
       "      <td>6.90738</td>\n",
       "      <td>8.87715</td>\n",
       "      <td>61.59385</td>\n",
       "      <td>800</td>\n",
       "      <td>0.0</td>\n",
       "      <td>8.42163</td>\n",
       "      <td>0.007060</td>\n",
       "      <td>9.36515</td>\n",
       "      <td>...</td>\n",
       "      <td>2020-01-25 09:21:16</td>\n",
       "      <td>51.62031</td>\n",
       "      <td>11.92129</td>\n",
       "      <td>10.68348</td>\n",
       "      <td>2015-05-16</td>\n",
       "      <td>Unknown</td>\n",
       "      <td>Unknown</td>\n",
       "      <td>siegrunetzold</td>\n",
       "      <td>schaeferjohanne@googlemail.com</td>\n",
       "      <td>58.910983</td>\n",
       "    </tr>\n",
       "    <tr>\n",
       "      <th>6</th>\n",
       "      <td>10.21832</td>\n",
       "      <td>9.43535</td>\n",
       "      <td>6.90738</td>\n",
       "      <td>8.87715</td>\n",
       "      <td>61.59385</td>\n",
       "      <td>800</td>\n",
       "      <td>0.0</td>\n",
       "      <td>8.42163</td>\n",
       "      <td>0.007060</td>\n",
       "      <td>9.36515</td>\n",
       "      <td>...</td>\n",
       "      <td>2020-01-25 09:21:16</td>\n",
       "      <td>51.62031</td>\n",
       "      <td>11.92129</td>\n",
       "      <td>10.68348</td>\n",
       "      <td>2014-03-02</td>\n",
       "      <td>F</td>\n",
       "      <td>Unknown</td>\n",
       "      <td>bergerkasimir</td>\n",
       "      <td>gklingelhoefer@aol.de</td>\n",
       "      <td>81.000000</td>\n",
       "    </tr>\n",
       "    <tr>\n",
       "      <th>7</th>\n",
       "      <td>10.21832</td>\n",
       "      <td>9.43535</td>\n",
       "      <td>6.90738</td>\n",
       "      <td>8.87715</td>\n",
       "      <td>61.59385</td>\n",
       "      <td>800</td>\n",
       "      <td>0.0</td>\n",
       "      <td>8.42163</td>\n",
       "      <td>0.007060</td>\n",
       "      <td>9.36515</td>\n",
       "      <td>...</td>\n",
       "      <td>2020-01-25 09:21:16</td>\n",
       "      <td>51.62031</td>\n",
       "      <td>11.92129</td>\n",
       "      <td>10.68348</td>\n",
       "      <td>2015-12-26</td>\n",
       "      <td>F</td>\n",
       "      <td>Unknown</td>\n",
       "      <td>karagao</td>\n",
       "      <td>acaldeira@gmail.com</td>\n",
       "      <td>104.000000</td>\n",
       "    </tr>\n",
       "    <tr>\n",
       "      <th>...</th>\n",
       "      <td>...</td>\n",
       "      <td>...</td>\n",
       "      <td>...</td>\n",
       "      <td>...</td>\n",
       "      <td>...</td>\n",
       "      <td>...</td>\n",
       "      <td>...</td>\n",
       "      <td>...</td>\n",
       "      <td>...</td>\n",
       "      <td>...</td>\n",
       "      <td>...</td>\n",
       "      <td>...</td>\n",
       "      <td>...</td>\n",
       "      <td>...</td>\n",
       "      <td>...</td>\n",
       "      <td>...</td>\n",
       "      <td>...</td>\n",
       "      <td>...</td>\n",
       "      <td>...</td>\n",
       "      <td>...</td>\n",
       "      <td>...</td>\n",
       "    </tr>\n",
       "    <tr>\n",
       "      <th>14524</th>\n",
       "      <td>6.65437</td>\n",
       "      <td>7.90783</td>\n",
       "      <td>7.16540</td>\n",
       "      <td>9.87087</td>\n",
       "      <td>66.21809</td>\n",
       "      <td>1280</td>\n",
       "      <td>1.0</td>\n",
       "      <td>9.22723</td>\n",
       "      <td>0.005530</td>\n",
       "      <td>11.18617</td>\n",
       "      <td>...</td>\n",
       "      <td>2023-09-08 00:16:20</td>\n",
       "      <td>63.69988</td>\n",
       "      <td>11.67047</td>\n",
       "      <td>7.39957</td>\n",
       "      <td>2019-08-02</td>\n",
       "      <td>M</td>\n",
       "      <td>Unknown</td>\n",
       "      <td>claudiusgorlitz</td>\n",
       "      <td>lucianokabus@gmx.de</td>\n",
       "      <td>109.000000</td>\n",
       "    </tr>\n",
       "    <tr>\n",
       "      <th>14525</th>\n",
       "      <td>6.65437</td>\n",
       "      <td>7.90783</td>\n",
       "      <td>7.16540</td>\n",
       "      <td>9.87087</td>\n",
       "      <td>66.21809</td>\n",
       "      <td>1280</td>\n",
       "      <td>1.0</td>\n",
       "      <td>9.22723</td>\n",
       "      <td>0.005530</td>\n",
       "      <td>11.18617</td>\n",
       "      <td>...</td>\n",
       "      <td>2023-09-08 00:16:20</td>\n",
       "      <td>63.69988</td>\n",
       "      <td>11.67047</td>\n",
       "      <td>7.39957</td>\n",
       "      <td>2021-10-16</td>\n",
       "      <td>Unknown</td>\n",
       "      <td>Unknown</td>\n",
       "      <td>novotnymiroslav</td>\n",
       "      <td>krizmiloslav@chello.cz</td>\n",
       "      <td>58.910983</td>\n",
       "    </tr>\n",
       "    <tr>\n",
       "      <th>14526</th>\n",
       "      <td>6.65437</td>\n",
       "      <td>7.90783</td>\n",
       "      <td>7.16540</td>\n",
       "      <td>9.87087</td>\n",
       "      <td>66.21809</td>\n",
       "      <td>1280</td>\n",
       "      <td>1.0</td>\n",
       "      <td>9.22723</td>\n",
       "      <td>0.005530</td>\n",
       "      <td>11.18617</td>\n",
       "      <td>...</td>\n",
       "      <td>2023-09-08 00:16:20</td>\n",
       "      <td>63.69988</td>\n",
       "      <td>11.67047</td>\n",
       "      <td>7.39957</td>\n",
       "      <td>2020-06-21</td>\n",
       "      <td>Unknown</td>\n",
       "      <td>Unknown</td>\n",
       "      <td>walterreese</td>\n",
       "      <td>martinezisaac@yahoo.com</td>\n",
       "      <td>58.910983</td>\n",
       "    </tr>\n",
       "    <tr>\n",
       "      <th>14527</th>\n",
       "      <td>6.65437</td>\n",
       "      <td>7.90783</td>\n",
       "      <td>7.16540</td>\n",
       "      <td>9.87087</td>\n",
       "      <td>66.21809</td>\n",
       "      <td>1280</td>\n",
       "      <td>1.0</td>\n",
       "      <td>9.22723</td>\n",
       "      <td>0.005530</td>\n",
       "      <td>11.18617</td>\n",
       "      <td>...</td>\n",
       "      <td>2023-09-08 00:16:20</td>\n",
       "      <td>63.69988</td>\n",
       "      <td>11.67047</td>\n",
       "      <td>7.39957</td>\n",
       "      <td>2020-05-28</td>\n",
       "      <td>Unknown</td>\n",
       "      <td>Unknown</td>\n",
       "      <td>cynthia72</td>\n",
       "      <td>karenmiranda@yahoo.com</td>\n",
       "      <td>58.910983</td>\n",
       "    </tr>\n",
       "    <tr>\n",
       "      <th>14528</th>\n",
       "      <td>9.10168</td>\n",
       "      <td>8.73175</td>\n",
       "      <td>6.19884</td>\n",
       "      <td>8.61816</td>\n",
       "      <td>61.29581</td>\n",
       "      <td>800</td>\n",
       "      <td>0.0</td>\n",
       "      <td>9.23020</td>\n",
       "      <td>0.066912</td>\n",
       "      <td>11.79771</td>\n",
       "      <td>...</td>\n",
       "      <td>2020-07-27 09:04:22</td>\n",
       "      <td>59.66824</td>\n",
       "      <td>17.25529</td>\n",
       "      <td>9.72262</td>\n",
       "      <td>2016-12-07</td>\n",
       "      <td>Unknown</td>\n",
       "      <td>Arts</td>\n",
       "      <td>piermaria05</td>\n",
       "      <td>emozart@alice.it</td>\n",
       "      <td>62.000000</td>\n",
       "    </tr>\n",
       "  </tbody>\n",
       "</table>\n",
       "<p>10066 rows × 31 columns</p>\n",
       "</div>"
      ],
      "text/plain": [
       "       pct_scroll_move_duration  pct_mouse_move  \\\n",
       "0                       9.59904         7.68939   \n",
       "4                       8.50961         9.03280   \n",
       "5                      10.21832         9.43535   \n",
       "6                      10.21832         9.43535   \n",
       "7                      10.21832         9.43535   \n",
       "...                         ...             ...   \n",
       "14524                   6.65437         7.90783   \n",
       "14525                   6.65437         7.90783   \n",
       "14526                   6.65437         7.90783   \n",
       "14527                   6.65437         7.90783   \n",
       "14528                   9.10168         8.73175   \n",
       "\n",
       "       mouse_move_total_rel_distance  page_activity_duration  pct_scrandom  \\\n",
       "0                            5.37487                 8.36462      31.30541   \n",
       "4                            8.92165                 7.77596      58.27990   \n",
       "5                            6.90738                 8.87715      61.59385   \n",
       "6                            6.90738                 8.87715      61.59385   \n",
       "7                            6.90738                 8.87715      61.59385   \n",
       "...                              ...                     ...           ...   \n",
       "14524                        7.16540                 9.87087      66.21809   \n",
       "14525                        7.16540                 9.87087      66.21809   \n",
       "14526                        7.16540                 9.87087      66.21809   \n",
       "14527                        7.16540                 9.87087      66.21809   \n",
       "14528                        6.19884                 8.61816      61.29581   \n",
       "\n",
       "       screen_width  ack  pct_mouse_click  pct_input  pct_click  ...  \\\n",
       "0               800  0.0          9.13505   0.041250    9.68902  ...   \n",
       "4              1366  0.0          9.91178   0.000260   11.65294  ...   \n",
       "5               800  0.0          8.42163   0.007060    9.36515  ...   \n",
       "6               800  0.0          8.42163   0.007060    9.36515  ...   \n",
       "7               800  0.0          8.42163   0.007060    9.36515  ...   \n",
       "...             ...  ...              ...        ...        ...  ...   \n",
       "14524          1280  1.0          9.22723   0.005530   11.18617  ...   \n",
       "14525          1280  1.0          9.22723   0.005530   11.18617  ...   \n",
       "14526          1280  1.0          9.22723   0.005530   11.18617  ...   \n",
       "14527          1280  1.0          9.22723   0.005530   11.18617  ...   \n",
       "14528           800  0.0          9.23020   0.066912   11.79771  ...   \n",
       "\n",
       "            session_start  pct_rage_click wild_mouse_duration  \\\n",
       "0     2021-07-25 06:48:47        50.79621            13.68951   \n",
       "4     2019-02-14 23:18:06        63.49090             8.42849   \n",
       "5     2020-01-25 09:21:16        51.62031            11.92129   \n",
       "6     2020-01-25 09:21:16        51.62031            11.92129   \n",
       "7     2020-01-25 09:21:16        51.62031            11.92129   \n",
       "...                   ...             ...                 ...   \n",
       "14524 2023-09-08 00:16:20        63.69988            11.67047   \n",
       "14525 2023-09-08 00:16:20        63.69988            11.67047   \n",
       "14526 2023-09-08 00:16:20        63.69988            11.67047   \n",
       "14527 2023-09-08 00:16:20        63.69988            11.67047   \n",
       "14528 2020-07-27 09:04:22        59.66824            17.25529   \n",
       "\n",
       "       pct_doubleclick  registration      sex       job         username  \\\n",
       "0             12.36846    2017-04-09  Unknown  Medicine       hmontecchi   \n",
       "4             12.72820    2019-09-06  Unknown   Unknown      pietroalves   \n",
       "5             10.68348    2015-05-16  Unknown   Unknown    siegrunetzold   \n",
       "6             10.68348    2014-03-02        F   Unknown    bergerkasimir   \n",
       "7             10.68348    2015-12-26        F   Unknown          karagao   \n",
       "...                ...           ...      ...       ...              ...   \n",
       "14524          7.39957    2019-08-02        M   Unknown  claudiusgorlitz   \n",
       "14525          7.39957    2021-10-16  Unknown   Unknown  novotnymiroslav   \n",
       "14526          7.39957    2020-06-21  Unknown   Unknown      walterreese   \n",
       "14527          7.39957    2020-05-28  Unknown   Unknown        cynthia72   \n",
       "14528          9.72262    2016-12-07  Unknown      Arts      piermaria05   \n",
       "\n",
       "                                 mail         age  \n",
       "0                  tgozzi@virgilio.it  104.000000  \n",
       "4              clarice71@yahoo.com.br   46.000000  \n",
       "5      schaeferjohanne@googlemail.com   58.910983  \n",
       "6               gklingelhoefer@aol.de   81.000000  \n",
       "7                 acaldeira@gmail.com  104.000000  \n",
       "...                               ...         ...  \n",
       "14524             lucianokabus@gmx.de  109.000000  \n",
       "14525          krizmiloslav@chello.cz   58.910983  \n",
       "14526         martinezisaac@yahoo.com   58.910983  \n",
       "14527          karenmiranda@yahoo.com   58.910983  \n",
       "14528                emozart@alice.it   62.000000  \n",
       "\n",
       "[10066 rows x 31 columns]"
      ]
     },
     "execution_count": 77,
     "metadata": {},
     "output_type": "execute_result"
    }
   ],
   "source": [
    "combined"
   ]
  },
  {
   "cell_type": "code",
   "execution_count": 78,
   "metadata": {},
   "outputs": [
    {
     "data": {
      "text/plain": [
       "2187"
      ]
     },
     "execution_count": 78,
     "metadata": {},
     "output_type": "execute_result"
    }
   ],
   "source": [
    "len(combined['username'].unique())"
   ]
  },
  {
   "cell_type": "code",
   "execution_count": 79,
   "metadata": {},
   "outputs": [
    {
     "data": {
      "text/plain": [
       "2198"
      ]
     },
     "execution_count": 79,
     "metadata": {},
     "output_type": "execute_result"
    }
   ],
   "source": [
    "len(combined['mail'].unique())"
   ]
  },
  {
   "cell_type": "markdown",
   "metadata": {},
   "source": [
    "We have about 2.5K unique usernames and mails, these two columns have high cardinality and probably won't provide us with further information for machine learning algorithm. So let's drop them."
   ]
  },
  {
   "cell_type": "code",
   "execution_count": 80,
   "metadata": {},
   "outputs": [],
   "source": [
    "combined = combined.drop(['username', 'mail'], axis=1)"
   ]
  },
  {
   "cell_type": "markdown",
   "metadata": {},
   "source": [
    "Divide dataset to features and target variables:"
   ]
  },
  {
   "cell_type": "code",
   "execution_count": 81,
   "metadata": {},
   "outputs": [],
   "source": [
    "X, y = combined.drop(['ack'], axis=1), combined['ack']"
   ]
  },
  {
   "cell_type": "code",
   "execution_count": 82,
   "metadata": {},
   "outputs": [
    {
     "data": {
      "text/plain": [
       "((10066, 28), (10066,))"
      ]
     },
     "execution_count": 82,
     "metadata": {},
     "output_type": "execute_result"
    }
   ],
   "source": [
    "X.shape, y.shape"
   ]
  },
  {
   "cell_type": "markdown",
   "metadata": {},
   "source": [
    "Split the data for train_val and test datasets:"
   ]
  },
  {
   "cell_type": "code",
   "execution_count": 83,
   "metadata": {},
   "outputs": [],
   "source": [
    "from sklearn.model_selection import train_test_split\n",
    "X_train_val, X_test, y_train_val, y_test = train_test_split(X, y, random_state=42)"
   ]
  },
  {
   "cell_type": "code",
   "execution_count": 84,
   "metadata": {},
   "outputs": [
    {
     "data": {
      "text/plain": [
       "((7549, 28), (7549,))"
      ]
     },
     "execution_count": 84,
     "metadata": {},
     "output_type": "execute_result"
    }
   ],
   "source": [
    "X_train_val.shape, y_train_val.shape"
   ]
  },
  {
   "cell_type": "markdown",
   "metadata": {},
   "source": [
    "Now, for machine learning algorithm we should encode categorical data in out dataset. The categorical columns are `sex`, `job`, `browser_name`."
   ]
  },
  {
   "cell_type": "markdown",
   "metadata": {},
   "source": [
    "Now, for machine learning algorithm we should encode categorical data in out dataset. The categorical columns are `sex`, `job`, `browser_name`."
   ]
  },
  {
   "cell_type": "code",
   "execution_count": 85,
   "metadata": {},
   "outputs": [],
   "source": [
    "X_train_val_num = X_train_val.drop(['sex', 'job', 'browser_name'], axis=1)\n",
    "X_train_val_cat = X_train_val[['sex', 'job', 'browser_name']]"
   ]
  },
  {
   "cell_type": "markdown",
   "metadata": {},
   "source": [
    "For numerical columns, let's standardize them, because they have some sort of Gaussian distribution, so it will probably be the best scaling algorithm."
   ]
  },
  {
   "cell_type": "markdown",
   "metadata": {},
   "source": [
    "Also, for the numerical columns we will not standardize columns: `screen_width`, `session_id`, `product_ean`, `user_id`, `screen_height`, `session_start`, `registration`, `age`."
   ]
  },
  {
   "cell_type": "code",
   "execution_count": 86,
   "metadata": {},
   "outputs": [],
   "source": [
    "X_train_val_num_norm = X_train_val_num.drop(['screen_width', 'session_id', 'product_ean', 'user_id',\n",
    "                                             'screen_height', 'session_start', 'registration', 'age'], axis=1)\n",
    "X_train_val_num_keep = X_train_val_num[['screen_width', 'session_id', 'product_ean', 'user_id',\n",
    "                                        'screen_height', 'session_start', 'registration', 'age']]"
   ]
  },
  {
   "cell_type": "code",
   "execution_count": 87,
   "metadata": {},
   "outputs": [
    {
     "data": {
      "image/png": "[encoded data removed]",
      "text/plain": [
       "<Figure size 640x480 with 1 Axes>"
      ]
     },
     "metadata": {},
     "output_type": "display_data"
    }
   ],
   "source": [
    "fig, ax = plt.subplots()\n",
    "sns.violinplot(X_train_val_num_norm)\n",
    "for label in ax.get_xticklabels():\n",
    "    label.set_rotation(90)\n",
    "plt.show()"
   ]
  },
  {
   "cell_type": "markdown",
   "metadata": {},
   "source": [
    "First, let's remove outliers from the data:"
   ]
  },
  {
   "cell_type": "code",
   "execution_count": 88,
   "metadata": {},
   "outputs": [],
   "source": [
    "def detect_outliers(col, min_perc, max_perc):\n",
    "    q_min = np.quantile(col, min_perc)\n",
    "    q_max = np.quantile(col, max_perc)\n",
    "    iqr = 1.5 * (q_max - q_min)\n",
    "\n",
    "    lower = q_min - iqr\n",
    "    upper = q_max + iqr\n",
    "    return col[(col < lower) | (col > upper)]"
   ]
  },
  {
   "cell_type": "markdown",
   "metadata": {},
   "source": [
    "We have one column with big number of outliers - `pct_input`. So we will remove these outliers from it"
   ]
  },
  {
   "cell_type": "code",
   "execution_count": 89,
   "metadata": {},
   "outputs": [],
   "source": [
    "indices_to_drop = detect_outliers(X_train_val_num_norm['pct_input'], 0.1, 0.8).index\n",
    "X_train_val_num_norm = X_train_val_num_norm.drop(indices_to_drop)\n",
    "X_train_val_num_keep = X_train_val_num_keep.drop(indices_to_drop)\n",
    "X_train_val_cat = X_train_val_cat.drop(indices_to_drop)\n",
    "y_train_val = y_train_val.drop(indices_to_drop)"
   ]
  },
  {
   "cell_type": "code",
   "execution_count": 90,
   "metadata": {},
   "outputs": [],
   "source": [
    "from sklearn.preprocessing import StandardScaler\n",
    "\n",
    "standard_scaler = StandardScaler().fit(X_train_val_num_norm)\n",
    "X_train_val_num_scaled = standard_scaler.transform(X_train_val_num_norm)"
   ]
  },
  {
   "cell_type": "markdown",
   "metadata": {},
   "source": [
    "Now, let's encode categorical variables:"
   ]
  },
  {
   "cell_type": "code",
   "execution_count": 91,
   "metadata": {},
   "outputs": [
    {
     "data": {
      "text/plain": [
       "array([[0., 0., 1., 0., 0., 0., 0., 0., 0., 0., 0., 0., 0., 0., 0., 0.,\n",
       "        0., 0., 0., 1., 0., 0., 0., 1., 0., 0., 0., 0.],\n",
       "       [0., 1., 0., 0., 0., 0., 0., 0., 0., 0., 0., 0., 0., 0., 0., 0.,\n",
       "        0., 0., 0., 1., 0., 1., 0., 0., 0., 0., 0., 0.],\n",
       "       [0., 1., 0., 1., 0., 0., 0., 0., 0., 0., 0., 0., 0., 0., 0., 0.,\n",
       "        0., 0., 0., 0., 0., 0., 0., 0., 1., 0., 0., 0.],\n",
       "       [0., 0., 1., 0., 0., 0., 0., 0., 0., 0., 0., 0., 0., 0., 0., 0.,\n",
       "        0., 0., 0., 1., 0., 0., 0., 1., 0., 0., 0., 0.],\n",
       "       [0., 0., 1., 0., 0., 0., 0., 0., 0., 0., 0., 0., 0., 0., 0., 0.,\n",
       "        0., 0., 0., 1., 0., 1., 0., 0., 0., 0., 0., 0.],\n",
       "       [0., 1., 0., 0., 0., 0., 0., 0., 0., 0., 0., 0., 0., 0., 0., 0.,\n",
       "        0., 0., 0., 1., 0., 0., 0., 0., 0., 1., 0., 0.],\n",
       "       [0., 1., 0., 0., 0., 0., 0., 0., 0., 0., 0., 0., 0., 0., 0., 0.,\n",
       "        0., 0., 0., 1., 0., 1., 0., 0., 0., 0., 0., 0.],\n",
       "       [0., 0., 1., 0., 0., 0., 0., 0., 0., 0., 0., 0., 0., 0., 0., 0.,\n",
       "        0., 0., 0., 1., 0., 0., 0., 0., 0., 0., 0., 1.],\n",
       "       [0., 0., 1., 0., 0., 0., 0., 0., 0., 0., 0., 0., 0., 0., 0., 0.,\n",
       "        0., 0., 0., 1., 0., 1., 0., 0., 0., 0., 0., 0.],\n",
       "       [0., 0., 1., 0., 0., 0., 0., 0., 0., 0., 1., 0., 0., 0., 0., 0.,\n",
       "        0., 0., 0., 0., 0., 0., 0., 0., 1., 0., 0., 0.]])"
      ]
     },
     "execution_count": 91,
     "metadata": {},
     "output_type": "execute_result"
    }
   ],
   "source": [
    "from sklearn.preprocessing import OneHotEncoder\n",
    "\n",
    "one_hot_encoder = OneHotEncoder(sparse_output=False)\n",
    "X_train_val_cat_encoded = one_hot_encoder.fit_transform(X_train_val_cat)\n",
    "X_train_val_cat_encoded[:10]"
   ]
  },
  {
   "cell_type": "code",
   "execution_count": 92,
   "metadata": {},
   "outputs": [
    {
     "data": {
      "text/plain": [
       "[array(['F', 'M', 'Unknown'], dtype=object),\n",
       " array(['Adviser', 'Arts', 'Aviation', 'CEO', 'Education', 'Engineer',\n",
       "        'Environment', 'Finance', 'Food', 'Force', 'Goverment',\n",
       "        'Journalist', 'Law', 'Manager', 'Medicine', 'Sports', 'Unknown',\n",
       "        'Worker'], dtype=object),\n",
       " array(['chrome', 'edge', 'firefox', 'mobile', 'opera', 'other', 'safari'],\n",
       "       dtype=object)]"
      ]
     },
     "execution_count": 92,
     "metadata": {},
     "output_type": "execute_result"
    }
   ],
   "source": [
    "one_hot_encoder.categories_"
   ]
  },
  {
   "cell_type": "code",
   "execution_count": 93,
   "metadata": {},
   "outputs": [],
   "source": [
    "X_train_val_num_keep['session_start_year'] = X_train_val_num_keep['session_start'].dt.year\n",
    "X_train_val_num_keep['session_start_month'] = X_train_val_num_keep['session_start'].dt.month\n",
    "X_train_val_num_keep['session_start_day'] = X_train_val_num_keep['session_start'].dt.day\n",
    "X_train_val_num_keep['session_start_hour'] = X_train_val_num_keep['session_start'].dt.hour\n",
    "X_train_val_num_keep['session_start_minute'] = X_train_val_num_keep['session_start'].dt.minute\n",
    "X_train_val_num_keep['session_start_second'] = X_train_val_num_keep['session_start'].dt.second\n",
    "\n",
    "X_train_val_num_keep['registration_year'] = X_train_val_num_keep['registration'].dt.year\n",
    "X_train_val_num_keep['registration_month'] = X_train_val_num_keep['registration'].dt.month\n",
    "X_train_val_num_keep['registration_day'] = X_train_val_num_keep['registration'].dt.day\n",
    "\n",
    "X_train_val_num_keep = X_train_val_num_keep.drop(['session_start', 'registration'], axis=1)"
   ]
  },
  {
   "cell_type": "markdown",
   "metadata": {},
   "source": [
    "Let's combine all three preprocessed datasets to one for machine learning model:"
   ]
  },
  {
   "cell_type": "code",
   "execution_count": 94,
   "metadata": {},
   "outputs": [
    {
     "data": {
      "text/plain": [
       "array([[0.000e+00, 0.000e+00, 1.000e+00, ..., 2.023e+03, 2.000e+00,\n",
       "        2.400e+01],\n",
       "       [0.000e+00, 1.000e+00, 0.000e+00, ..., 2.020e+03, 9.000e+00,\n",
       "        2.100e+01],\n",
       "       [0.000e+00, 1.000e+00, 0.000e+00, ..., 2.023e+03, 5.000e+00,\n",
       "        2.700e+01],\n",
       "       ...,\n",
       "       [0.000e+00, 0.000e+00, 1.000e+00, ..., 2.014e+03, 1.100e+01,\n",
       "        2.700e+01],\n",
       "       [1.000e+00, 0.000e+00, 0.000e+00, ..., 2.021e+03, 1.000e+00,\n",
       "        3.000e+00],\n",
       "       [0.000e+00, 0.000e+00, 1.000e+00, ..., 2.016e+03, 6.000e+00,\n",
       "        1.900e+01]])"
      ]
     },
     "execution_count": 94,
     "metadata": {},
     "output_type": "execute_result"
    }
   ],
   "source": [
    "df_array = np.concatenate([X_train_val_cat_encoded, X_train_val_num_scaled, X_train_val_num_keep.to_numpy()], axis=1)\n",
    "df_array"
   ]
  },
  {
   "cell_type": "code",
   "execution_count": 95,
   "metadata": {},
   "outputs": [
    {
     "data": {
      "text/plain": [
       "((7549, 60), (7549,))"
      ]
     },
     "execution_count": 95,
     "metadata": {},
     "output_type": "execute_result"
    }
   ],
   "source": [
    "df_array.shape, y_train_val.shape"
   ]
  },
  {
   "cell_type": "code",
   "execution_count": 96,
   "metadata": {},
   "outputs": [
    {
     "data": {
      "text/plain": [
       "array([[0.000e+00, 0.000e+00, 1.000e+00, ..., 2.023e+03, 2.000e+00,\n",
       "        2.400e+01],\n",
       "       [0.000e+00, 1.000e+00, 0.000e+00, ..., 2.020e+03, 9.000e+00,\n",
       "        2.100e+01],\n",
       "       [0.000e+00, 1.000e+00, 0.000e+00, ..., 2.023e+03, 5.000e+00,\n",
       "        2.700e+01],\n",
       "       ...,\n",
       "       [0.000e+00, 0.000e+00, 1.000e+00, ..., 2.014e+03, 1.100e+01,\n",
       "        2.700e+01],\n",
       "       [1.000e+00, 0.000e+00, 0.000e+00, ..., 2.021e+03, 1.000e+00,\n",
       "        3.000e+00],\n",
       "       [0.000e+00, 0.000e+00, 1.000e+00, ..., 2.016e+03, 6.000e+00,\n",
       "        1.900e+01]])"
      ]
     },
     "execution_count": 96,
     "metadata": {},
     "output_type": "execute_result"
    }
   ],
   "source": [
    "df_array"
   ]
  },
  {
   "cell_type": "markdown",
   "metadata": {},
   "source": [
    "## 3. Selection of attributes for machine learning"
   ]
  },
  {
   "cell_type": "markdown",
   "metadata": {},
   "source": [
    "There are no much correlated variables in this dataset. Columns which are correlated with column `ack` are: `wild_mouse_duration`, `pct_input `, `scroll_move_total_rel_distance`, `page_activity_duration`, `pct_doubleclick`"
   ]
  },
  {
   "cell_type": "code",
   "execution_count": 98,
   "metadata": {},
   "outputs": [
    {
     "data": {
      "text/plain": [
       "ack                               1.000000\n",
       "page_activity_duration            0.708365\n",
       "total_load_time                   0.031642\n",
       "pct_wild_mouse                    0.019195\n",
       "pct_mouse_move                    0.015681\n",
       "pct_scroll_move_duration          0.013085\n",
       "product_ean                       0.009612\n",
       "screen_height                     0.008864\n",
       "pct_scroll_move                   0.004894\n",
       "screen_width                      0.002891\n",
       "pct_click_product_info            0.002755\n",
       "pct_scrandom                     -0.001180\n",
       "mouse_move_total_rel_distance    -0.001913\n",
       "age                              -0.002975\n",
       "pct_rage_click                   -0.003368\n",
       "pct_click                        -0.005273\n",
       "session_duration                 -0.015073\n",
       "user_id                          -0.019224\n",
       "session_id                       -0.020783\n",
       "pct_mouse_click                  -0.021305\n",
       "wild_mouse_duration              -0.377663\n",
       "pct_doubleclick                  -0.387256\n",
       "pct_input                        -0.453053\n",
       "scroll_move_total_rel_distance   -0.711474\n",
       "Name: ack, dtype: float64"
      ]
     },
     "execution_count": 98,
     "metadata": {},
     "output_type": "execute_result"
    }
   ],
   "source": [
    "numeric_columns = combined.select_dtypes(include=['float64', 'int64']).columns.tolist()\n",
    "correlation_matrix_combined = combined[numeric_columns].corr()['ack'].sort_values(ascending=False)\n",
    "correlation_matrix_combined"
   ]
  },
  {
   "cell_type": "markdown",
   "metadata": {},
   "source": [
    "To find out if there are correlations based on gender, lets drop 'Unknown' rows"
   ]
  },
  {
   "cell_type": "code",
   "execution_count": 99,
   "metadata": {},
   "outputs": [
    {
     "name": "stdout",
     "output_type": "stream",
     "text": [
      " Correlation between 'sex' and 'ack': 0.00404410430093745\n",
      "Purchase Counts by Gender:\n",
      "sex\n",
      "M    1356\n",
      "F    1349\n",
      "Name: count, dtype: int64\n"
     ]
    },
    {
     "name": "stderr",
     "output_type": "stream",
     "text": [
      "/tmp/ipykernel_27543/4022965964.py:4: FutureWarning: Downcasting behavior in `replace` is deprecated and will be removed in a future version. To retain the old behavior, explicitly call `result.infer_objects(copy=False)`. To opt-in to the future behavior, set `pd.set_option('future.no_silent_downcasting', True)`\n",
      "  combined_dupl['sex_numeric'] = combined_dupl['sex'].replace({'M': 0, 'F': 1})\n",
      "/tmp/ipykernel_27543/4022965964.py:11: UserWarning: Boolean Series key will be reindexed to match DataFrame index.\n",
      "  purchase_counts_by_gender = combined_dupl[combined['ack'] == 1]['sex'].value_counts()\n"
     ]
    }
   ],
   "source": [
    "combined_dupl = combined.copy() \n",
    "combined_dupl = combined_dupl[combined_dupl['sex'] != 'Unknown']\n",
    "# Convert 'sex' column to numerical (0 and 1)\n",
    "combined_dupl['sex_numeric'] = combined_dupl['sex'].replace({'M': 0, 'F': 1})\n",
    "\n",
    "# Calculate point biserial correlation\n",
    "point_biserial_corr = combined_dupl['sex_numeric'].corr(combined_dupl['ack'])\n",
    "\n",
    "print(f\" Correlation between 'sex' and 'ack': {point_biserial_corr}\")\n",
    "\n",
    "purchase_counts_by_gender = combined_dupl[combined['ack'] == 1]['sex'].value_counts()\n",
    "\n",
    "print(\"Purchase Counts by Gender:\")\n",
    "print(purchase_counts_by_gender)"
   ]
  },
  {
   "cell_type": "markdown",
   "metadata": {},
   "source": [
    "We can see that there are no correlation between ack and sex attributes"
   ]
  },
  {
   "cell_type": "code",
   "execution_count": 100,
   "metadata": {},
   "outputs": [
    {
     "name": "stdout",
     "output_type": "stream",
     "text": [
      "Correlation with 'ack' for selected job types:\n",
      "Adviser       -0.017503\n",
      "Arts           0.006550\n",
      "Aviation      -0.000808\n",
      "CEO            0.014127\n",
      "Education      0.004069\n",
      "Engineer      -0.000504\n",
      "Environment    0.009020\n",
      "Finance        0.008911\n",
      "Food          -0.005827\n",
      "Force         -0.003217\n",
      "Goverment      0.016093\n",
      "Journalist     0.007161\n",
      "Law           -0.006432\n",
      "Manager       -0.008278\n",
      "Medicine      -0.007774\n",
      "Sports        -0.021442\n",
      "Unknown        0.009047\n",
      "Worker        -0.018721\n",
      "Name: ack, dtype: float64\n"
     ]
    }
   ],
   "source": [
    "job_dummies = pd.get_dummies(combined['job'])\n",
    "\n",
    "# Concatenate the dummy variables with the 'ack' column\n",
    "data_with_dummies = pd.concat([combined['ack'], job_dummies], axis=1)\n",
    "\n",
    "# Calculate correlations between 'ack' and job types\n",
    "correlations = data_with_dummies.corr()['ack'].drop('ack')  # Drop self-correlation with 'ack'\n",
    "\n",
    "# Filter correlations for specific job types\n",
    "selected_job_types = ['Adviser', 'Arts', 'Aviation', 'CEO', 'Education', 'Engineer',\n",
    "                      'Environment', 'Finance', 'Food', 'Force', 'Goverment',\n",
    "                      'Journalist', 'Law', 'Manager', 'Medicine', 'Sports', 'Unknown',\n",
    "                      'Worker']\n",
    "\n",
    "correlations_selected_jobs = correlations[selected_job_types]\n",
    "\n",
    "print(\"Correlation with 'ack' for selected job types:\")\n",
    "print(correlations_selected_jobs)"
   ]
  },
  {
   "cell_type": "markdown",
   "metadata": {},
   "source": [
    "Professions with the most ack=1: CEO(77.7%), Goverment(65.9%), with the least: Sports(41.6%), Adviser(47.7%), Worker(47.8%)"
   ]
  },
  {
   "cell_type": "code",
   "execution_count": 101,
   "metadata": {},
   "outputs": [
    {
     "name": "stdout",
     "output_type": "stream",
     "text": [
      "Correlation between 'registration' and 'ack': -0.008995544927066931\n"
     ]
    }
   ],
   "source": [
    "combined_dupl = combined.copy()\n",
    "combined_dupl['registration_year'] = pd.to_datetime(combined['registration']).dt.year\n",
    "\n",
    "correlation_registration_ack = combined_dupl['registration_year'].corr(combined_dupl['ack'])\n",
    "\n",
    "print(f\"Correlation between 'registration' and 'ack': {correlation_registration_ack}\")"
   ]
  },
  {
   "cell_type": "markdown",
   "metadata": {},
   "source": [
    "registration and ack also dont have high correlation"
   ]
  },
  {
   "cell_type": "markdown",
   "metadata": {},
   "source": [
    "Importancy of different attributes:\n",
    "\n",
    "Important: `wild_mouse_duration`, `pct_input `, `scroll_move_total_rel_distance`, `page_activity_duration`,`pct_doubleclick`, `job`\n",
    "\n",
    "Medium importance: `total_load_time`, `pct_mouse_click`, `session_id`, `user_id`, `pct_wild_mouse`, `pct_mouse_move`, `session_duration`,`pct_scroll_move_duration`\n",
    "\n",
    "Unimportant: everything else"
   ]
  },
  {
   "cell_type": "markdown",
   "metadata": {},
   "source": [
    "Let's use `SelectKBest` to choose features for our future model"
   ]
  },
  {
   "cell_type": "code",
   "execution_count": 102,
   "metadata": {},
   "outputs": [
    {
     "data": {
      "text/html": [
       "<style>#sk-container-id-1 {\n",
       "  /* Definition of color scheme common for light and dark mode */\n",
       "  --sklearn-color-text: black;\n",
       "  --sklearn-color-line: gray;\n",
       "  /* Definition of color scheme for unfitted estimators */\n",
       "  --sklearn-color-unfitted-level-0: #fff5e6;\n",
       "  --sklearn-color-unfitted-level-1: #f6e4d2;\n",
       "  --sklearn-color-unfitted-level-2: #ffe0b3;\n",
       "  --sklearn-color-unfitted-level-3: chocolate;\n",
       "  /* Definition of color scheme for fitted estimators */\n",
       "  --sklearn-color-fitted-level-0: #f0f8ff;\n",
       "  --sklearn-color-fitted-level-1: #d4ebff;\n",
       "  --sklearn-color-fitted-level-2: #b3dbfd;\n",
       "  --sklearn-color-fitted-level-3: cornflowerblue;\n",
       "\n",
       "  /* Specific color for light theme */\n",
       "  --sklearn-color-text-on-default-background: var(--sg-text-color, var(--theme-code-foreground, var(--jp-content-font-color1, black)));\n",
       "  --sklearn-color-background: var(--sg-background-color, var(--theme-background, var(--jp-layout-color0, white)));\n",
       "  --sklearn-color-border-box: var(--sg-text-color, var(--theme-code-foreground, var(--jp-content-font-color1, black)));\n",
       "  --sklearn-color-icon: #696969;\n",
       "\n",
       "  @media (prefers-color-scheme: dark) {\n",
       "    /* Redefinition of color scheme for dark theme */\n",
       "    --sklearn-color-text-on-default-background: var(--sg-text-color, var(--theme-code-foreground, var(--jp-content-font-color1, white)));\n",
       "    --sklearn-color-background: var(--sg-background-color, var(--theme-background, var(--jp-layout-color0, #111)));\n",
       "    --sklearn-color-border-box: var(--sg-text-color, var(--theme-code-foreground, var(--jp-content-font-color1, white)));\n",
       "    --sklearn-color-icon: #878787;\n",
       "  }\n",
       "}\n",
       "\n",
       "#sk-container-id-1 {\n",
       "  color: var(--sklearn-color-text);\n",
       "}\n",
       "\n",
       "#sk-container-id-1 pre {\n",
       "  padding: 0;\n",
       "}\n",
       "\n",
       "#sk-container-id-1 input.sk-hidden--visually {\n",
       "  border: 0;\n",
       "  clip: rect(1px 1px 1px 1px);\n",
       "  clip: rect(1px, 1px, 1px, 1px);\n",
       "  height: 1px;\n",
       "  margin: -1px;\n",
       "  overflow: hidden;\n",
       "  padding: 0;\n",
       "  position: absolute;\n",
       "  width: 1px;\n",
       "}\n",
       "\n",
       "#sk-container-id-1 div.sk-dashed-wrapped {\n",
       "  border: 1px dashed var(--sklearn-color-line);\n",
       "  margin: 0 0.4em 0.5em 0.4em;\n",
       "  box-sizing: border-box;\n",
       "  padding-bottom: 0.4em;\n",
       "  background-color: var(--sklearn-color-background);\n",
       "}\n",
       "\n",
       "#sk-container-id-1 div.sk-container {\n",
       "  /* jupyter's `normalize.less` sets `[hidden] { display: none; }`\n",
       "     but bootstrap.min.css set `[hidden] { display: none !important; }`\n",
       "     so we also need the `!important` here to be able to override the\n",
       "     default hidden behavior on the sphinx rendered scikit-learn.org.\n",
       "     See: https://github.com/scikit-learn/scikit-learn/issues/21755 */\n",
       "  display: inline-block !important;\n",
       "  position: relative;\n",
       "}\n",
       "\n",
       "#sk-container-id-1 div.sk-text-repr-fallback {\n",
       "  display: none;\n",
       "}\n",
       "\n",
       "div.sk-parallel-item,\n",
       "div.sk-serial,\n",
       "div.sk-item {\n",
       "  /* draw centered vertical line to link estimators */\n",
       "  background-image: linear-gradient(var(--sklearn-color-text-on-default-background), var(--sklearn-color-text-on-default-background));\n",
       "  background-size: 2px 100%;\n",
       "  background-repeat: no-repeat;\n",
       "  background-position: center center;\n",
       "}\n",
       "\n",
       "/* Parallel-specific style estimator block */\n",
       "\n",
       "#sk-container-id-1 div.sk-parallel-item::after {\n",
       "  content: \"\";\n",
       "  width: 100%;\n",
       "  border-bottom: 2px solid var(--sklearn-color-text-on-default-background);\n",
       "  flex-grow: 1;\n",
       "}\n",
       "\n",
       "#sk-container-id-1 div.sk-parallel {\n",
       "  display: flex;\n",
       "  align-items: stretch;\n",
       "  justify-content: center;\n",
       "  background-color: var(--sklearn-color-background);\n",
       "  position: relative;\n",
       "}\n",
       "\n",
       "#sk-container-id-1 div.sk-parallel-item {\n",
       "  display: flex;\n",
       "  flex-direction: column;\n",
       "}\n",
       "\n",
       "#sk-container-id-1 div.sk-parallel-item:first-child::after {\n",
       "  align-self: flex-end;\n",
       "  width: 50%;\n",
       "}\n",
       "\n",
       "#sk-container-id-1 div.sk-parallel-item:last-child::after {\n",
       "  align-self: flex-start;\n",
       "  width: 50%;\n",
       "}\n",
       "\n",
       "#sk-container-id-1 div.sk-parallel-item:only-child::after {\n",
       "  width: 0;\n",
       "}\n",
       "\n",
       "/* Serial-specific style estimator block */\n",
       "\n",
       "#sk-container-id-1 div.sk-serial {\n",
       "  display: flex;\n",
       "  flex-direction: column;\n",
       "  align-items: center;\n",
       "  background-color: var(--sklearn-color-background);\n",
       "  padding-right: 1em;\n",
       "  padding-left: 1em;\n",
       "}\n",
       "\n",
       "\n",
       "/* Toggleable style: style used for estimator/Pipeline/ColumnTransformer box that is\n",
       "clickable and can be expanded/collapsed.\n",
       "- Pipeline and ColumnTransformer use this feature and define the default style\n",
       "- Estimators will overwrite some part of the style using the `sk-estimator` class\n",
       "*/\n",
       "\n",
       "/* Pipeline and ColumnTransformer style (default) */\n",
       "\n",
       "#sk-container-id-1 div.sk-toggleable {\n",
       "  /* Default theme specific background. It is overwritten whether we have a\n",
       "  specific estimator or a Pipeline/ColumnTransformer */\n",
       "  background-color: var(--sklearn-color-background);\n",
       "}\n",
       "\n",
       "/* Toggleable label */\n",
       "#sk-container-id-1 label.sk-toggleable__label {\n",
       "  cursor: pointer;\n",
       "  display: block;\n",
       "  width: 100%;\n",
       "  margin-bottom: 0;\n",
       "  padding: 0.5em;\n",
       "  box-sizing: border-box;\n",
       "  text-align: center;\n",
       "}\n",
       "\n",
       "#sk-container-id-1 label.sk-toggleable__label-arrow:before {\n",
       "  /* Arrow on the left of the label */\n",
       "  content: \"▸\";\n",
       "  float: left;\n",
       "  margin-right: 0.25em;\n",
       "  color: var(--sklearn-color-icon);\n",
       "}\n",
       "\n",
       "#sk-container-id-1 label.sk-toggleable__label-arrow:hover:before {\n",
       "  color: var(--sklearn-color-text);\n",
       "}\n",
       "\n",
       "/* Toggleable content - dropdown */\n",
       "\n",
       "#sk-container-id-1 div.sk-toggleable__content {\n",
       "  max-height: 0;\n",
       "  max-width: 0;\n",
       "  overflow: hidden;\n",
       "  text-align: left;\n",
       "  /* unfitted */\n",
       "  background-color: var(--sklearn-color-unfitted-level-0);\n",
       "}\n",
       "\n",
       "#sk-container-id-1 div.sk-toggleable__content.fitted {\n",
       "  /* fitted */\n",
       "  background-color: var(--sklearn-color-fitted-level-0);\n",
       "}\n",
       "\n",
       "#sk-container-id-1 div.sk-toggleable__content pre {\n",
       "  margin: 0.2em;\n",
       "  border-radius: 0.25em;\n",
       "  color: var(--sklearn-color-text);\n",
       "  /* unfitted */\n",
       "  background-color: var(--sklearn-color-unfitted-level-0);\n",
       "}\n",
       "\n",
       "#sk-container-id-1 div.sk-toggleable__content.fitted pre {\n",
       "  /* unfitted */\n",
       "  background-color: var(--sklearn-color-fitted-level-0);\n",
       "}\n",
       "\n",
       "#sk-container-id-1 input.sk-toggleable__control:checked~div.sk-toggleable__content {\n",
       "  /* Expand drop-down */\n",
       "  max-height: 200px;\n",
       "  max-width: 100%;\n",
       "  overflow: auto;\n",
       "}\n",
       "\n",
       "#sk-container-id-1 input.sk-toggleable__control:checked~label.sk-toggleable__label-arrow:before {\n",
       "  content: \"▾\";\n",
       "}\n",
       "\n",
       "/* Pipeline/ColumnTransformer-specific style */\n",
       "\n",
       "#sk-container-id-1 div.sk-label input.sk-toggleable__control:checked~label.sk-toggleable__label {\n",
       "  color: var(--sklearn-color-text);\n",
       "  background-color: var(--sklearn-color-unfitted-level-2);\n",
       "}\n",
       "\n",
       "#sk-container-id-1 div.sk-label.fitted input.sk-toggleable__control:checked~label.sk-toggleable__label {\n",
       "  background-color: var(--sklearn-color-fitted-level-2);\n",
       "}\n",
       "\n",
       "/* Estimator-specific style */\n",
       "\n",
       "/* Colorize estimator box */\n",
       "#sk-container-id-1 div.sk-estimator input.sk-toggleable__control:checked~label.sk-toggleable__label {\n",
       "  /* unfitted */\n",
       "  background-color: var(--sklearn-color-unfitted-level-2);\n",
       "}\n",
       "\n",
       "#sk-container-id-1 div.sk-estimator.fitted input.sk-toggleable__control:checked~label.sk-toggleable__label {\n",
       "  /* fitted */\n",
       "  background-color: var(--sklearn-color-fitted-level-2);\n",
       "}\n",
       "\n",
       "#sk-container-id-1 div.sk-label label.sk-toggleable__label,\n",
       "#sk-container-id-1 div.sk-label label {\n",
       "  /* The background is the default theme color */\n",
       "  color: var(--sklearn-color-text-on-default-background);\n",
       "}\n",
       "\n",
       "/* On hover, darken the color of the background */\n",
       "#sk-container-id-1 div.sk-label:hover label.sk-toggleable__label {\n",
       "  color: var(--sklearn-color-text);\n",
       "  background-color: var(--sklearn-color-unfitted-level-2);\n",
       "}\n",
       "\n",
       "/* Label box, darken color on hover, fitted */\n",
       "#sk-container-id-1 div.sk-label.fitted:hover label.sk-toggleable__label.fitted {\n",
       "  color: var(--sklearn-color-text);\n",
       "  background-color: var(--sklearn-color-fitted-level-2);\n",
       "}\n",
       "\n",
       "/* Estimator label */\n",
       "\n",
       "#sk-container-id-1 div.sk-label label {\n",
       "  font-family: monospace;\n",
       "  font-weight: bold;\n",
       "  display: inline-block;\n",
       "  line-height: 1.2em;\n",
       "}\n",
       "\n",
       "#sk-container-id-1 div.sk-label-container {\n",
       "  text-align: center;\n",
       "}\n",
       "\n",
       "/* Estimator-specific */\n",
       "#sk-container-id-1 div.sk-estimator {\n",
       "  font-family: monospace;\n",
       "  border: 1px dotted var(--sklearn-color-border-box);\n",
       "  border-radius: 0.25em;\n",
       "  box-sizing: border-box;\n",
       "  margin-bottom: 0.5em;\n",
       "  /* unfitted */\n",
       "  background-color: var(--sklearn-color-unfitted-level-0);\n",
       "}\n",
       "\n",
       "#sk-container-id-1 div.sk-estimator.fitted {\n",
       "  /* fitted */\n",
       "  background-color: var(--sklearn-color-fitted-level-0);\n",
       "}\n",
       "\n",
       "/* on hover */\n",
       "#sk-container-id-1 div.sk-estimator:hover {\n",
       "  /* unfitted */\n",
       "  background-color: var(--sklearn-color-unfitted-level-2);\n",
       "}\n",
       "\n",
       "#sk-container-id-1 div.sk-estimator.fitted:hover {\n",
       "  /* fitted */\n",
       "  background-color: var(--sklearn-color-fitted-level-2);\n",
       "}\n",
       "\n",
       "/* Specification for estimator info (e.g. \"i\" and \"?\") */\n",
       "\n",
       "/* Common style for \"i\" and \"?\" */\n",
       "\n",
       ".sk-estimator-doc-link,\n",
       "a:link.sk-estimator-doc-link,\n",
       "a:visited.sk-estimator-doc-link {\n",
       "  float: right;\n",
       "  font-size: smaller;\n",
       "  line-height: 1em;\n",
       "  font-family: monospace;\n",
       "  background-color: var(--sklearn-color-background);\n",
       "  border-radius: 1em;\n",
       "  height: 1em;\n",
       "  width: 1em;\n",
       "  text-decoration: none !important;\n",
       "  margin-left: 1ex;\n",
       "  /* unfitted */\n",
       "  border: var(--sklearn-color-unfitted-level-1) 1pt solid;\n",
       "  color: var(--sklearn-color-unfitted-level-1);\n",
       "}\n",
       "\n",
       ".sk-estimator-doc-link.fitted,\n",
       "a:link.sk-estimator-doc-link.fitted,\n",
       "a:visited.sk-estimator-doc-link.fitted {\n",
       "  /* fitted */\n",
       "  border: var(--sklearn-color-fitted-level-1) 1pt solid;\n",
       "  color: var(--sklearn-color-fitted-level-1);\n",
       "}\n",
       "\n",
       "/* On hover */\n",
       "div.sk-estimator:hover .sk-estimator-doc-link:hover,\n",
       ".sk-estimator-doc-link:hover,\n",
       "div.sk-label-container:hover .sk-estimator-doc-link:hover,\n",
       ".sk-estimator-doc-link:hover {\n",
       "  /* unfitted */\n",
       "  background-color: var(--sklearn-color-unfitted-level-3);\n",
       "  color: var(--sklearn-color-background);\n",
       "  text-decoration: none;\n",
       "}\n",
       "\n",
       "div.sk-estimator.fitted:hover .sk-estimator-doc-link.fitted:hover,\n",
       ".sk-estimator-doc-link.fitted:hover,\n",
       "div.sk-label-container:hover .sk-estimator-doc-link.fitted:hover,\n",
       ".sk-estimator-doc-link.fitted:hover {\n",
       "  /* fitted */\n",
       "  background-color: var(--sklearn-color-fitted-level-3);\n",
       "  color: var(--sklearn-color-background);\n",
       "  text-decoration: none;\n",
       "}\n",
       "\n",
       "/* Span, style for the box shown on hovering the info icon */\n",
       ".sk-estimator-doc-link span {\n",
       "  display: none;\n",
       "  z-index: 9999;\n",
       "  position: relative;\n",
       "  font-weight: normal;\n",
       "  right: .2ex;\n",
       "  padding: .5ex;\n",
       "  margin: .5ex;\n",
       "  width: min-content;\n",
       "  min-width: 20ex;\n",
       "  max-width: 50ex;\n",
       "  color: var(--sklearn-color-text);\n",
       "  box-shadow: 2pt 2pt 4pt #999;\n",
       "  /* unfitted */\n",
       "  background: var(--sklearn-color-unfitted-level-0);\n",
       "  border: .5pt solid var(--sklearn-color-unfitted-level-3);\n",
       "}\n",
       "\n",
       ".sk-estimator-doc-link.fitted span {\n",
       "  /* fitted */\n",
       "  background: var(--sklearn-color-fitted-level-0);\n",
       "  border: var(--sklearn-color-fitted-level-3);\n",
       "}\n",
       "\n",
       ".sk-estimator-doc-link:hover span {\n",
       "  display: block;\n",
       "}\n",
       "\n",
       "/* \"?\"-specific style due to the `<a>` HTML tag */\n",
       "\n",
       "#sk-container-id-1 a.estimator_doc_link {\n",
       "  float: right;\n",
       "  font-size: 1rem;\n",
       "  line-height: 1em;\n",
       "  font-family: monospace;\n",
       "  background-color: var(--sklearn-color-background);\n",
       "  border-radius: 1rem;\n",
       "  height: 1rem;\n",
       "  width: 1rem;\n",
       "  text-decoration: none;\n",
       "  /* unfitted */\n",
       "  color: var(--sklearn-color-unfitted-level-1);\n",
       "  border: var(--sklearn-color-unfitted-level-1) 1pt solid;\n",
       "}\n",
       "\n",
       "#sk-container-id-1 a.estimator_doc_link.fitted {\n",
       "  /* fitted */\n",
       "  border: var(--sklearn-color-fitted-level-1) 1pt solid;\n",
       "  color: var(--sklearn-color-fitted-level-1);\n",
       "}\n",
       "\n",
       "/* On hover */\n",
       "#sk-container-id-1 a.estimator_doc_link:hover {\n",
       "  /* unfitted */\n",
       "  background-color: var(--sklearn-color-unfitted-level-3);\n",
       "  color: var(--sklearn-color-background);\n",
       "  text-decoration: none;\n",
       "}\n",
       "\n",
       "#sk-container-id-1 a.estimator_doc_link.fitted:hover {\n",
       "  /* fitted */\n",
       "  background-color: var(--sklearn-color-fitted-level-3);\n",
       "}\n",
       "</style><div id=\"sk-container-id-1\" class=\"sk-top-container\"><div class=\"sk-text-repr-fallback\"><pre>SelectKBest()</pre><b>In a Jupyter environment, please rerun this cell to show the HTML representation or trust the notebook. <br />On GitHub, the HTML representation is unable to render, please try loading this page with nbviewer.org.</b></div><div class=\"sk-container\" hidden><div class=\"sk-item\"><div class=\"sk-estimator fitted sk-toggleable\"><input class=\"sk-toggleable__control sk-hidden--visually\" id=\"sk-estimator-id-1\" type=\"checkbox\" checked><label for=\"sk-estimator-id-1\" class=\"sk-toggleable__label fitted sk-toggleable__label-arrow fitted\">&nbsp;&nbsp;SelectKBest<a class=\"sk-estimator-doc-link fitted\" rel=\"noreferrer\" target=\"_blank\" href=\"https://scikit-learn.org/1.4/modules/generated/sklearn.feature_selection.SelectKBest.html\">?<span>Documentation for SelectKBest</span></a><span class=\"sk-estimator-doc-link fitted\">i<span>Fitted</span></span></label><div class=\"sk-toggleable__content fitted\"><pre>SelectKBest()</pre></div> </div></div></div></div>"
      ],
      "text/plain": [
       "SelectKBest()"
      ]
     },
     "execution_count": 102,
     "metadata": {},
     "output_type": "execute_result"
    }
   ],
   "source": [
    "from sklearn.feature_selection import SelectKBest\n",
    "best_features = SelectKBest()\n",
    "best_features.fit(df_array, y_train_val)"
   ]
  },
  {
   "cell_type": "code",
   "execution_count": 103,
   "metadata": {},
   "outputs": [],
   "source": [
    "feature_names = ['F', 'M', 'Unknown', 'Adviser', 'Arts', 'Aviation', 'CEO', 'Education',\n",
    "                 'Engineer', 'Environment', 'Finance', 'Food', 'Force', 'Goverment',\n",
    "                 'Journalist', 'Law', 'Manager', 'Medicine', 'Sports', 'Unknown', 'Worker',\n",
    "                 'chrome', 'edge', 'firefox', 'mobile', 'opera', 'other', 'safari',\n",
    "                 'pct_scroll_move_duration', 'pct_mouse_move', 'mouse_move_total_rel_distance',\n",
    "                 'page_activity_duration', 'pct_scrandom', 'pct_mouse_click', 'pct_input',\n",
    "                 'pct_click', 'total_load_time', 'pct_scroll_move', 'scroll_move_total_rel_distance',\n",
    "                 'pct_click_product_info', 'session_duration', 'pct_wild_mouse', 'pct_rage_click',\n",
    "                 'wild_mouse_duration', 'pct_doubleclick', 'screen_width', 'session_id',\n",
    "                 'product_ean', 'user_id', 'screen_height', 'age', 'session_start_year', \n",
    "                 'session_start_month', 'session_start_day', 'session_start_hour',\n",
    "                 'session_start_minute', 'session_start_second', 'registration_year',\n",
    "                 'registration_month', 'registration_day']"
   ]
  },
  {
   "cell_type": "code",
   "execution_count": 104,
   "metadata": {},
   "outputs": [
    {
     "data": {
      "text/plain": [
       "array([5.09380191e-02, 2.03173138e+00, 1.09054575e+00, 1.61878874e+00,\n",
       "       3.65972365e-01, 7.22551312e-01, 1.34356573e+00, 5.80519386e-01,\n",
       "       1.21092617e-01, 4.03864733e-01, 5.38060164e-01, 6.02477386e-03,\n",
       "       2.53529648e-01, 5.29237255e+00, 2.57753717e-03, 9.20693452e-01,\n",
       "       7.57715551e-02, 1.33733477e-02, 1.05624994e+00, 5.53987913e-05,\n",
       "       2.68629094e+00, 5.30583072e+00, 2.89062512e+00, 5.35646755e-05,\n",
       "       1.60612575e-01, 2.31871288e+00, 9.12676425e+00, 2.57796824e-02,\n",
       "       2.51921939e+00, 1.42250351e+00, 7.88436589e-03, 7.87744364e+03,\n",
       "       8.61807067e-02, 4.28435192e+00, 2.02160836e+03, 5.12852634e-01,\n",
       "       5.95473122e+00, 3.60017591e-01, 7.99652876e+03, 3.53662025e-02,\n",
       "       2.14043259e+00, 4.77278786e+00, 1.99648407e-03, 1.32512633e+03,\n",
       "       1.36020457e+03, 3.38105923e-01, 2.33194495e+00, 3.63666069e-01,\n",
       "       1.67277929e+00, 4.03231896e-01, 7.75864332e-03, 4.66288115e-01,\n",
       "       5.55180852e+00, 5.16361978e-02, 1.92420172e+00, 7.40307157e+00,\n",
       "       4.28345492e+00, 4.07045894e-01, 2.98762678e-01, 5.80894502e-02])"
      ]
     },
     "execution_count": 104,
     "metadata": {},
     "output_type": "execute_result"
    }
   ],
   "source": [
    "best_features.scores_"
   ]
  },
  {
   "cell_type": "code",
   "execution_count": 105,
   "metadata": {},
   "outputs": [],
   "source": [
    "features_dict = {}\n",
    "for name, feature in zip(feature_names, best_features.scores_):\n",
    "    features_dict[name] = feature"
   ]
  },
  {
   "cell_type": "code",
   "execution_count": 106,
   "metadata": {},
   "outputs": [
    {
     "data": {
      "text/plain": [
       "[('scroll_move_total_rel_distance', 7996.528755302097),\n",
       " ('page_activity_duration', 7877.443639236358),\n",
       " ('pct_input', 2021.6083606947705),\n",
       " ('pct_doubleclick', 1360.2045653852117),\n",
       " ('wild_mouse_duration', 1325.1263338126196),\n",
       " ('other', 9.126764250992315),\n",
       " ('session_start_minute', 7.40307157146622),\n",
       " ('total_load_time', 5.954731223765963),\n",
       " ('session_start_month', 5.551808515480961),\n",
       " ('chrome', 5.3058307217090155),\n",
       " ('Goverment', 5.292372552005498),\n",
       " ('pct_wild_mouse', 4.772787857006798),\n",
       " ('pct_mouse_click', 4.284351921946848),\n",
       " ('session_start_second', 4.283454917834423),\n",
       " ('edge', 2.8906251222689634),\n",
       " ('Worker', 2.6862909396932384),\n",
       " ('pct_scroll_move_duration', 2.519219388616707),\n",
       " ('session_id', 2.3319449506490653),\n",
       " ('opera', 2.318712880653246),\n",
       " ('session_duration', 2.140432586012807),\n",
       " ('M', 2.0317313788701217),\n",
       " ('session_start_hour', 1.9242017154645155),\n",
       " ('user_id', 1.6727792861008401),\n",
       " ('Adviser', 1.6187887444383793),\n",
       " ('pct_mouse_move', 1.4225035136910742),\n",
       " ('CEO', 1.3435657335780726),\n",
       " ('Sports', 1.0562499445572362),\n",
       " ('Law', 0.9206934520594403),\n",
       " ('Aviation', 0.7225513115950937),\n",
       " ('Education', 0.580519386242773),\n",
       " ('Finance', 0.5380601640931278),\n",
       " ('pct_click', 0.5128526337970531),\n",
       " ('session_start_year', 0.4662881150976185),\n",
       " ('registration_year', 0.4070458939638978),\n",
       " ('Environment', 0.40386473250299143),\n",
       " ('screen_height', 0.4032318958199107),\n",
       " ('Arts', 0.36597236467722394),\n",
       " ('product_ean', 0.3636660692738201),\n",
       " ('pct_scroll_move', 0.36001759095624264),\n",
       " ('screen_width', 0.33810592270415435),\n",
       " ('registration_month', 0.29876267810746043),\n",
       " ('Force', 0.25352964823612545),\n",
       " ('mobile', 0.1606125747638044),\n",
       " ('Engineer', 0.1210926172910104),\n",
       " ('pct_scrandom', 0.08618070667738358),\n",
       " ('Manager', 0.07577155508493717),\n",
       " ('registration_day', 0.05808945023388043),\n",
       " ('session_start_day', 0.051636197836145654),\n",
       " ('F', 0.050938019135847945),\n",
       " ('pct_click_product_info', 0.03536620247997446),\n",
       " ('safari', 0.025779682403169517),\n",
       " ('Medicine', 0.01337334773083563),\n",
       " ('mouse_move_total_rel_distance', 0.007884365892449952),\n",
       " ('age', 0.0077586433244940245),\n",
       " ('Food', 0.006024773856070621),\n",
       " ('Journalist', 0.0025775371729146895),\n",
       " ('pct_rage_click', 0.0019964840740467537),\n",
       " ('Unknown', 5.539879127348026e-05),\n",
       " ('firefox', 5.356467552231572e-05)]"
      ]
     },
     "execution_count": 106,
     "metadata": {},
     "output_type": "execute_result"
    }
   ],
   "source": [
    "features_dict_sorted = sorted(features_dict.items(), key=lambda item: -item[1])\n",
    "features_dict_sorted"
   ]
  },
  {
   "cell_type": "markdown",
   "metadata": {},
   "source": [
    "Now, we can see which features best fit to our feature machine learning model. We can see that `page_activity_duration` is the most \"valuable\" feature in our dataset."
   ]
  },
  {
   "cell_type": "markdown",
   "metadata": {},
   "source": [
    "## 4. Replicability of preprocessing"
   ]
  },
  {
   "cell_type": "code",
   "execution_count": 107,
   "metadata": {},
   "outputs": [],
   "source": [
    "import numpy as np\n",
    "import pandas as pd"
   ]
  },
  {
   "cell_type": "markdown",
   "metadata": {},
   "source": [
    "Let's create pipeline for data cleaning steps which we did earlier."
   ]
  },
  {
   "cell_type": "markdown",
   "metadata": {},
   "source": [
    "To make the job easier, let's load the dataset again, and do the pipeline for initial datasets."
   ]
  },
  {
   "cell_type": "code",
   "execution_count": 108,
   "metadata": {},
   "outputs": [],
   "source": [
    "user_df = pd.read_csv('data/user.csv', delimiter='\\t')\n",
    "session_df = pd.read_csv('data/session.csv', delimiter='\\t')"
   ]
  },
  {
   "cell_type": "markdown",
   "metadata": {},
   "source": [
    "### 1. User"
   ]
  },
  {
   "cell_type": "code",
   "execution_count": 109,
   "metadata": {},
   "outputs": [],
   "source": [
    "from sklearn.base import BaseEstimator, TransformerMixin\n",
    "from sklearn.pipeline import Pipeline"
   ]
  },
  {
   "cell_type": "code",
   "execution_count": 110,
   "metadata": {},
   "outputs": [],
   "source": [
    "class columnDropperTransformer(BaseEstimator, TransformerMixin):\n",
    "    def __init__(self, columns):\n",
    "        self.columns = columns\n",
    "\n",
    "    def transform(self, X, y=None):\n",
    "        return X.drop(self.columns, axis=1)\n",
    "\n",
    "    def fit(self, X, y=None):\n",
    "        return self "
   ]
  },
  {
   "cell_type": "code",
   "execution_count": 111,
   "metadata": {},
   "outputs": [],
   "source": [
    "class jobsTransformer(BaseEstimator, TransformerMixin):\n",
    "    def __init__(self, job_column):\n",
    "        self.job_column = job_column\n",
    "\n",
    "    def transform(self, X, y=None):\n",
    "        X[self.job_column] = X[self.job_column].map(jobs_dict)\n",
    "        return X\n",
    "\n",
    "    def fit(self, X, y=None):\n",
    "        return self"
   ]
  },
  {
   "cell_type": "code",
   "execution_count": 112,
   "metadata": {},
   "outputs": [],
   "source": [
    "class dateUserColumnsTransformer(BaseEstimator, TransformerMixin):\n",
    "    def transform(self, X, y=None):\n",
    "        X['birthdate'] = pd.to_datetime(X['birthdate'], format='%Y-%m-%d')\n",
    "        X['age'] = pd.to_datetime('today').year - X['birthdate'].dt.year\n",
    "\n",
    "        X['registration'] = self._transform_registration()\n",
    "        X['reg_year'] =  X['registration'].dt.year\n",
    "        X['reg_month'] = X['registration'].dt.month\n",
    "        X['reg_day'] =   X['registration'].dt.day\n",
    "        return X\n",
    "\n",
    "    def fit(self, X, y=None):\n",
    "        return self\n",
    "\n",
    "    def _transform_registration(self):\n",
    "        col1 = pd.to_datetime(user['registration'], format='%Y/%m/%d',           errors='coerce')\n",
    "        col2 = pd.to_datetime(user['registration'], format='%d %b %Y',           errors='coerce')\n",
    "        col3 = pd.to_datetime(user['registration'], format='%Y-%m-%d',           errors='coerce')\n",
    "        col4 = pd.to_datetime(user['registration'], format='%m/%d/%Y, %H:%M:%S', errors='coerce')\n",
    "\n",
    "        registration = pd.concat([col1, col2, col3, col4], axis=1)\n",
    "        registration = registration.bfill(axis=1).iloc[:, 0]\n",
    "        return registration"
   ]
  },
  {
   "cell_type": "code",
   "execution_count": 113,
   "metadata": {},
   "outputs": [],
   "source": [
    "user_pipeline = Pipeline([\n",
    "    ('jobs_pipeline', jobsTransformer('job')),\n",
    "    ('dates_pipeline', dateUserColumnsTransformer()),\n",
    "    ('drop_pipeline', columnDropperTransformer(['race', 'registration',\n",
    "                                                'name', 'username',\n",
    "                                                'birthdate', 'mail',\n",
    "                                                'residence', 'address'])),\n",
    "])"
   ]
  },
  {
   "cell_type": "code",
   "execution_count": 114,
   "metadata": {},
   "outputs": [],
   "source": [
    "user_df = user_pipeline.fit_transform(user_df)"
   ]
  },
  {
   "cell_type": "markdown",
   "metadata": {},
   "source": [
    "### 2. Session"
   ]
  },
  {
   "cell_type": "code",
   "execution_count": 115,
   "metadata": {},
   "outputs": [],
   "source": [
    "class screenTransformer(BaseEstimator, TransformerMixin):\n",
    "    def __init__(self, columns):\n",
    "        self.columns = columns\n",
    "\n",
    "    def transform(self, X, y=None):\n",
    "        for c in self.columns:\n",
    "            X[c] = X[c].replace(map_screen)\n",
    "            X[c] = X[c].astype(int)\n",
    "        return X\n",
    "\n",
    "    def fit(self, X, y=None):\n",
    "        return self"
   ]
  },
  {
   "cell_type": "code",
   "execution_count": 116,
   "metadata": {},
   "outputs": [],
   "source": [
    "class dateSessionColumnsTransformer(BaseEstimator, TransformerMixin):\n",
    "    def transform(self, X, y=None):\n",
    "        X['session_start'] = pd.to_datetime(X['session_start'])\n",
    "        \n",
    "        X['ss_year'] =   X['session_start'].dt.year\n",
    "        X['ss_month'] =  X['session_start'].dt.month\n",
    "        X['ss_day'] =    X['session_start'].dt.day\n",
    "        X['ss_hour'] =   X['session_start'].dt.hour\n",
    "        X['ss_minute'] = X['session_start'].dt.minute\n",
    "        X['ss_second'] = X['session_start'].dt.second\n",
    "        return X\n",
    "        \n",
    "    def fit(self, X, y=None):\n",
    "        return self"
   ]
  },
  {
   "cell_type": "code",
   "execution_count": 117,
   "metadata": {},
   "outputs": [],
   "source": [
    "session_pipeline = Pipeline([\n",
    "    ('screen_pipeline', screenTransformer(['screen_width', 'screen_height'])),\n",
    "    ('dates_pipeline', dateSessionColumnsTransformer()),\n",
    "    ('drop_pipeline', columnDropperTransformer(['session_start'])),\n",
    "])"
   ]
  },
  {
   "cell_type": "code",
   "execution_count": 118,
   "metadata": {},
   "outputs": [],
   "source": [
    "session_df = session_pipeline.fit_transform(session_df)"
   ]
  },
  {
   "cell_type": "markdown",
   "metadata": {},
   "source": [
    "Now, we have two pipelines for initial data cleaning for two datasets that will be used in machine learning model"
   ]
  },
  {
   "cell_type": "markdown",
   "metadata": {},
   "source": [
    "Combined datasets after pipelines:"
   ]
  },
  {
   "cell_type": "code",
   "execution_count": 119,
   "metadata": {},
   "outputs": [],
   "source": [
    "combined_df = user_df.merge(session_df, how='left', on='user_id')"
   ]
  },
  {
   "cell_type": "markdown",
   "metadata": {},
   "source": [
    "Divide by `X`, `y`, and after to `train_val` and `test`:"
   ]
  },
  {
   "cell_type": "code",
   "execution_count": 120,
   "metadata": {},
   "outputs": [],
   "source": [
    "X = combined_df.drop('ack', axis=1)\n",
    "y = combined_df['ack']"
   ]
  },
  {
   "cell_type": "code",
   "execution_count": 121,
   "metadata": {},
   "outputs": [],
   "source": [
    "from sklearn.model_selection import train_test_split\n",
    "\n",
    "X_train_val, X_test, y_train_val, y_test = train_test_split(X, y, random_state=42)"
   ]
  },
  {
   "cell_type": "markdown",
   "metadata": {},
   "source": [
    "Combined pipeline:"
   ]
  },
  {
   "cell_type": "code",
   "execution_count": 122,
   "metadata": {},
   "outputs": [],
   "source": [
    "class ColumnSelector(BaseEstimator, TransformerMixin):\n",
    "    def __init__(self, dtype):\n",
    "        self.dtype = dtype\n",
    "    \n",
    "    def fit(self, X, y=None):\n",
    "        X = X if isinstance(X, pd.DataFrame) else pd.DataFrame(X)\n",
    "        if self.dtype == 'numerical':\n",
    "            self.cols = X.select_dtypes(exclude='O').columns.tolist()\n",
    "        elif self.dtype == 'categorical':\n",
    "            self.cols = X.select_dtypes(include='O').columns.tolist()\n",
    "        self.col_idx = [X.columns.get_loc(col) for col in self.cols]\n",
    "        return self\n",
    "\n",
    "    def transform(self, X):\n",
    "        X = X.values if isinstance(X, pd.DataFrame) else X\n",
    "        return X[:, self.col_idx]"
   ]
  },
  {
   "cell_type": "code",
   "execution_count": 123,
   "metadata": {},
   "outputs": [],
   "source": [
    "from sklearn.impute import SimpleImputer\n",
    "from sklearn.preprocessing import OneHotEncoder\n",
    "from sklearn.pipeline import FeatureUnion\n",
    "\n",
    "\n",
    "combined_num_pipeline = Pipeline([\n",
    "    ('num_selector', ColumnSelector('numerical')),\n",
    "    ('num_imputer', SimpleImputer(strategy='median'))\n",
    "])\n",
    "\n",
    "combined_cat_pipeline = Pipeline([\n",
    "    ('cat_selector', ColumnSelector('categorical')),\n",
    "    ('cat_imputer', SimpleImputer(strategy='constant', fill_value='Unknown')),\n",
    "    ('cat_encoder', OneHotEncoder()),\n",
    "])\n",
    "\n",
    "combined_pipeline = FeatureUnion([\n",
    "    ('num_pipe', combined_num_pipeline),\n",
    "    ('cat_pipe', combined_cat_pipeline)\n",
    "])"
   ]
  },
  {
   "cell_type": "code",
   "execution_count": 124,
   "metadata": {},
   "outputs": [
    {
     "data": {
      "text/plain": [
       "<8488x61 sparse matrix of type '<class 'numpy.float64'>'\n",
       "\twith 294810 stored elements in Compressed Sparse Row format>"
      ]
     },
     "execution_count": 124,
     "metadata": {},
     "output_type": "execute_result"
    }
   ],
   "source": [
    "combined_pipeline.fit_transform(X_train_val)"
   ]
  },
  {
   "cell_type": "code",
   "execution_count": null,
   "metadata": {},
   "outputs": [],
   "source": []
  }
 ],
 "metadata": {
  "kernelspec": {
   "display_name": "Python 3 (ipykernel)",
   "language": "python",
   "name": "python3"
  },
  "language_info": {
   "codemirror_mode": {
    "name": "ipython",
    "version": 3
   },
   "file_extension": ".py",
   "mimetype": "text/x-python",
   "name": "python",
   "nbconvert_exporter": "python",
   "pygments_lexer": "ipython3",
   "version": "3.10.12"
  }
 },
 "nbformat": 4,
 "nbformat_minor": 4
}
